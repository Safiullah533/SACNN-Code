{
 "cells": [
  {
   "cell_type": "code",
   "execution_count": 1,
   "metadata": {},
   "outputs": [],
   "source": [
    "import pandas as pd\n",
    "import numpy as np\n",
    "from sklearn.feature_selection import SelectKBest\n",
    "from sklearn.feature_selection import chi2\n",
    "from sklearn.preprocessing import StandardScaler, MinMaxScaler\n",
    "from sklearn.model_selection import train_test_split\n",
    "from sklearn.metrics import accuracy_score, confusion_matrix\n",
    "from sklearn.tree import DecisionTreeClassifier\n",
    "from sklearn.preprocessing import LabelEncoder\n",
    "import time\n",
    "import regex\n",
    "\n",
    "from sklearn.ensemble import ExtraTreesClassifier\n",
    "import matplotlib.pyplot as plt\n",
    "import seaborn as sns"
   ]
  },
  {
   "cell_type": "code",
   "execution_count": 2,
   "metadata": {},
   "outputs": [],
   "source": [
    "df = pd.read_csv(r\"G:\\Datasets\\Edge-IIoTset dataset\\Selected dataset for ML and DL\\ML-EdgeIIoT-dataset.csv\", low_memory=False)"
   ]
  },
  {
   "cell_type": "code",
   "execution_count": 3,
   "metadata": {},
   "outputs": [],
   "source": [
    "pd.set_option(\"display.max.rows\", None)\n",
    "pd.set_option('display.max_columns', None)"
   ]
  },
  {
   "cell_type": "code",
   "execution_count": 4,
   "metadata": {
    "scrolled": true
   },
   "outputs": [
    {
     "data": {
      "text/plain": [
       "frame.time                    object\n",
       "ip.src_host                   object\n",
       "ip.dst_host                   object\n",
       "arp.dst.proto_ipv4            object\n",
       "arp.opcode                   float64\n",
       "arp.hw.size                  float64\n",
       "arp.src.proto_ipv4            object\n",
       "icmp.checksum                float64\n",
       "icmp.seq_le                  float64\n",
       "icmp.transmit_timestamp      float64\n",
       "icmp.unused                  float64\n",
       "http.file_data                object\n",
       "http.content_length          float64\n",
       "http.request.uri.query        object\n",
       "http.request.method           object\n",
       "http.referer                  object\n",
       "http.request.full_uri         object\n",
       "http.request.version          object\n",
       "http.response                float64\n",
       "http.tls_port                float64\n",
       "tcp.ack                      float64\n",
       "tcp.ack_raw                  float64\n",
       "tcp.checksum                 float64\n",
       "tcp.connection.fin           float64\n",
       "tcp.connection.rst           float64\n",
       "tcp.connection.syn           float64\n",
       "tcp.connection.synack        float64\n",
       "tcp.dstport                  float64\n",
       "tcp.flags                    float64\n",
       "tcp.flags.ack                float64\n",
       "tcp.len                      float64\n",
       "tcp.options                   object\n",
       "tcp.payload                   object\n",
       "tcp.seq                      float64\n",
       "tcp.srcport                   object\n",
       "udp.port                     float64\n",
       "udp.stream                   float64\n",
       "udp.time_delta               float64\n",
       "dns.qry.name                 float64\n",
       "dns.qry.name.len              object\n",
       "dns.qry.qu                   float64\n",
       "dns.qry.type                 float64\n",
       "dns.retransmission           float64\n",
       "dns.retransmit_request       float64\n",
       "dns.retransmit_request_in    float64\n",
       "mqtt.conack.flags             object\n",
       "mqtt.conflag.cleansess       float64\n",
       "mqtt.conflags                float64\n",
       "mqtt.hdrflags                float64\n",
       "mqtt.len                     float64\n",
       "mqtt.msg_decoded_as          float64\n",
       "mqtt.msg                      object\n",
       "mqtt.msgtype                 float64\n",
       "mqtt.proto_len               float64\n",
       "mqtt.protoname                object\n",
       "mqtt.topic                    object\n",
       "mqtt.topic_len               float64\n",
       "mqtt.ver                     float64\n",
       "mbtcp.len                    float64\n",
       "mbtcp.trans_id               float64\n",
       "mbtcp.unit_id                float64\n",
       "Attack_label                   int64\n",
       "Attack_type                   object\n",
       "dtype: object"
      ]
     },
     "execution_count": 4,
     "metadata": {},
     "output_type": "execute_result"
    }
   ],
   "source": [
    "df.dtypes"
   ]
  },
  {
   "cell_type": "code",
   "execution_count": 5,
   "metadata": {},
   "outputs": [
    {
     "data": {
      "text/plain": [
       "Normal                   24301\n",
       "DDoS_UDP                 14498\n",
       "DDoS_ICMP                14090\n",
       "Ransomware               10925\n",
       "DDoS_HTTP                10561\n",
       "SQL_injection            10311\n",
       "Uploading                10269\n",
       "DDoS_TCP                 10247\n",
       "Backdoor                 10195\n",
       "Vulnerability_scanner    10076\n",
       "Port_Scanning            10071\n",
       "XSS                      10052\n",
       "Password                  9989\n",
       "MITM                      1214\n",
       "Fingerprinting            1001\n",
       "Name: Attack_type, dtype: int64"
      ]
     },
     "execution_count": 5,
     "metadata": {},
     "output_type": "execute_result"
    }
   ],
   "source": [
    "df['Attack_type'].value_counts()"
   ]
  },
  {
   "cell_type": "code",
   "execution_count": null,
   "metadata": {},
   "outputs": [],
   "source": []
  },
  {
   "cell_type": "code",
   "execution_count": 6,
   "metadata": {},
   "outputs": [],
   "source": [
    "df['Attack_type'] = df['Attack_type'].str.replace('DDoS_UDP','ddos')\n",
    "df['Attack_type'] = df['Attack_type'].str.replace('DDoS_ICMP','ddos')\n",
    "df['Attack_type'] = df['Attack_type'].str.replace('DDoS_TCP','ddos')\n",
    "df['Attack_type'] = df['Attack_type'].str.replace('DDoS_HTTP','ddos')"
   ]
  },
  {
   "cell_type": "code",
   "execution_count": 7,
   "metadata": {},
   "outputs": [],
   "source": [
    "df['Attack_type'] = df['Attack_type'].str.replace('XSS','injection')\n",
    "df['Attack_type'] = df['Attack_type'].str.replace('SQL_injection','injection')\n",
    "df['Attack_type'] = df['Attack_type'].str.replace('Uploading','injection')"
   ]
  },
  {
   "cell_type": "code",
   "execution_count": 8,
   "metadata": {},
   "outputs": [],
   "source": [
    "df['Attack_type'] = df['Attack_type'].str.replace('MITM','mitm')"
   ]
  },
  {
   "cell_type": "code",
   "execution_count": 9,
   "metadata": {},
   "outputs": [],
   "source": [
    "df['Attack_type'] = df['Attack_type'].str.replace('Password','malware')\n",
    "df['Attack_type'] = df['Attack_type'].str.replace('Backdoor','malware')\n",
    "df['Attack_type'] = df['Attack_type'].str.replace('Ransomware','malware')"
   ]
  },
  {
   "cell_type": "code",
   "execution_count": 10,
   "metadata": {},
   "outputs": [],
   "source": [
    "df['Attack_type'] = df['Attack_type'].str.replace('Port_Scanning','scanning')\n",
    "df['Attack_type'] = df['Attack_type'].str.replace('Fingerprinting','scanning')\n",
    "df['Attack_type'] = df['Attack_type'].str.replace('Vulnerability_scanner','scanning')"
   ]
  },
  {
   "cell_type": "code",
   "execution_count": null,
   "metadata": {},
   "outputs": [],
   "source": []
  },
  {
   "cell_type": "code",
   "execution_count": 11,
   "metadata": {},
   "outputs": [
    {
     "data": {
      "text/plain": [
       "ddos         49396\n",
       "malware      31109\n",
       "injection    30632\n",
       "Normal       24301\n",
       "scanning     21148\n",
       "mitm          1214\n",
       "Name: Attack_type, dtype: int64"
      ]
     },
     "execution_count": 11,
     "metadata": {},
     "output_type": "execute_result"
    }
   ],
   "source": [
    "df['Attack_type'].value_counts()"
   ]
  },
  {
   "cell_type": "code",
   "execution_count": 12,
   "metadata": {},
   "outputs": [],
   "source": [
    "df=df.sample(frac = 1)"
   ]
  },
  {
   "cell_type": "code",
   "execution_count": 13,
   "metadata": {},
   "outputs": [],
   "source": [
    "label_encoder = LabelEncoder()"
   ]
  },
  {
   "cell_type": "code",
   "execution_count": 14,
   "metadata": {},
   "outputs": [],
   "source": [
    "df['Attack_type'] = label_encoder.fit_transform(df['Attack_type'])\n",
    "df['Attack_type'] = df['Attack_type'].astype(int)"
   ]
  },
  {
   "cell_type": "code",
   "execution_count": 15,
   "metadata": {},
   "outputs": [
    {
     "name": "stdout",
     "output_type": "stream",
     "text": [
      "float64\n",
      "float64\n",
      "float64\n",
      "float64\n",
      "float64\n",
      "float64\n",
      "float64\n",
      "float64\n",
      "float64\n",
      "float64\n",
      "float64\n",
      "float64\n",
      "float64\n",
      "float64\n",
      "float64\n",
      "float64\n",
      "float64\n",
      "float64\n",
      "float64\n",
      "float64\n",
      "float64\n",
      "float64\n",
      "float64\n",
      "float64\n",
      "float64\n",
      "float64\n",
      "float64\n",
      "float64\n",
      "float64\n",
      "float64\n",
      "float64\n",
      "float64\n",
      "float64\n",
      "float64\n",
      "float64\n",
      "float64\n",
      "float64\n",
      "float64\n",
      "float64\n",
      "float64\n",
      "float64\n",
      "float64\n",
      "float64\n",
      "float64\n",
      "float64\n",
      "float64\n",
      "float64\n",
      "float64\n",
      "float64\n",
      "float64\n",
      "float64\n",
      "float64\n",
      "float64\n",
      "float64\n",
      "float64\n",
      "float64\n",
      "float64\n",
      "float64\n",
      "float64\n",
      "float64\n",
      "float64\n",
      "int64\n",
      "int32\n"
     ]
    }
   ],
   "source": [
    "for i in df.columns:\n",
    "    if(df[i].dtypes == object):\n",
    "        df[i] = label_encoder.fit_transform(df[i])\n",
    "        df[i] = df[i].astype(float)\n",
    "    print(df[i].dtypes)"
   ]
  },
  {
   "cell_type": "code",
   "execution_count": 16,
   "metadata": {},
   "outputs": [],
   "source": [
    "X = df.drop(columns=['Attack_type','Attack_label'])\n",
    "y = df['Attack_label']\n",
    "y1 = df['Attack_type']"
   ]
  },
  {
   "cell_type": "code",
   "execution_count": 17,
   "metadata": {},
   "outputs": [
    {
     "data": {
      "text/plain": [
       "frame.time                   float64\n",
       "ip.src_host                  float64\n",
       "ip.dst_host                  float64\n",
       "arp.dst.proto_ipv4           float64\n",
       "arp.opcode                   float64\n",
       "arp.hw.size                  float64\n",
       "arp.src.proto_ipv4           float64\n",
       "icmp.checksum                float64\n",
       "icmp.seq_le                  float64\n",
       "icmp.transmit_timestamp      float64\n",
       "icmp.unused                  float64\n",
       "http.file_data               float64\n",
       "http.content_length          float64\n",
       "http.request.uri.query       float64\n",
       "http.request.method          float64\n",
       "http.referer                 float64\n",
       "http.request.full_uri        float64\n",
       "http.request.version         float64\n",
       "http.response                float64\n",
       "http.tls_port                float64\n",
       "tcp.ack                      float64\n",
       "tcp.ack_raw                  float64\n",
       "tcp.checksum                 float64\n",
       "tcp.connection.fin           float64\n",
       "tcp.connection.rst           float64\n",
       "tcp.connection.syn           float64\n",
       "tcp.connection.synack        float64\n",
       "tcp.dstport                  float64\n",
       "tcp.flags                    float64\n",
       "tcp.flags.ack                float64\n",
       "tcp.len                      float64\n",
       "tcp.options                  float64\n",
       "tcp.payload                  float64\n",
       "tcp.seq                      float64\n",
       "tcp.srcport                  float64\n",
       "udp.port                     float64\n",
       "udp.stream                   float64\n",
       "udp.time_delta               float64\n",
       "dns.qry.name                 float64\n",
       "dns.qry.name.len             float64\n",
       "dns.qry.qu                   float64\n",
       "dns.qry.type                 float64\n",
       "dns.retransmission           float64\n",
       "dns.retransmit_request       float64\n",
       "dns.retransmit_request_in    float64\n",
       "mqtt.conack.flags            float64\n",
       "mqtt.conflag.cleansess       float64\n",
       "mqtt.conflags                float64\n",
       "mqtt.hdrflags                float64\n",
       "mqtt.len                     float64\n",
       "mqtt.msg_decoded_as          float64\n",
       "mqtt.msg                     float64\n",
       "mqtt.msgtype                 float64\n",
       "mqtt.proto_len               float64\n",
       "mqtt.protoname               float64\n",
       "mqtt.topic                   float64\n",
       "mqtt.topic_len               float64\n",
       "mqtt.ver                     float64\n",
       "mbtcp.len                    float64\n",
       "mbtcp.trans_id               float64\n",
       "mbtcp.unit_id                float64\n",
       "dtype: object"
      ]
     },
     "execution_count": 17,
     "metadata": {},
     "output_type": "execute_result"
    }
   ],
   "source": [
    "X.dtypes"
   ]
  },
  {
   "cell_type": "code",
   "execution_count": 18,
   "metadata": {},
   "outputs": [
    {
     "data": {
      "text/plain": [
       "(157800, 61)"
      ]
     },
     "execution_count": 18,
     "metadata": {},
     "output_type": "execute_result"
    }
   ],
   "source": [
    "X.shape"
   ]
  },
  {
   "cell_type": "code",
   "execution_count": 19,
   "metadata": {},
   "outputs": [
    {
     "data": {
      "text/html": [
       "<div>\n",
       "<style scoped>\n",
       "    .dataframe tbody tr th:only-of-type {\n",
       "        vertical-align: middle;\n",
       "    }\n",
       "\n",
       "    .dataframe tbody tr th {\n",
       "        vertical-align: top;\n",
       "    }\n",
       "\n",
       "    .dataframe thead th {\n",
       "        text-align: right;\n",
       "    }\n",
       "</style>\n",
       "<table border=\"1\" class=\"dataframe\">\n",
       "  <thead>\n",
       "    <tr style=\"text-align: right;\">\n",
       "      <th></th>\n",
       "      <th>frame.time</th>\n",
       "      <th>ip.src_host</th>\n",
       "      <th>ip.dst_host</th>\n",
       "      <th>arp.dst.proto_ipv4</th>\n",
       "      <th>arp.opcode</th>\n",
       "      <th>arp.hw.size</th>\n",
       "      <th>arp.src.proto_ipv4</th>\n",
       "      <th>icmp.checksum</th>\n",
       "      <th>icmp.seq_le</th>\n",
       "      <th>icmp.transmit_timestamp</th>\n",
       "      <th>icmp.unused</th>\n",
       "      <th>http.file_data</th>\n",
       "      <th>http.content_length</th>\n",
       "      <th>http.request.uri.query</th>\n",
       "      <th>http.request.method</th>\n",
       "      <th>http.referer</th>\n",
       "      <th>http.request.full_uri</th>\n",
       "      <th>http.request.version</th>\n",
       "      <th>http.response</th>\n",
       "      <th>http.tls_port</th>\n",
       "      <th>tcp.ack</th>\n",
       "      <th>tcp.ack_raw</th>\n",
       "      <th>tcp.checksum</th>\n",
       "      <th>tcp.connection.fin</th>\n",
       "      <th>tcp.connection.rst</th>\n",
       "      <th>tcp.connection.syn</th>\n",
       "      <th>tcp.connection.synack</th>\n",
       "      <th>tcp.dstport</th>\n",
       "      <th>tcp.flags</th>\n",
       "      <th>tcp.flags.ack</th>\n",
       "      <th>tcp.len</th>\n",
       "      <th>tcp.options</th>\n",
       "      <th>tcp.payload</th>\n",
       "      <th>tcp.seq</th>\n",
       "      <th>tcp.srcport</th>\n",
       "      <th>udp.port</th>\n",
       "      <th>udp.stream</th>\n",
       "      <th>udp.time_delta</th>\n",
       "      <th>dns.qry.name</th>\n",
       "      <th>dns.qry.name.len</th>\n",
       "      <th>dns.qry.qu</th>\n",
       "      <th>dns.qry.type</th>\n",
       "      <th>dns.retransmission</th>\n",
       "      <th>dns.retransmit_request</th>\n",
       "      <th>dns.retransmit_request_in</th>\n",
       "      <th>mqtt.conack.flags</th>\n",
       "      <th>mqtt.conflag.cleansess</th>\n",
       "      <th>mqtt.conflags</th>\n",
       "      <th>mqtt.hdrflags</th>\n",
       "      <th>mqtt.len</th>\n",
       "      <th>mqtt.msg_decoded_as</th>\n",
       "      <th>mqtt.msg</th>\n",
       "      <th>mqtt.msgtype</th>\n",
       "      <th>mqtt.proto_len</th>\n",
       "      <th>mqtt.protoname</th>\n",
       "      <th>mqtt.topic</th>\n",
       "      <th>mqtt.topic_len</th>\n",
       "      <th>mqtt.ver</th>\n",
       "      <th>mbtcp.len</th>\n",
       "      <th>mbtcp.trans_id</th>\n",
       "      <th>mbtcp.unit_id</th>\n",
       "    </tr>\n",
       "  </thead>\n",
       "  <tbody>\n",
       "    <tr>\n",
       "      <th>92059</th>\n",
       "      <td>91824.0</td>\n",
       "      <td>8154.0</td>\n",
       "      <td>3506.0</td>\n",
       "      <td>0.0</td>\n",
       "      <td>0.0</td>\n",
       "      <td>0.0</td>\n",
       "      <td>0.0</td>\n",
       "      <td>0.0</td>\n",
       "      <td>0.0</td>\n",
       "      <td>0.0</td>\n",
       "      <td>0.0</td>\n",
       "      <td>2.0</td>\n",
       "      <td>0.0</td>\n",
       "      <td>13.0</td>\n",
       "      <td>1.0</td>\n",
       "      <td>2.0</td>\n",
       "      <td>1.0</td>\n",
       "      <td>3.0</td>\n",
       "      <td>0.0</td>\n",
       "      <td>0.0</td>\n",
       "      <td>1280865.0</td>\n",
       "      <td>2.693336e+09</td>\n",
       "      <td>10194.0</td>\n",
       "      <td>0.0</td>\n",
       "      <td>0.0</td>\n",
       "      <td>0.0</td>\n",
       "      <td>0.0</td>\n",
       "      <td>60210.0</td>\n",
       "      <td>16.0</td>\n",
       "      <td>1.0</td>\n",
       "      <td>0.0</td>\n",
       "      <td>15180.0</td>\n",
       "      <td>0.0</td>\n",
       "      <td>1.0</td>\n",
       "      <td>14154.0</td>\n",
       "      <td>0.0</td>\n",
       "      <td>0.0</td>\n",
       "      <td>0.0</td>\n",
       "      <td>0.0</td>\n",
       "      <td>1.0</td>\n",
       "      <td>0.0</td>\n",
       "      <td>0.0</td>\n",
       "      <td>0.0</td>\n",
       "      <td>0.0</td>\n",
       "      <td>0.0</td>\n",
       "      <td>1.0</td>\n",
       "      <td>0.0</td>\n",
       "      <td>0.0</td>\n",
       "      <td>0.0</td>\n",
       "      <td>0.0</td>\n",
       "      <td>0.0</td>\n",
       "      <td>1.0</td>\n",
       "      <td>0.0</td>\n",
       "      <td>0.0</td>\n",
       "      <td>1.0</td>\n",
       "      <td>1.0</td>\n",
       "      <td>0.0</td>\n",
       "      <td>0.0</td>\n",
       "      <td>0.0</td>\n",
       "      <td>0.0</td>\n",
       "      <td>0.0</td>\n",
       "    </tr>\n",
       "    <tr>\n",
       "      <th>30461</th>\n",
       "      <td>104491.0</td>\n",
       "      <td>8154.0</td>\n",
       "      <td>3506.0</td>\n",
       "      <td>0.0</td>\n",
       "      <td>0.0</td>\n",
       "      <td>0.0</td>\n",
       "      <td>0.0</td>\n",
       "      <td>0.0</td>\n",
       "      <td>0.0</td>\n",
       "      <td>0.0</td>\n",
       "      <td>0.0</td>\n",
       "      <td>2.0</td>\n",
       "      <td>0.0</td>\n",
       "      <td>12.0</td>\n",
       "      <td>0.0</td>\n",
       "      <td>2.0</td>\n",
       "      <td>0.0</td>\n",
       "      <td>2.0</td>\n",
       "      <td>0.0</td>\n",
       "      <td>0.0</td>\n",
       "      <td>0.0</td>\n",
       "      <td>0.000000e+00</td>\n",
       "      <td>58123.0</td>\n",
       "      <td>0.0</td>\n",
       "      <td>0.0</td>\n",
       "      <td>1.0</td>\n",
       "      <td>0.0</td>\n",
       "      <td>80.0</td>\n",
       "      <td>2.0</td>\n",
       "      <td>0.0</td>\n",
       "      <td>0.0</td>\n",
       "      <td>69708.0</td>\n",
       "      <td>0.0</td>\n",
       "      <td>0.0</td>\n",
       "      <td>14045.0</td>\n",
       "      <td>0.0</td>\n",
       "      <td>0.0</td>\n",
       "      <td>0.0</td>\n",
       "      <td>0.0</td>\n",
       "      <td>1.0</td>\n",
       "      <td>0.0</td>\n",
       "      <td>0.0</td>\n",
       "      <td>0.0</td>\n",
       "      <td>0.0</td>\n",
       "      <td>0.0</td>\n",
       "      <td>1.0</td>\n",
       "      <td>0.0</td>\n",
       "      <td>0.0</td>\n",
       "      <td>0.0</td>\n",
       "      <td>0.0</td>\n",
       "      <td>0.0</td>\n",
       "      <td>1.0</td>\n",
       "      <td>0.0</td>\n",
       "      <td>0.0</td>\n",
       "      <td>1.0</td>\n",
       "      <td>1.0</td>\n",
       "      <td>0.0</td>\n",
       "      <td>0.0</td>\n",
       "      <td>0.0</td>\n",
       "      <td>0.0</td>\n",
       "      <td>0.0</td>\n",
       "    </tr>\n",
       "    <tr>\n",
       "      <th>115505</th>\n",
       "      <td>85606.0</td>\n",
       "      <td>0.0</td>\n",
       "      <td>0.0</td>\n",
       "      <td>0.0</td>\n",
       "      <td>0.0</td>\n",
       "      <td>0.0</td>\n",
       "      <td>0.0</td>\n",
       "      <td>0.0</td>\n",
       "      <td>0.0</td>\n",
       "      <td>0.0</td>\n",
       "      <td>0.0</td>\n",
       "      <td>2.0</td>\n",
       "      <td>0.0</td>\n",
       "      <td>13.0</td>\n",
       "      <td>1.0</td>\n",
       "      <td>2.0</td>\n",
       "      <td>1.0</td>\n",
       "      <td>3.0</td>\n",
       "      <td>0.0</td>\n",
       "      <td>0.0</td>\n",
       "      <td>669424.0</td>\n",
       "      <td>2.372294e+09</td>\n",
       "      <td>36531.0</td>\n",
       "      <td>0.0</td>\n",
       "      <td>0.0</td>\n",
       "      <td>0.0</td>\n",
       "      <td>0.0</td>\n",
       "      <td>60944.0</td>\n",
       "      <td>24.0</td>\n",
       "      <td>1.0</td>\n",
       "      <td>1440.0</td>\n",
       "      <td>0.0</td>\n",
       "      <td>3378.0</td>\n",
       "      <td>184892386.0</td>\n",
       "      <td>25779.0</td>\n",
       "      <td>0.0</td>\n",
       "      <td>0.0</td>\n",
       "      <td>0.0</td>\n",
       "      <td>0.0</td>\n",
       "      <td>0.0</td>\n",
       "      <td>0.0</td>\n",
       "      <td>0.0</td>\n",
       "      <td>0.0</td>\n",
       "      <td>0.0</td>\n",
       "      <td>0.0</td>\n",
       "      <td>0.0</td>\n",
       "      <td>0.0</td>\n",
       "      <td>0.0</td>\n",
       "      <td>0.0</td>\n",
       "      <td>0.0</td>\n",
       "      <td>0.0</td>\n",
       "      <td>0.0</td>\n",
       "      <td>0.0</td>\n",
       "      <td>0.0</td>\n",
       "      <td>0.0</td>\n",
       "      <td>0.0</td>\n",
       "      <td>0.0</td>\n",
       "      <td>0.0</td>\n",
       "      <td>0.0</td>\n",
       "      <td>0.0</td>\n",
       "      <td>0.0</td>\n",
       "    </tr>\n",
       "    <tr>\n",
       "      <th>49498</th>\n",
       "      <td>59617.0</td>\n",
       "      <td>17307.0</td>\n",
       "      <td>3506.0</td>\n",
       "      <td>0.0</td>\n",
       "      <td>0.0</td>\n",
       "      <td>0.0</td>\n",
       "      <td>0.0</td>\n",
       "      <td>0.0</td>\n",
       "      <td>0.0</td>\n",
       "      <td>0.0</td>\n",
       "      <td>0.0</td>\n",
       "      <td>2.0</td>\n",
       "      <td>0.0</td>\n",
       "      <td>13.0</td>\n",
       "      <td>1.0</td>\n",
       "      <td>2.0</td>\n",
       "      <td>1.0</td>\n",
       "      <td>3.0</td>\n",
       "      <td>0.0</td>\n",
       "      <td>0.0</td>\n",
       "      <td>828761672.0</td>\n",
       "      <td>8.287617e+08</td>\n",
       "      <td>27833.0</td>\n",
       "      <td>0.0</td>\n",
       "      <td>0.0</td>\n",
       "      <td>1.0</td>\n",
       "      <td>0.0</td>\n",
       "      <td>80.0</td>\n",
       "      <td>2.0</td>\n",
       "      <td>0.0</td>\n",
       "      <td>120.0</td>\n",
       "      <td>1.0</td>\n",
       "      <td>19940.0</td>\n",
       "      <td>0.0</td>\n",
       "      <td>13798.0</td>\n",
       "      <td>0.0</td>\n",
       "      <td>0.0</td>\n",
       "      <td>0.0</td>\n",
       "      <td>0.0</td>\n",
       "      <td>1.0</td>\n",
       "      <td>0.0</td>\n",
       "      <td>0.0</td>\n",
       "      <td>0.0</td>\n",
       "      <td>0.0</td>\n",
       "      <td>0.0</td>\n",
       "      <td>1.0</td>\n",
       "      <td>0.0</td>\n",
       "      <td>0.0</td>\n",
       "      <td>0.0</td>\n",
       "      <td>0.0</td>\n",
       "      <td>0.0</td>\n",
       "      <td>1.0</td>\n",
       "      <td>0.0</td>\n",
       "      <td>0.0</td>\n",
       "      <td>1.0</td>\n",
       "      <td>1.0</td>\n",
       "      <td>0.0</td>\n",
       "      <td>0.0</td>\n",
       "      <td>0.0</td>\n",
       "      <td>0.0</td>\n",
       "      <td>0.0</td>\n",
       "    </tr>\n",
       "    <tr>\n",
       "      <th>51999</th>\n",
       "      <td>62553.0</td>\n",
       "      <td>9349.0</td>\n",
       "      <td>3506.0</td>\n",
       "      <td>0.0</td>\n",
       "      <td>0.0</td>\n",
       "      <td>0.0</td>\n",
       "      <td>0.0</td>\n",
       "      <td>0.0</td>\n",
       "      <td>0.0</td>\n",
       "      <td>0.0</td>\n",
       "      <td>0.0</td>\n",
       "      <td>2.0</td>\n",
       "      <td>0.0</td>\n",
       "      <td>13.0</td>\n",
       "      <td>1.0</td>\n",
       "      <td>2.0</td>\n",
       "      <td>1.0</td>\n",
       "      <td>3.0</td>\n",
       "      <td>0.0</td>\n",
       "      <td>0.0</td>\n",
       "      <td>828696699.0</td>\n",
       "      <td>8.286967e+08</td>\n",
       "      <td>509.0</td>\n",
       "      <td>0.0</td>\n",
       "      <td>0.0</td>\n",
       "      <td>1.0</td>\n",
       "      <td>0.0</td>\n",
       "      <td>80.0</td>\n",
       "      <td>2.0</td>\n",
       "      <td>0.0</td>\n",
       "      <td>120.0</td>\n",
       "      <td>1.0</td>\n",
       "      <td>19940.0</td>\n",
       "      <td>0.0</td>\n",
       "      <td>2835.0</td>\n",
       "      <td>0.0</td>\n",
       "      <td>0.0</td>\n",
       "      <td>0.0</td>\n",
       "      <td>0.0</td>\n",
       "      <td>1.0</td>\n",
       "      <td>0.0</td>\n",
       "      <td>0.0</td>\n",
       "      <td>0.0</td>\n",
       "      <td>0.0</td>\n",
       "      <td>0.0</td>\n",
       "      <td>1.0</td>\n",
       "      <td>0.0</td>\n",
       "      <td>0.0</td>\n",
       "      <td>0.0</td>\n",
       "      <td>0.0</td>\n",
       "      <td>0.0</td>\n",
       "      <td>1.0</td>\n",
       "      <td>0.0</td>\n",
       "      <td>0.0</td>\n",
       "      <td>1.0</td>\n",
       "      <td>1.0</td>\n",
       "      <td>0.0</td>\n",
       "      <td>0.0</td>\n",
       "      <td>0.0</td>\n",
       "      <td>0.0</td>\n",
       "      <td>0.0</td>\n",
       "    </tr>\n",
       "  </tbody>\n",
       "</table>\n",
       "</div>"
      ],
      "text/plain": [
       "        frame.time  ip.src_host  ip.dst_host  arp.dst.proto_ipv4  arp.opcode  \\\n",
       "92059      91824.0       8154.0       3506.0                 0.0         0.0   \n",
       "30461     104491.0       8154.0       3506.0                 0.0         0.0   \n",
       "115505     85606.0          0.0          0.0                 0.0         0.0   \n",
       "49498      59617.0      17307.0       3506.0                 0.0         0.0   \n",
       "51999      62553.0       9349.0       3506.0                 0.0         0.0   \n",
       "\n",
       "        arp.hw.size  arp.src.proto_ipv4  icmp.checksum  icmp.seq_le  \\\n",
       "92059           0.0                 0.0            0.0          0.0   \n",
       "30461           0.0                 0.0            0.0          0.0   \n",
       "115505          0.0                 0.0            0.0          0.0   \n",
       "49498           0.0                 0.0            0.0          0.0   \n",
       "51999           0.0                 0.0            0.0          0.0   \n",
       "\n",
       "        icmp.transmit_timestamp  icmp.unused  http.file_data  \\\n",
       "92059                       0.0          0.0             2.0   \n",
       "30461                       0.0          0.0             2.0   \n",
       "115505                      0.0          0.0             2.0   \n",
       "49498                       0.0          0.0             2.0   \n",
       "51999                       0.0          0.0             2.0   \n",
       "\n",
       "        http.content_length  http.request.uri.query  http.request.method  \\\n",
       "92059                   0.0                    13.0                  1.0   \n",
       "30461                   0.0                    12.0                  0.0   \n",
       "115505                  0.0                    13.0                  1.0   \n",
       "49498                   0.0                    13.0                  1.0   \n",
       "51999                   0.0                    13.0                  1.0   \n",
       "\n",
       "        http.referer  http.request.full_uri  http.request.version  \\\n",
       "92059            2.0                    1.0                   3.0   \n",
       "30461            2.0                    0.0                   2.0   \n",
       "115505           2.0                    1.0                   3.0   \n",
       "49498            2.0                    1.0                   3.0   \n",
       "51999            2.0                    1.0                   3.0   \n",
       "\n",
       "        http.response  http.tls_port      tcp.ack   tcp.ack_raw  tcp.checksum  \\\n",
       "92059             0.0            0.0    1280865.0  2.693336e+09       10194.0   \n",
       "30461             0.0            0.0          0.0  0.000000e+00       58123.0   \n",
       "115505            0.0            0.0     669424.0  2.372294e+09       36531.0   \n",
       "49498             0.0            0.0  828761672.0  8.287617e+08       27833.0   \n",
       "51999             0.0            0.0  828696699.0  8.286967e+08         509.0   \n",
       "\n",
       "        tcp.connection.fin  tcp.connection.rst  tcp.connection.syn  \\\n",
       "92059                  0.0                 0.0                 0.0   \n",
       "30461                  0.0                 0.0                 1.0   \n",
       "115505                 0.0                 0.0                 0.0   \n",
       "49498                  0.0                 0.0                 1.0   \n",
       "51999                  0.0                 0.0                 1.0   \n",
       "\n",
       "        tcp.connection.synack  tcp.dstport  tcp.flags  tcp.flags.ack  tcp.len  \\\n",
       "92059                     0.0      60210.0       16.0            1.0      0.0   \n",
       "30461                     0.0         80.0        2.0            0.0      0.0   \n",
       "115505                    0.0      60944.0       24.0            1.0   1440.0   \n",
       "49498                     0.0         80.0        2.0            0.0    120.0   \n",
       "51999                     0.0         80.0        2.0            0.0    120.0   \n",
       "\n",
       "        tcp.options  tcp.payload      tcp.seq  tcp.srcport  udp.port  \\\n",
       "92059       15180.0          0.0          1.0      14154.0       0.0   \n",
       "30461       69708.0          0.0          0.0      14045.0       0.0   \n",
       "115505          0.0       3378.0  184892386.0      25779.0       0.0   \n",
       "49498           1.0      19940.0          0.0      13798.0       0.0   \n",
       "51999           1.0      19940.0          0.0       2835.0       0.0   \n",
       "\n",
       "        udp.stream  udp.time_delta  dns.qry.name  dns.qry.name.len  \\\n",
       "92059          0.0             0.0           0.0               1.0   \n",
       "30461          0.0             0.0           0.0               1.0   \n",
       "115505         0.0             0.0           0.0               0.0   \n",
       "49498          0.0             0.0           0.0               1.0   \n",
       "51999          0.0             0.0           0.0               1.0   \n",
       "\n",
       "        dns.qry.qu  dns.qry.type  dns.retransmission  dns.retransmit_request  \\\n",
       "92059          0.0           0.0                 0.0                     0.0   \n",
       "30461          0.0           0.0                 0.0                     0.0   \n",
       "115505         0.0           0.0                 0.0                     0.0   \n",
       "49498          0.0           0.0                 0.0                     0.0   \n",
       "51999          0.0           0.0                 0.0                     0.0   \n",
       "\n",
       "        dns.retransmit_request_in  mqtt.conack.flags  mqtt.conflag.cleansess  \\\n",
       "92059                         0.0                1.0                     0.0   \n",
       "30461                         0.0                1.0                     0.0   \n",
       "115505                        0.0                0.0                     0.0   \n",
       "49498                         0.0                1.0                     0.0   \n",
       "51999                         0.0                1.0                     0.0   \n",
       "\n",
       "        mqtt.conflags  mqtt.hdrflags  mqtt.len  mqtt.msg_decoded_as  mqtt.msg  \\\n",
       "92059             0.0            0.0       0.0                  0.0       1.0   \n",
       "30461             0.0            0.0       0.0                  0.0       1.0   \n",
       "115505            0.0            0.0       0.0                  0.0       0.0   \n",
       "49498             0.0            0.0       0.0                  0.0       1.0   \n",
       "51999             0.0            0.0       0.0                  0.0       1.0   \n",
       "\n",
       "        mqtt.msgtype  mqtt.proto_len  mqtt.protoname  mqtt.topic  \\\n",
       "92059            0.0             0.0             1.0         1.0   \n",
       "30461            0.0             0.0             1.0         1.0   \n",
       "115505           0.0             0.0             0.0         0.0   \n",
       "49498            0.0             0.0             1.0         1.0   \n",
       "51999            0.0             0.0             1.0         1.0   \n",
       "\n",
       "        mqtt.topic_len  mqtt.ver  mbtcp.len  mbtcp.trans_id  mbtcp.unit_id  \n",
       "92059              0.0       0.0        0.0             0.0            0.0  \n",
       "30461              0.0       0.0        0.0             0.0            0.0  \n",
       "115505             0.0       0.0        0.0             0.0            0.0  \n",
       "49498              0.0       0.0        0.0             0.0            0.0  \n",
       "51999              0.0       0.0        0.0             0.0            0.0  "
      ]
     },
     "execution_count": 19,
     "metadata": {},
     "output_type": "execute_result"
    }
   ],
   "source": [
    "X.head()"
   ]
  },
  {
   "cell_type": "code",
   "execution_count": 1,
   "metadata": {},
   "outputs": [
    {
     "ename": "NameError",
     "evalue": "name 'ExtraTreesClassifier' is not defined",
     "output_type": "error",
     "traceback": [
      "\u001b[1;31m---------------------------------------------------------------------------\u001b[0m",
      "\u001b[1;31mNameError\u001b[0m                                 Traceback (most recent call last)",
      "\u001b[1;32m<ipython-input-1-48b717f05191>\u001b[0m in \u001b[0;36m<module>\u001b[1;34m\u001b[0m\n\u001b[1;32m----> 1\u001b[1;33m \u001b[0mmodel\u001b[0m \u001b[1;33m=\u001b[0m \u001b[0mExtraTreesClassifier\u001b[0m\u001b[1;33m(\u001b[0m\u001b[1;33m)\u001b[0m\u001b[1;33m\u001b[0m\u001b[1;33m\u001b[0m\u001b[0m\n\u001b[0m",
      "\u001b[1;31mNameError\u001b[0m: name 'ExtraTreesClassifier' is not defined"
     ]
    }
   ],
   "source": [
    "model = ExtraTreesClassifier()"
   ]
  },
  {
   "cell_type": "code",
   "execution_count": 21,
   "metadata": {},
   "outputs": [
    {
     "data": {
      "text/html": [
       "<style>#sk-container-id-1 {color: black;background-color: white;}#sk-container-id-1 pre{padding: 0;}#sk-container-id-1 div.sk-toggleable {background-color: white;}#sk-container-id-1 label.sk-toggleable__label {cursor: pointer;display: block;width: 100%;margin-bottom: 0;padding: 0.3em;box-sizing: border-box;text-align: center;}#sk-container-id-1 label.sk-toggleable__label-arrow:before {content: \"▸\";float: left;margin-right: 0.25em;color: #696969;}#sk-container-id-1 label.sk-toggleable__label-arrow:hover:before {color: black;}#sk-container-id-1 div.sk-estimator:hover label.sk-toggleable__label-arrow:before {color: black;}#sk-container-id-1 div.sk-toggleable__content {max-height: 0;max-width: 0;overflow: hidden;text-align: left;background-color: #f0f8ff;}#sk-container-id-1 div.sk-toggleable__content pre {margin: 0.2em;color: black;border-radius: 0.25em;background-color: #f0f8ff;}#sk-container-id-1 input.sk-toggleable__control:checked~div.sk-toggleable__content {max-height: 200px;max-width: 100%;overflow: auto;}#sk-container-id-1 input.sk-toggleable__control:checked~label.sk-toggleable__label-arrow:before {content: \"▾\";}#sk-container-id-1 div.sk-estimator input.sk-toggleable__control:checked~label.sk-toggleable__label {background-color: #d4ebff;}#sk-container-id-1 div.sk-label input.sk-toggleable__control:checked~label.sk-toggleable__label {background-color: #d4ebff;}#sk-container-id-1 input.sk-hidden--visually {border: 0;clip: rect(1px 1px 1px 1px);clip: rect(1px, 1px, 1px, 1px);height: 1px;margin: -1px;overflow: hidden;padding: 0;position: absolute;width: 1px;}#sk-container-id-1 div.sk-estimator {font-family: monospace;background-color: #f0f8ff;border: 1px dotted black;border-radius: 0.25em;box-sizing: border-box;margin-bottom: 0.5em;}#sk-container-id-1 div.sk-estimator:hover {background-color: #d4ebff;}#sk-container-id-1 div.sk-parallel-item::after {content: \"\";width: 100%;border-bottom: 1px solid gray;flex-grow: 1;}#sk-container-id-1 div.sk-label:hover label.sk-toggleable__label {background-color: #d4ebff;}#sk-container-id-1 div.sk-serial::before {content: \"\";position: absolute;border-left: 1px solid gray;box-sizing: border-box;top: 0;bottom: 0;left: 50%;z-index: 0;}#sk-container-id-1 div.sk-serial {display: flex;flex-direction: column;align-items: center;background-color: white;padding-right: 0.2em;padding-left: 0.2em;position: relative;}#sk-container-id-1 div.sk-item {position: relative;z-index: 1;}#sk-container-id-1 div.sk-parallel {display: flex;align-items: stretch;justify-content: center;background-color: white;position: relative;}#sk-container-id-1 div.sk-item::before, #sk-container-id-1 div.sk-parallel-item::before {content: \"\";position: absolute;border-left: 1px solid gray;box-sizing: border-box;top: 0;bottom: 0;left: 50%;z-index: -1;}#sk-container-id-1 div.sk-parallel-item {display: flex;flex-direction: column;z-index: 1;position: relative;background-color: white;}#sk-container-id-1 div.sk-parallel-item:first-child::after {align-self: flex-end;width: 50%;}#sk-container-id-1 div.sk-parallel-item:last-child::after {align-self: flex-start;width: 50%;}#sk-container-id-1 div.sk-parallel-item:only-child::after {width: 0;}#sk-container-id-1 div.sk-dashed-wrapped {border: 1px dashed gray;margin: 0 0.4em 0.5em 0.4em;box-sizing: border-box;padding-bottom: 0.4em;background-color: white;}#sk-container-id-1 div.sk-label label {font-family: monospace;font-weight: bold;display: inline-block;line-height: 1.2em;}#sk-container-id-1 div.sk-label-container {text-align: center;}#sk-container-id-1 div.sk-container {/* jupyter's `normalize.less` sets `[hidden] { display: none; }` but bootstrap.min.css set `[hidden] { display: none !important; }` so we also need the `!important` here to be able to override the default hidden behavior on the sphinx rendered scikit-learn.org. See: https://github.com/scikit-learn/scikit-learn/issues/21755 */display: inline-block !important;position: relative;}#sk-container-id-1 div.sk-text-repr-fallback {display: none;}</style><div id=\"sk-container-id-1\" class=\"sk-top-container\"><div class=\"sk-text-repr-fallback\"><pre>ExtraTreesClassifier()</pre><b>In a Jupyter environment, please rerun this cell to show the HTML representation or trust the notebook. <br />On GitHub, the HTML representation is unable to render, please try loading this page with nbviewer.org.</b></div><div class=\"sk-container\" hidden><div class=\"sk-item\"><div class=\"sk-estimator sk-toggleable\"><input class=\"sk-toggleable__control sk-hidden--visually\" id=\"sk-estimator-id-1\" type=\"checkbox\" checked><label for=\"sk-estimator-id-1\" class=\"sk-toggleable__label sk-toggleable__label-arrow\">ExtraTreesClassifier</label><div class=\"sk-toggleable__content\"><pre>ExtraTreesClassifier()</pre></div></div></div></div></div>"
      ],
      "text/plain": [
       "ExtraTreesClassifier()"
      ]
     },
     "execution_count": 21,
     "metadata": {},
     "output_type": "execute_result"
    }
   ],
   "source": [
    "model.fit(X1,y1)"
   ]
  },
  {
   "cell_type": "code",
   "execution_count": 22,
   "metadata": {},
   "outputs": [
    {
     "name": "stdout",
     "output_type": "stream",
     "text": [
      "ok\n",
      "ok\n",
      "ok\n",
      "ok\n",
      "ok\n",
      "ok\n",
      "ok\n",
      "ok\n",
      "ok\n",
      "ok\n",
      "ok\n",
      "[3.26129229e-03 7.29307090e-03 1.74893482e-03 2.31427929e-05\n",
      " 2.84556910e-06 8.80193259e-07 8.61449390e-04 3.73825900e-04\n",
      " 7.59859094e-04 0.00000000e+00 0.00000000e+00 2.02125541e-04\n",
      " 1.23687454e-04 1.12313355e-05 7.52954404e-03 2.25618138e-03\n",
      " 5.63666649e-04 8.50895249e-03 1.00532420e-04 0.00000000e+00\n",
      " 5.20467034e-05 9.95745269e-04 1.50637702e-03 2.97954295e-04\n",
      " 4.10193187e-03 9.41832290e-04 1.44412916e-03 1.59302989e-02\n",
      " 4.22418611e-03 7.34758359e-03 1.08360338e-03 1.01809153e-02\n",
      " 1.37720286e-03 6.78990789e-03 5.32586428e-03 2.67451020e-05\n",
      " 1.76741922e-04 2.48117641e-05 1.45439557e-05 9.74415531e-02\n",
      " 0.00000000e+00 0.00000000e+00 1.94106121e-06 0.00000000e+00\n",
      " 0.00000000e+00 1.74603915e-01 4.54602989e-03 4.43252020e-03\n",
      " 2.02927935e-02 1.15724548e-02 0.00000000e+00 9.11222199e-02\n",
      " 2.19874748e-02 4.34592481e-03 2.45750420e-01 2.18555491e-01\n",
      " 3.91752240e-03 5.96609533e-03 0.00000000e+00 0.00000000e+00\n",
      " 0.00000000e+00]\n"
     ]
    }
   ],
   "source": [
    "for i in model.feature_importances_:\n",
    "    if i <= 0:\n",
    "        print('ok')\n",
    "print(model.feature_importances_)"
   ]
  },
  {
   "cell_type": "code",
   "execution_count": 23,
   "metadata": {},
   "outputs": [],
   "source": [
    "feat_importances = pd.Series(model.feature_importances_, index=X.columns)"
   ]
  },
  {
   "cell_type": "code",
   "execution_count": 24,
   "metadata": {},
   "outputs": [
    {
     "data": {
      "text/plain": [
       "frame.time                   3.261292e-03\n",
       "ip.src_host                  7.293071e-03\n",
       "ip.dst_host                  1.748935e-03\n",
       "arp.dst.proto_ipv4           2.314279e-05\n",
       "arp.opcode                   2.845569e-06\n",
       "arp.hw.size                  8.801933e-07\n",
       "arp.src.proto_ipv4           8.614494e-04\n",
       "icmp.checksum                3.738259e-04\n",
       "icmp.seq_le                  7.598591e-04\n",
       "icmp.transmit_timestamp      0.000000e+00\n",
       "icmp.unused                  0.000000e+00\n",
       "http.file_data               2.021255e-04\n",
       "http.content_length          1.236875e-04\n",
       "http.request.uri.query       1.123134e-05\n",
       "http.request.method          7.529544e-03\n",
       "http.referer                 2.256181e-03\n",
       "http.request.full_uri        5.636666e-04\n",
       "http.request.version         8.508952e-03\n",
       "http.response                1.005324e-04\n",
       "http.tls_port                0.000000e+00\n",
       "tcp.ack                      5.204670e-05\n",
       "tcp.ack_raw                  9.957453e-04\n",
       "tcp.checksum                 1.506377e-03\n",
       "tcp.connection.fin           2.979543e-04\n",
       "tcp.connection.rst           4.101932e-03\n",
       "tcp.connection.syn           9.418323e-04\n",
       "tcp.connection.synack        1.444129e-03\n",
       "tcp.dstport                  1.593030e-02\n",
       "tcp.flags                    4.224186e-03\n",
       "tcp.flags.ack                7.347584e-03\n",
       "tcp.len                      1.083603e-03\n",
       "tcp.options                  1.018092e-02\n",
       "tcp.payload                  1.377203e-03\n",
       "tcp.seq                      6.789908e-03\n",
       "tcp.srcport                  5.325864e-03\n",
       "udp.port                     2.674510e-05\n",
       "udp.stream                   1.767419e-04\n",
       "udp.time_delta               2.481176e-05\n",
       "dns.qry.name                 1.454396e-05\n",
       "dns.qry.name.len             9.744155e-02\n",
       "dns.qry.qu                   0.000000e+00\n",
       "dns.qry.type                 0.000000e+00\n",
       "dns.retransmission           1.941061e-06\n",
       "dns.retransmit_request       0.000000e+00\n",
       "dns.retransmit_request_in    0.000000e+00\n",
       "mqtt.conack.flags            1.746039e-01\n",
       "mqtt.conflag.cleansess       4.546030e-03\n",
       "mqtt.conflags                4.432520e-03\n",
       "mqtt.hdrflags                2.029279e-02\n",
       "mqtt.len                     1.157245e-02\n",
       "mqtt.msg_decoded_as          0.000000e+00\n",
       "mqtt.msg                     9.112222e-02\n",
       "mqtt.msgtype                 2.198747e-02\n",
       "mqtt.proto_len               4.345925e-03\n",
       "mqtt.protoname               2.457504e-01\n",
       "mqtt.topic                   2.185555e-01\n",
       "mqtt.topic_len               3.917522e-03\n",
       "mqtt.ver                     5.966095e-03\n",
       "mbtcp.len                    0.000000e+00\n",
       "mbtcp.trans_id               0.000000e+00\n",
       "mbtcp.unit_id                0.000000e+00\n",
       "dtype: float64"
      ]
     },
     "execution_count": 24,
     "metadata": {},
     "output_type": "execute_result"
    }
   ],
   "source": [
    "feat_importances"
   ]
  },
  {
   "cell_type": "code",
   "execution_count": 25,
   "metadata": {},
   "outputs": [
    {
     "data": {
      "text/plain": [
       "<AxesSubplot:>"
      ]
     },
     "execution_count": 25,
     "metadata": {},
     "output_type": "execute_result"
    },
    {
     "data": {
      "image/png": "[encoded data removed]",
      "text/plain": [
       "<Figure size 1440x1080 with 1 Axes>"
      ]
     },
     "metadata": {
      "needs_background": "light"
     },
     "output_type": "display_data"
    }
   ],
   "source": [
    "feat_importances.nlargest(80).plot(kind='barh',figsize=(20, 15)) "
   ]
  },
  {
   "cell_type": "code",
   "execution_count": 26,
   "metadata": {},
   "outputs": [
    {
     "data": {
      "text/plain": [
       "1    49396\n",
       "3    31109\n",
       "2    30632\n",
       "0    24301\n",
       "5    21148\n",
       "4     1214\n",
       "Name: Attack_type, dtype: int64"
      ]
     },
     "execution_count": 26,
     "metadata": {},
     "output_type": "execute_result"
    }
   ],
   "source": [
    "y1.value_counts()"
   ]
  },
  {
   "cell_type": "code",
   "execution_count": 27,
   "metadata": {},
   "outputs": [],
   "source": [
    "X=X.drop(columns=['icmp.transmit_timestamp','icmp.unused','http.content_length','http.tls_port','dns.qry.qu','dns.qry.type','dns.retransmit_request','dns.retransmit_request_in','mqtt.msg_decoded_as','mbtcp.len','mbtcp.trans_id','mbtcp.unit_id'])"
   ]
  },
  {
   "cell_type": "code",
   "execution_count": 28,
   "metadata": {},
   "outputs": [],
   "source": [
    "#Normalization of dataset"
   ]
  },
  {
   "cell_type": "code",
   "execution_count": 29,
   "metadata": {},
   "outputs": [
    {
     "data": {
      "text/plain": [
       "(157800, 49)"
      ]
     },
     "execution_count": 29,
     "metadata": {},
     "output_type": "execute_result"
    }
   ],
   "source": [
    "X.shape"
   ]
  },
  {
   "cell_type": "code",
   "execution_count": 30,
   "metadata": {},
   "outputs": [],
   "source": [
    "X=((X-X.min())/(X.max()-X.min()))*1"
   ]
  },
  {
   "cell_type": "code",
   "execution_count": 31,
   "metadata": {},
   "outputs": [],
   "source": [
    "X = np.array(X, dtype=float)"
   ]
  },
  {
   "cell_type": "code",
   "execution_count": 32,
   "metadata": {},
   "outputs": [],
   "source": [
    "X = X.reshape(157800, 49, 1)"
   ]
  },
  {
   "cell_type": "code",
   "execution_count": 33,
   "metadata": {},
   "outputs": [
    {
     "data": {
      "text/plain": [
       "(157800, 49, 1)"
      ]
     },
     "execution_count": 33,
     "metadata": {},
     "output_type": "execute_result"
    }
   ],
   "source": [
    "X.shape"
   ]
  },
  {
   "cell_type": "code",
   "execution_count": 34,
   "metadata": {},
   "outputs": [],
   "source": [
    "X_train, X_test, y_train, y_test = train_test_split(X,y1, test_size=0.2,stratify=y1)"
   ]
  },
  {
   "cell_type": "code",
   "execution_count": 35,
   "metadata": {},
   "outputs": [
    {
     "data": {
      "text/plain": [
       "(126240, 49, 1)"
      ]
     },
     "execution_count": 35,
     "metadata": {},
     "output_type": "execute_result"
    }
   ],
   "source": [
    "X_train.shape"
   ]
  },
  {
   "cell_type": "code",
   "execution_count": 36,
   "metadata": {},
   "outputs": [
    {
     "data": {
      "text/plain": [
       "1    39517\n",
       "3    24887\n",
       "2    24506\n",
       "0    19441\n",
       "5    16918\n",
       "4      971\n",
       "Name: Attack_type, dtype: int64"
      ]
     },
     "execution_count": 36,
     "metadata": {},
     "output_type": "execute_result"
    }
   ],
   "source": [
    "y_train.value_counts()"
   ]
  },
  {
   "cell_type": "code",
   "execution_count": 37,
   "metadata": {},
   "outputs": [
    {
     "data": {
      "text/plain": [
       "(31560, 49, 1)"
      ]
     },
     "execution_count": 37,
     "metadata": {},
     "output_type": "execute_result"
    }
   ],
   "source": [
    "X_test.shape"
   ]
  },
  {
   "cell_type": "code",
   "execution_count": 38,
   "metadata": {},
   "outputs": [
    {
     "data": {
      "text/plain": [
       "1    9879\n",
       "3    6222\n",
       "2    6126\n",
       "0    4860\n",
       "5    4230\n",
       "4     243\n",
       "Name: Attack_type, dtype: int64"
      ]
     },
     "execution_count": 38,
     "metadata": {},
     "output_type": "execute_result"
    }
   ],
   "source": [
    "y_test.value_counts()"
   ]
  },
  {
   "cell_type": "code",
   "execution_count": 39,
   "metadata": {},
   "outputs": [],
   "source": [
    "import pandas as pd\n",
    "import numpy as np\n",
    "import tensorflow as tf\n",
    "import matplotlib.pyplot as plt\n",
    "import seaborn as sns\n",
    "from sklearn.model_selection import train_test_split\n",
    "import pandas as pd\n",
    "import numpy as np\n",
    "from sklearn.feature_selection import SelectKBest\n",
    "from sklearn.feature_selection import chi2\n",
    "from sklearn.preprocessing import StandardScaler, MinMaxScaler\n",
    "from sklearn.model_selection import train_test_split\n",
    "from sklearn.metrics import accuracy_score, confusion_matrix\n",
    "from sklearn.tree import DecisionTreeClassifier\n",
    "from sklearn.preprocessing import LabelEncoder\n",
    "import time\n",
    "import regex\n",
    "\n",
    "from tensorflow import keras\n",
    "from tensorflow.keras import layers\n",
    "from sklearn.ensemble import ExtraTreesClassifier\n",
    "import matplotlib.pyplot as plt\n",
    "import seaborn as sns\n",
    "from keras.models import Sequential\n",
    "from keras.layers import Dense, Embedding\n",
    "from keras.layers import LSTM, GRU, RNN, SimpleRNN\n",
    "import matplotlib.pyplot as plt\n",
    "import tensorflow as tf\n",
    "from sklearn import metrics\n",
    "import numpy as np\n",
    "import seaborn as sn\n",
    "from sklearn.metrics import multilabel_confusion_matrix\n",
    "\n",
    "from sklearn.metrics import plot_confusion_matrix\n",
    "from sklearn.metrics import confusion_matrix\n",
    "from sklearn.metrics import precision_score\n",
    "from sklearn.metrics import f1_score\n",
    "from sklearn.metrics import recall_score\n",
    "from sklearn.metrics import accuracy_score\n",
    "import keras\n",
    "from keras.layers import Convolution1D, Dense, Dropout, Flatten, MaxPooling1D , AveragePooling1D\n",
    "\n",
    "from keras.models import Sequential\n",
    "from keras.layers import Dense, Embedding\n",
    "from keras.layers import LSTM, GRU\n",
    "import matplotlib.pyplot as plt\n",
    "from sklearn import metrics\n",
    "import numpy as np\n",
    "from sklearn.metrics import multilabel_confusion_matrix\n",
    "\n",
    "from sklearn.metrics import plot_confusion_matrix\n",
    "from sklearn.metrics import confusion_matrix\n",
    "from sklearn.metrics import precision_score\n",
    "from sklearn.metrics import f1_score\n",
    "from sklearn.metrics import recall_score\n",
    "from sklearn.metrics import accuracy_score\n",
    "import tensorflow as tf\n",
    "from keras.utils.vis_utils import plot_model\n",
    "\n",
    "from sklearn.model_selection import StratifiedKFold\n",
    "from keras.wrappers.scikit_learn import KerasClassifier\n",
    "from sklearn.model_selection import cross_val_score\n",
    "from sklearn.model_selection import cross_validate\n",
    "from sklearn.metrics import make_scorer\n",
    "from scipy.stats import zscore\n",
    "from sklearn.model_selection import KFold"
   ]
  },
  {
   "cell_type": "code",
   "execution_count": null,
   "metadata": {},
   "outputs": [],
   "source": [
    "############################################\n",
    "###########################################\n",
    "##\n",
    "##      Proposed Model----- Self-Attention Deep CNN\n",
    "##\n",
    "############################################\n",
    "###########################################"
   ]
  },
  {
   "cell_type": "code",
   "execution_count": 46,
   "metadata": {},
   "outputs": [],
   "source": [
    "input_shape = X.shape[1:]"
   ]
  },
  {
   "cell_type": "code",
   "execution_count": 47,
   "metadata": {},
   "outputs": [],
   "source": [
    "# 1 cn+ 1pl"
   ]
  },
  {
   "cell_type": "code",
   "execution_count": 48,
   "metadata": {},
   "outputs": [
    {
     "name": "stdout",
     "output_type": "stream",
     "text": [
      "Epoch 1/6\n",
      "3945/3945 [==============================] - 83s 21ms/step - loss: 0.6381 - accuracy: 0.7786\n",
      "Epoch 2/6\n",
      "3945/3945 [==============================] - 82s 21ms/step - loss: 0.0927 - accuracy: 0.9717\n",
      "Epoch 3/6\n",
      "3945/3945 [==============================] - 82s 21ms/step - loss: 0.0513 - accuracy: 0.9846\n",
      "Epoch 4/6\n",
      "3945/3945 [==============================] - 81s 21ms/step - loss: 0.0347 - accuracy: 0.9883\n",
      "Epoch 5/6\n",
      "3945/3945 [==============================] - 81s 21ms/step - loss: 0.0253 - accuracy: 0.9907\n",
      "Epoch 6/6\n",
      "3945/3945 [==============================] - 81s 21ms/step - loss: 0.0200 - accuracy: 0.9926\n"
     ]
    }
   ],
   "source": [
    "def proposed_model():\n",
    "    inputs = keras.Input(shape=input_shape)\n",
    "    x = layers.LayerNormalization(epsilon=1e-6)(inputs)\n",
    "    x = layers.MultiHeadAttention(key_dim=7, num_heads=8)(x, x)\n",
    "\n",
    "    res = x + inputs\n",
    "    x = layers.Conv1D(25, 3, activation=\"relu\")(res)\n",
    "    x = layers.MaxPooling1D(pool_size=(4))(x)\n",
    "\n",
    "    x = layers.Flatten()(x)\n",
    "    x = layers.Dense(32, activation=\"relu\")(x)\n",
    "    x = layers.Dense(6, activation=\"softmax\")(x)\n",
    "\n",
    "    return keras.Model(inputs, x)\n",
    "\n",
    "\n",
    "model = proposed_model()\n",
    "model.compile(loss='sparse_categorical_crossentropy', optimizer='Adam', metrics=['accuracy'])\n",
    "history = model.fit(X_train, y_train, epochs = 6).history"
   ]
  },
  {
   "cell_type": "code",
   "execution_count": 49,
   "metadata": {},
   "outputs": [],
   "source": [
    "hist_df = pd.DataFrame(history) \n",
    "\n",
    "# and save to csv: \n",
    "hist_csv_file = 'G:/Training Results/proposed/ML_b_1cn1pl.csv'\n",
    "with open(hist_csv_file, mode='w') as f:\n",
    "    hist_df.to_csv(f)"
   ]
  },
  {
   "cell_type": "code",
   "execution_count": 50,
   "metadata": {},
   "outputs": [
    {
     "name": "stdout",
     "output_type": "stream",
     "text": [
      "[[4860    0    0    0    0    0]\n",
      " [   0 9857    0    3    1   18]\n",
      " [   0    5 6110    0    0   11]\n",
      " [   0    0    3 6040    0  179]\n",
      " [   0    0    0    0  243    0]\n",
      " [   0    1    4    3    0 4222]]\n",
      "Precision:  0.9910339942931458\n",
      "Recall:  0.9940031563064938\n",
      "F1-score:  0.9923971678054787\n",
      "Accuracy:  0.9927756653992396\n"
     ]
    }
   ],
   "source": [
    "vd_preds_G = model.predict(X_test).argmax(axis=1)\n",
    "con_G=confusion_matrix(y_test, vd_preds_G)\n",
    "print(con_G)\n",
    "print(\"Precision: \",precision_score(y_test,vd_preds_G,average='macro'))\n",
    "print(\"Recall: \", recall_score(y_test,vd_preds_G,average='macro'))\n",
    "print(\"F1-score: \", f1_score(y_test,vd_preds_G,average='macro'))\n",
    "print(\"Accuracy: \", accuracy_score(y_test,vd_preds_G))"
   ]
  },
  {
   "cell_type": "code",
   "execution_count": null,
   "metadata": {},
   "outputs": [],
   "source": []
  },
  {
   "cell_type": "code",
   "execution_count": 51,
   "metadata": {},
   "outputs": [],
   "source": [
    "# 2 cn+ 1pl"
   ]
  },
  {
   "cell_type": "code",
   "execution_count": 91,
   "metadata": {},
   "outputs": [
    {
     "name": "stdout",
     "output_type": "stream",
     "text": [
      "Epoch 1/6\n",
      "3945/3945 [==============================] - 102s 25ms/step - loss: 0.4312 - accuracy: 0.8408\n",
      "Epoch 2/6\n",
      "3945/3945 [==============================] - 99s 25ms/step - loss: 0.0621 - accuracy: 0.9816\n",
      "Epoch 3/6\n",
      "3945/3945 [==============================] - 96s 24ms/step - loss: 0.0412 - accuracy: 0.9873\n",
      "Epoch 4/6\n",
      "3945/3945 [==============================] - 96s 24ms/step - loss: 0.0318 - accuracy: 0.9895\n",
      "Epoch 5/6\n",
      "3945/3945 [==============================] - 98s 25ms/step - loss: 0.0240 - accuracy: 0.9916\n",
      "Epoch 6/6\n",
      "3945/3945 [==============================] - 97s 24ms/step - loss: 0.0219 - accuracy: 0.9923\n"
     ]
    }
   ],
   "source": [
    "def proposed_model():\n",
    "    inputs = keras.Input(shape=input_shape)\n",
    "    x = layers.LayerNormalization(epsilon=1e-6)(inputs)\n",
    "    x = layers.MultiHeadAttention(key_dim=7, num_heads=8)(x, x)\n",
    "\n",
    "    res = x + inputs\n",
    "    x = layers.Conv1D(25, 3, activation=\"relu\")(res)\n",
    "    x = layers.Conv1D(25, 3, activation=\"relu\")(x)\n",
    "    x = layers.MaxPooling1D(pool_size=(4))(x)\n",
    "\n",
    "    x = layers.Flatten()(x)\n",
    "    x = layers.Dense(32, activation=\"relu\")(x)\n",
    "    x = layers.Dense(6, activation=\"softmax\")(x)\n",
    "\n",
    "    return keras.Model(inputs, x)\n",
    "\n",
    "\n",
    "model = proposed_model()\n",
    "model.compile(loss='sparse_categorical_crossentropy', optimizer='Adam', metrics=['accuracy'])\n",
    "history = model.fit(X_train, y_train, epochs = 6).history"
   ]
  },
  {
   "cell_type": "code",
   "execution_count": 92,
   "metadata": {},
   "outputs": [],
   "source": [
    "hist_df = pd.DataFrame(history) \n",
    "\n",
    "# and save to csv: \n",
    "hist_csv_file = 'G:/Training Results/proposed/ML_b_2cn1pl.csv'\n",
    "with open(hist_csv_file, mode='w') as f:\n",
    "    hist_df.to_csv(f)"
   ]
  },
  {
   "cell_type": "code",
   "execution_count": 93,
   "metadata": {},
   "outputs": [
    {
     "name": "stdout",
     "output_type": "stream",
     "text": [
      "Precision:  0.994500696745981\n",
      "Recall:  0.995588295042019\n",
      "F1-score:  0.9950237224950816\n",
      "Accuracy:  0.9949302915082383\n"
     ]
    }
   ],
   "source": [
    "vd_preds_G = model.predict(X_test).argmax(axis=1)\n",
    "\n",
    "print(\"Precision: \",precision_score(y_test,vd_preds_G,average='macro'))\n",
    "print(\"Recall: \", recall_score(y_test,vd_preds_G,average='macro'))\n",
    "print(\"F1-score: \", f1_score(y_test,vd_preds_G,average='macro'))\n",
    "print(\"Accuracy: \", accuracy_score(y_test,vd_preds_G))"
   ]
  },
  {
   "cell_type": "code",
   "execution_count": null,
   "metadata": {},
   "outputs": [],
   "source": []
  },
  {
   "cell_type": "code",
   "execution_count": null,
   "metadata": {},
   "outputs": [],
   "source": [
    "# 2 cn+ 2pl"
   ]
  },
  {
   "cell_type": "code",
   "execution_count": 55,
   "metadata": {},
   "outputs": [
    {
     "name": "stdout",
     "output_type": "stream",
     "text": [
      "Epoch 1/6\n",
      "3945/3945 [==============================] - 86s 21ms/step - loss: 0.6594 - accuracy: 0.76360s - loss: 0.6595 - accuracy: 0.76\n",
      "Epoch 2/6\n",
      "3945/3945 [==============================] - 83s 21ms/step - loss: 0.1134 - accuracy: 0.9626\n",
      "Epoch 3/6\n",
      "3945/3945 [==============================] - 91s 23ms/step - loss: 0.0629 - accuracy: 0.9800\n",
      "Epoch 4/6\n",
      "3945/3945 [==============================] - 101s 26ms/step - loss: 0.0477 - accuracy: 0.9844\n",
      "Epoch 5/6\n",
      "3945/3945 [==============================] - 102s 26ms/step - loss: 0.0380 - accuracy: 0.9873\n",
      "Epoch 6/6\n",
      "3945/3945 [==============================] - 102s 26ms/step - loss: 0.0344 - accuracy: 0.9879\n"
     ]
    }
   ],
   "source": [
    "def proposed_model():\n",
    "    inputs = keras.Input(shape=input_shape)\n",
    "    x = layers.LayerNormalization(epsilon=1e-6)(inputs)\n",
    "    x = layers.MultiHeadAttention(key_dim=7, num_heads=8)(x, x)\n",
    "\n",
    "    res = x + inputs\n",
    "    x = layers.Conv1D(25, 3, activation=\"relu\")(res)\n",
    "    x = layers.MaxPooling1D(pool_size=(4))(x)\n",
    "\n",
    "    x = layers.Conv1D(13, 3, activation=\"relu\")(x)\n",
    "    x = layers.MaxPooling1D(pool_size=(2))(x)\n",
    "\n",
    "    x = layers.Flatten()(x)\n",
    "    x = layers.Dense(30, activation=\"relu\")(x)\n",
    "    x = layers.Dense(6, activation=\"softmax\")(x)\n",
    "\n",
    "    return keras.Model(inputs, x)\n",
    "\n",
    "\n",
    "model = proposed_model()\n",
    "model.compile(loss='sparse_categorical_crossentropy', optimizer='Adam', metrics=['accuracy'])\n",
    "\n",
    "history = model.fit(X_train, y_train, epochs = 6).history"
   ]
  },
  {
   "cell_type": "code",
   "execution_count": 56,
   "metadata": {},
   "outputs": [],
   "source": [
    "hist_df = pd.DataFrame(history) \n",
    "\n",
    "# and save to csv: \n",
    "hist_csv_file = 'G:/Training Results/proposed/ML_b_2cn2pl.csv'\n",
    "with open(hist_csv_file, mode='w') as f:\n",
    "    hist_df.to_csv(f)"
   ]
  },
  {
   "cell_type": "code",
   "execution_count": 57,
   "metadata": {},
   "outputs": [
    {
     "name": "stdout",
     "output_type": "stream",
     "text": [
      "[[4859    1    0    0    0    0]\n",
      " [   0 9814    1    1    0   63]\n",
      " [   0    0 6116    0    0   10]\n",
      " [   0    2   14 6121    0   85]\n",
      " [   0    0    0    0  243    0]\n",
      " [   0   19   34  108    0 4069]]\n",
      "Precision:  0.9891567469275152\n",
      "Recall:  0.989548008415755\n",
      "F1-score:  0.9893498287283468\n",
      "Accuracy:  0.9892902408111534\n"
     ]
    }
   ],
   "source": [
    "vd_preds_G = model.predict(X_test).argmax(axis=1)\n",
    "con_G=confusion_matrix(y_test, vd_preds_G)\n",
    "print(con_G)\n",
    "print(\"Precision: \",precision_score(y_test,vd_preds_G,average='macro'))\n",
    "print(\"Recall: \", recall_score(y_test,vd_preds_G,average='macro'))\n",
    "print(\"F1-score: \", f1_score(y_test,vd_preds_G,average='macro'))\n",
    "print(\"Accuracy: \", accuracy_score(y_test,vd_preds_G))"
   ]
  },
  {
   "cell_type": "code",
   "execution_count": null,
   "metadata": {},
   "outputs": [],
   "source": []
  },
  {
   "cell_type": "code",
   "execution_count": null,
   "metadata": {},
   "outputs": [],
   "source": [
    "# 4 cn+ 2pl"
   ]
  },
  {
   "cell_type": "code",
   "execution_count": 58,
   "metadata": {},
   "outputs": [],
   "source": [
    "def proposed_model():\n",
    "    inputs = keras.Input(shape=input_shape)\n",
    "    x = layers.LayerNormalization(epsilon=1e-6)(inputs)\n",
    "    x = layers.MultiHeadAttention(key_dim=7, num_heads=8)(x, x)\n",
    "\n",
    "    res = x + inputs\n",
    "    x = layers.Conv1D(26, 3, activation=\"relu\")(res)\n",
    "    x = layers.Conv1D(25, 3, activation=\"relu\")(x)\n",
    "    x = layers.MaxPooling1D(pool_size=(4))(x)\n",
    "\n",
    "    x = layers.Conv1D(10, 3, activation=\"relu\")(x)\n",
    "    x = layers.Conv1D(8, 3, activation=\"relu\")(x)\n",
    "    x = layers.MaxPooling1D(pool_size=(2))(x)\n",
    "\n",
    "    x = layers.Flatten()(x)\n",
    "    x = layers.Dense(32, activation=\"relu\")(x)\n",
    "    x = layers.Dense(6, activation=\"softmax\")(x)\n",
    "\n",
    "    return keras.Model(inputs, x)\n",
    "\n",
    "\n",
    "model = proposed_model()\n",
    "model.compile(loss='sparse_categorical_crossentropy', optimizer='Adam', metrics=['accuracy'])"
   ]
  },
  {
   "cell_type": "code",
   "execution_count": 59,
   "metadata": {},
   "outputs": [
    {
     "name": "stdout",
     "output_type": "stream",
     "text": [
      "Epoch 1/6\n",
      "3945/3945 [==============================] - 119s 30ms/step - loss: 0.6146 - accuracy: 0.7618\n",
      "Epoch 2/6\n",
      "3945/3945 [==============================] - 116s 29ms/step - loss: 0.0864 - accuracy: 0.9711\n",
      "Epoch 3/6\n",
      "3945/3945 [==============================] - 118s 30ms/step - loss: 0.0444 - accuracy: 0.9837\n",
      "Epoch 4/6\n",
      "3945/3945 [==============================] - 116s 29ms/step - loss: 0.0326 - accuracy: 0.9872\n",
      "Epoch 5/6\n",
      "3945/3945 [==============================] - 116s 29ms/step - loss: 0.0251 - accuracy: 0.9899\n",
      "Epoch 6/6\n",
      "3945/3945 [==============================] - 116s 29ms/step - loss: 0.0230 - accuracy: 0.9903\n"
     ]
    }
   ],
   "source": [
    "history = model.fit(X_train, y_train, epochs = 6).history"
   ]
  },
  {
   "cell_type": "code",
   "execution_count": 60,
   "metadata": {},
   "outputs": [],
   "source": [
    "hist_df = pd.DataFrame(history) \n",
    "\n",
    "# and save to csv: \n",
    "hist_csv_file = 'G:/Training Results/proposed/ML_b_4cn2pl.csv'\n",
    "with open(hist_csv_file, mode='w') as f:\n",
    "    hist_df.to_csv(f)"
   ]
  },
  {
   "cell_type": "code",
   "execution_count": 61,
   "metadata": {},
   "outputs": [
    {
     "name": "stdout",
     "output_type": "stream",
     "text": [
      "Precision:  0.9919972267223507\n",
      "Recall:  0.9904080169115836\n",
      "F1-score:  0.9911283464518909\n",
      "Accuracy:  0.9914131812420786\n"
     ]
    }
   ],
   "source": [
    "vd_preds_G = model.predict(X_test).argmax(axis=1)\n",
    "\n",
    "print(\"Precision: \",precision_score(y_test,vd_preds_G,average='macro'))\n",
    "print(\"Recall: \", recall_score(y_test,vd_preds_G,average='macro'))\n",
    "print(\"F1-score: \", f1_score(y_test,vd_preds_G,average='macro'))\n",
    "print(\"Accuracy: \", accuracy_score(y_test,vd_preds_G))"
   ]
  },
  {
   "cell_type": "code",
   "execution_count": null,
   "metadata": {},
   "outputs": [],
   "source": []
  },
  {
   "cell_type": "code",
   "execution_count": null,
   "metadata": {},
   "outputs": [],
   "source": [
    "#################################################################################################"
   ]
  }
 ],
 "metadata": {
  "kernelspec": {
   "display_name": "Python 3",
   "language": "python",
   "name": "python3"
  },
  "language_info": {
   "codemirror_mode": {
    "name": "ipython",
    "version": 3
   },
   "file_extension": ".py",
   "mimetype": "text/x-python",
   "name": "python",
   "nbconvert_exporter": "python",
   "pygments_lexer": "ipython3",
   "version": "3.8.5"
  }
 },
 "nbformat": 4,
 "nbformat_minor": 4
}
