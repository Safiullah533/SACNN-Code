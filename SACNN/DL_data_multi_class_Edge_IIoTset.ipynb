{
 "cells": [
  {
   "cell_type": "code",
   "execution_count": 1,
   "metadata": {},
   "outputs": [],
   "source": [
    "import pandas as pd\n",
    "import numpy as np\n",
    "from sklearn.feature_selection import SelectKBest\n",
    "from sklearn.feature_selection import chi2\n",
    "from sklearn.preprocessing import StandardScaler, MinMaxScaler\n",
    "from sklearn.model_selection import train_test_split\n",
    "from sklearn.metrics import accuracy_score, confusion_matrix\n",
    "from sklearn.tree import DecisionTreeClassifier\n",
    "from sklearn.preprocessing import LabelEncoder\n",
    "import time\n",
    "import regex\n",
    "\n",
    "from sklearn.ensemble import ExtraTreesClassifier\n",
    "import matplotlib.pyplot as plt\n",
    "import seaborn as sns"
   ]
  },
  {
   "cell_type": "code",
   "execution_count": 2,
   "metadata": {},
   "outputs": [],
   "source": [
    "df = pd.read_csv(r\"G:\\Datasets\\Edge-IIoTset dataset\\Selected dataset for ML and DL\\DNN-EdgeIIoT-dataset.csv\", low_memory=False)"
   ]
  },
  {
   "cell_type": "code",
   "execution_count": 3,
   "metadata": {},
   "outputs": [],
   "source": [
    "pd.set_option(\"display.max.rows\", None)\n",
    "pd.set_option('display.max_columns', None)"
   ]
  },
  {
   "cell_type": "code",
   "execution_count": 4,
   "metadata": {
    "scrolled": true
   },
   "outputs": [
    {
     "data": {
      "text/plain": [
       "frame.time                    object\n",
       "ip.src_host                   object\n",
       "ip.dst_host                   object\n",
       "arp.dst.proto_ipv4            object\n",
       "arp.opcode                   float64\n",
       "arp.hw.size                  float64\n",
       "arp.src.proto_ipv4            object\n",
       "icmp.checksum                float64\n",
       "icmp.seq_le                  float64\n",
       "icmp.transmit_timestamp      float64\n",
       "icmp.unused                  float64\n",
       "http.file_data                object\n",
       "http.content_length          float64\n",
       "http.request.uri.query        object\n",
       "http.request.method           object\n",
       "http.referer                  object\n",
       "http.request.full_uri         object\n",
       "http.request.version          object\n",
       "http.response                float64\n",
       "http.tls_port                float64\n",
       "tcp.ack                      float64\n",
       "tcp.ack_raw                  float64\n",
       "tcp.checksum                 float64\n",
       "tcp.connection.fin           float64\n",
       "tcp.connection.rst           float64\n",
       "tcp.connection.syn           float64\n",
       "tcp.connection.synack        float64\n",
       "tcp.dstport                  float64\n",
       "tcp.flags                    float64\n",
       "tcp.flags.ack                float64\n",
       "tcp.len                      float64\n",
       "tcp.options                   object\n",
       "tcp.payload                   object\n",
       "tcp.seq                      float64\n",
       "tcp.srcport                   object\n",
       "udp.port                     float64\n",
       "udp.stream                   float64\n",
       "udp.time_delta               float64\n",
       "dns.qry.name                 float64\n",
       "dns.qry.name.len              object\n",
       "dns.qry.qu                   float64\n",
       "dns.qry.type                 float64\n",
       "dns.retransmission           float64\n",
       "dns.retransmit_request       float64\n",
       "dns.retransmit_request_in    float64\n",
       "mqtt.conack.flags             object\n",
       "mqtt.conflag.cleansess       float64\n",
       "mqtt.conflags                float64\n",
       "mqtt.hdrflags                float64\n",
       "mqtt.len                     float64\n",
       "mqtt.msg_decoded_as          float64\n",
       "mqtt.msg                      object\n",
       "mqtt.msgtype                 float64\n",
       "mqtt.proto_len               float64\n",
       "mqtt.protoname                object\n",
       "mqtt.topic                    object\n",
       "mqtt.topic_len               float64\n",
       "mqtt.ver                     float64\n",
       "mbtcp.len                    float64\n",
       "mbtcp.trans_id               float64\n",
       "mbtcp.unit_id                float64\n",
       "Attack_label                   int64\n",
       "Attack_type                   object\n",
       "dtype: object"
      ]
     },
     "execution_count": 4,
     "metadata": {},
     "output_type": "execute_result"
    }
   ],
   "source": [
    "df.dtypes"
   ]
  },
  {
   "cell_type": "code",
   "execution_count": 5,
   "metadata": {},
   "outputs": [
    {
     "data": {
      "text/plain": [
       "Normal                   1615643\n",
       "DDoS_UDP                  121568\n",
       "DDoS_ICMP                 116436\n",
       "SQL_injection              51203\n",
       "Password                   50153\n",
       "Vulnerability_scanner      50110\n",
       "DDoS_TCP                   50062\n",
       "DDoS_HTTP                  49911\n",
       "Uploading                  37634\n",
       "Backdoor                   24862\n",
       "Port_Scanning              22564\n",
       "XSS                        15915\n",
       "Ransomware                 10925\n",
       "MITM                        1214\n",
       "Fingerprinting              1001\n",
       "Name: Attack_type, dtype: int64"
      ]
     },
     "execution_count": 5,
     "metadata": {},
     "output_type": "execute_result"
    }
   ],
   "source": [
    "df['Attack_type'].value_counts()"
   ]
  },
  {
   "cell_type": "code",
   "execution_count": null,
   "metadata": {},
   "outputs": [],
   "source": []
  },
  {
   "cell_type": "code",
   "execution_count": 9,
   "metadata": {},
   "outputs": [],
   "source": [
    "df['Attack_type'] = df['Attack_type'].str.replace('DDoS_UDP','ddos')\n",
    "df['Attack_type'] = df['Attack_type'].str.replace('DDoS_ICMP','ddos')\n",
    "df['Attack_type'] = df['Attack_type'].str.replace('DDoS_TCP','ddos')\n",
    "df['Attack_type'] = df['Attack_type'].str.replace('DDoS_HTTP','ddos')"
   ]
  },
  {
   "cell_type": "code",
   "execution_count": 10,
   "metadata": {},
   "outputs": [],
   "source": [
    "df['Attack_type'] = df['Attack_type'].str.replace('XSS','injection')\n",
    "df['Attack_type'] = df['Attack_type'].str.replace('SQL_injection','injection')\n",
    "df['Attack_type'] = df['Attack_type'].str.replace('Uploading','injection')"
   ]
  },
  {
   "cell_type": "code",
   "execution_count": 11,
   "metadata": {},
   "outputs": [],
   "source": [
    "df['Attack_type'] = df['Attack_type'].str.replace('MITM','mitm')"
   ]
  },
  {
   "cell_type": "code",
   "execution_count": 12,
   "metadata": {},
   "outputs": [],
   "source": [
    "df['Attack_type'] = df['Attack_type'].str.replace('Password','malware')\n",
    "df['Attack_type'] = df['Attack_type'].str.replace('Backdoor','malware')\n",
    "df['Attack_type'] = df['Attack_type'].str.replace('Ransomware','malware')"
   ]
  },
  {
   "cell_type": "code",
   "execution_count": 13,
   "metadata": {},
   "outputs": [],
   "source": [
    "df['Attack_type'] = df['Attack_type'].str.replace('Port_Scanning','scanning')\n",
    "df['Attack_type'] = df['Attack_type'].str.replace('Fingerprinting','scanning')\n",
    "df['Attack_type'] = df['Attack_type'].str.replace('Vulnerability_scanner','scanning')"
   ]
  },
  {
   "cell_type": "code",
   "execution_count": 14,
   "metadata": {},
   "outputs": [],
   "source": [
    "X = df.drop(columns=['Attack_type','Attack_label'])\n",
    "y = df['Attack_type']\n",
    "\n",
    "X_train, X_test, y_train, y_test = train_test_split(X,y, test_size=0.2,stratify=y)"
   ]
  },
  {
   "cell_type": "code",
   "execution_count": 15,
   "metadata": {},
   "outputs": [
    {
     "data": {
      "text/plain": [
       "Normal       1292514\n",
       "ddos          270381\n",
       "injection      83802\n",
       "malware        68752\n",
       "scanning       58940\n",
       "mitm             971\n",
       "Name: Attack_type, dtype: int64"
      ]
     },
     "execution_count": 15,
     "metadata": {},
     "output_type": "execute_result"
    }
   ],
   "source": [
    "y_train.value_counts()"
   ]
  },
  {
   "cell_type": "code",
   "execution_count": 16,
   "metadata": {},
   "outputs": [
    {
     "data": {
      "text/plain": [
       "Normal       323129\n",
       "ddos          67596\n",
       "injection     20950\n",
       "malware       17188\n",
       "scanning      14735\n",
       "mitm            243\n",
       "Name: Attack_type, dtype: int64"
      ]
     },
     "execution_count": 16,
     "metadata": {},
     "output_type": "execute_result"
    }
   ],
   "source": [
    "y_test.value_counts()"
   ]
  },
  {
   "cell_type": "code",
   "execution_count": null,
   "metadata": {},
   "outputs": [],
   "source": []
  },
  {
   "cell_type": "code",
   "execution_count": null,
   "metadata": {},
   "outputs": [],
   "source": []
  },
  {
   "cell_type": "code",
   "execution_count": null,
   "metadata": {},
   "outputs": [],
   "source": []
  },
  {
   "cell_type": "code",
   "execution_count": 12,
   "metadata": {},
   "outputs": [
    {
     "data": {
      "text/plain": [
       "Normal       1615643\n",
       "ddos          337977\n",
       "injection     104752\n",
       "malware        85940\n",
       "scanning       73675\n",
       "mitm            1214\n",
       "Name: Attack_type, dtype: int64"
      ]
     },
     "execution_count": 12,
     "metadata": {},
     "output_type": "execute_result"
    }
   ],
   "source": [
    "df['Attack_type'].value_counts()"
   ]
  },
  {
   "cell_type": "code",
   "execution_count": 13,
   "metadata": {},
   "outputs": [],
   "source": [
    "df=df.sample(frac = 1)"
   ]
  },
  {
   "cell_type": "code",
   "execution_count": 14,
   "metadata": {},
   "outputs": [],
   "source": [
    "label_encoder = LabelEncoder()"
   ]
  },
  {
   "cell_type": "code",
   "execution_count": 15,
   "metadata": {},
   "outputs": [],
   "source": [
    "df['Attack_type'] = label_encoder.fit_transform(df['Attack_type'])\n",
    "df['Attack_type'] = df['Attack_type'].astype(int)"
   ]
  },
  {
   "cell_type": "code",
   "execution_count": 16,
   "metadata": {},
   "outputs": [
    {
     "name": "stdout",
     "output_type": "stream",
     "text": [
      "float64\n",
      "float64\n",
      "float64\n",
      "float64\n",
      "float64\n",
      "float64\n",
      "float64\n",
      "float64\n",
      "float64\n",
      "float64\n",
      "float64\n",
      "float64\n",
      "float64\n",
      "float64\n",
      "float64\n",
      "float64\n",
      "float64\n",
      "float64\n",
      "float64\n",
      "float64\n",
      "float64\n",
      "float64\n",
      "float64\n",
      "float64\n",
      "float64\n",
      "float64\n",
      "float64\n",
      "float64\n",
      "float64\n",
      "float64\n",
      "float64\n",
      "float64\n",
      "float64\n",
      "float64\n",
      "float64\n",
      "float64\n",
      "float64\n",
      "float64\n",
      "float64\n",
      "float64\n",
      "float64\n",
      "float64\n",
      "float64\n",
      "float64\n",
      "float64\n",
      "float64\n",
      "float64\n",
      "float64\n",
      "float64\n",
      "float64\n",
      "float64\n",
      "float64\n",
      "float64\n",
      "float64\n",
      "float64\n",
      "float64\n",
      "float64\n",
      "float64\n",
      "float64\n",
      "float64\n",
      "float64\n",
      "int64\n",
      "int32\n"
     ]
    }
   ],
   "source": [
    "for i in df.columns:\n",
    "    if(df[i].dtypes == object):\n",
    "        df[i] = label_encoder.fit_transform(df[i])\n",
    "        df[i] = df[i].astype(float)\n",
    "    print(df[i].dtypes)"
   ]
  },
  {
   "cell_type": "code",
   "execution_count": 17,
   "metadata": {},
   "outputs": [],
   "source": [
    "X = df.drop(columns=['Attack_type','Attack_label'])\n",
    "y = df['Attack_label']\n",
    "y1 = df['Attack_type']"
   ]
  },
  {
   "cell_type": "code",
   "execution_count": 18,
   "metadata": {
    "scrolled": true
   },
   "outputs": [
    {
     "data": {
      "text/plain": [
       "frame.time                   float64\n",
       "ip.src_host                  float64\n",
       "ip.dst_host                  float64\n",
       "arp.dst.proto_ipv4           float64\n",
       "arp.opcode                   float64\n",
       "arp.hw.size                  float64\n",
       "arp.src.proto_ipv4           float64\n",
       "icmp.checksum                float64\n",
       "icmp.seq_le                  float64\n",
       "icmp.transmit_timestamp      float64\n",
       "icmp.unused                  float64\n",
       "http.file_data               float64\n",
       "http.content_length          float64\n",
       "http.request.uri.query       float64\n",
       "http.request.method          float64\n",
       "http.referer                 float64\n",
       "http.request.full_uri        float64\n",
       "http.request.version         float64\n",
       "http.response                float64\n",
       "http.tls_port                float64\n",
       "tcp.ack                      float64\n",
       "tcp.ack_raw                  float64\n",
       "tcp.checksum                 float64\n",
       "tcp.connection.fin           float64\n",
       "tcp.connection.rst           float64\n",
       "tcp.connection.syn           float64\n",
       "tcp.connection.synack        float64\n",
       "tcp.dstport                  float64\n",
       "tcp.flags                    float64\n",
       "tcp.flags.ack                float64\n",
       "tcp.len                      float64\n",
       "tcp.options                  float64\n",
       "tcp.payload                  float64\n",
       "tcp.seq                      float64\n",
       "tcp.srcport                  float64\n",
       "udp.port                     float64\n",
       "udp.stream                   float64\n",
       "udp.time_delta               float64\n",
       "dns.qry.name                 float64\n",
       "dns.qry.name.len             float64\n",
       "dns.qry.qu                   float64\n",
       "dns.qry.type                 float64\n",
       "dns.retransmission           float64\n",
       "dns.retransmit_request       float64\n",
       "dns.retransmit_request_in    float64\n",
       "mqtt.conack.flags            float64\n",
       "mqtt.conflag.cleansess       float64\n",
       "mqtt.conflags                float64\n",
       "mqtt.hdrflags                float64\n",
       "mqtt.len                     float64\n",
       "mqtt.msg_decoded_as          float64\n",
       "mqtt.msg                     float64\n",
       "mqtt.msgtype                 float64\n",
       "mqtt.proto_len               float64\n",
       "mqtt.protoname               float64\n",
       "mqtt.topic                   float64\n",
       "mqtt.topic_len               float64\n",
       "mqtt.ver                     float64\n",
       "mbtcp.len                    float64\n",
       "mbtcp.trans_id               float64\n",
       "mbtcp.unit_id                float64\n",
       "dtype: object"
      ]
     },
     "execution_count": 18,
     "metadata": {},
     "output_type": "execute_result"
    }
   ],
   "source": [
    "X.dtypes"
   ]
  },
  {
   "cell_type": "code",
   "execution_count": 19,
   "metadata": {},
   "outputs": [
    {
     "data": {
      "text/plain": [
       "(2219201, 61)"
      ]
     },
     "execution_count": 19,
     "metadata": {},
     "output_type": "execute_result"
    }
   ],
   "source": [
    "X.shape"
   ]
  },
  {
   "cell_type": "code",
   "execution_count": 20,
   "metadata": {},
   "outputs": [
    {
     "data": {
      "text/html": [
       "<div>\n",
       "<style scoped>\n",
       "    .dataframe tbody tr th:only-of-type {\n",
       "        vertical-align: middle;\n",
       "    }\n",
       "\n",
       "    .dataframe tbody tr th {\n",
       "        vertical-align: top;\n",
       "    }\n",
       "\n",
       "    .dataframe thead th {\n",
       "        text-align: right;\n",
       "    }\n",
       "</style>\n",
       "<table border=\"1\" class=\"dataframe\">\n",
       "  <thead>\n",
       "    <tr style=\"text-align: right;\">\n",
       "      <th></th>\n",
       "      <th>frame.time</th>\n",
       "      <th>ip.src_host</th>\n",
       "      <th>ip.dst_host</th>\n",
       "      <th>arp.dst.proto_ipv4</th>\n",
       "      <th>arp.opcode</th>\n",
       "      <th>arp.hw.size</th>\n",
       "      <th>arp.src.proto_ipv4</th>\n",
       "      <th>icmp.checksum</th>\n",
       "      <th>icmp.seq_le</th>\n",
       "      <th>icmp.transmit_timestamp</th>\n",
       "      <th>icmp.unused</th>\n",
       "      <th>http.file_data</th>\n",
       "      <th>http.content_length</th>\n",
       "      <th>http.request.uri.query</th>\n",
       "      <th>http.request.method</th>\n",
       "      <th>http.referer</th>\n",
       "      <th>http.request.full_uri</th>\n",
       "      <th>http.request.version</th>\n",
       "      <th>http.response</th>\n",
       "      <th>http.tls_port</th>\n",
       "      <th>tcp.ack</th>\n",
       "      <th>tcp.ack_raw</th>\n",
       "      <th>tcp.checksum</th>\n",
       "      <th>tcp.connection.fin</th>\n",
       "      <th>tcp.connection.rst</th>\n",
       "      <th>tcp.connection.syn</th>\n",
       "      <th>tcp.connection.synack</th>\n",
       "      <th>tcp.dstport</th>\n",
       "      <th>tcp.flags</th>\n",
       "      <th>tcp.flags.ack</th>\n",
       "      <th>tcp.len</th>\n",
       "      <th>tcp.options</th>\n",
       "      <th>tcp.payload</th>\n",
       "      <th>tcp.seq</th>\n",
       "      <th>tcp.srcport</th>\n",
       "      <th>udp.port</th>\n",
       "      <th>udp.stream</th>\n",
       "      <th>udp.time_delta</th>\n",
       "      <th>dns.qry.name</th>\n",
       "      <th>dns.qry.name.len</th>\n",
       "      <th>dns.qry.qu</th>\n",
       "      <th>dns.qry.type</th>\n",
       "      <th>dns.retransmission</th>\n",
       "      <th>dns.retransmit_request</th>\n",
       "      <th>dns.retransmit_request_in</th>\n",
       "      <th>mqtt.conack.flags</th>\n",
       "      <th>mqtt.conflag.cleansess</th>\n",
       "      <th>mqtt.conflags</th>\n",
       "      <th>mqtt.hdrflags</th>\n",
       "      <th>mqtt.len</th>\n",
       "      <th>mqtt.msg_decoded_as</th>\n",
       "      <th>mqtt.msg</th>\n",
       "      <th>mqtt.msgtype</th>\n",
       "      <th>mqtt.proto_len</th>\n",
       "      <th>mqtt.protoname</th>\n",
       "      <th>mqtt.topic</th>\n",
       "      <th>mqtt.topic_len</th>\n",
       "      <th>mqtt.ver</th>\n",
       "      <th>mbtcp.len</th>\n",
       "      <th>mbtcp.trans_id</th>\n",
       "      <th>mbtcp.unit_id</th>\n",
       "    </tr>\n",
       "  </thead>\n",
       "  <tbody>\n",
       "    <tr>\n",
       "      <th>1613707</th>\n",
       "      <td>3665.0</td>\n",
       "      <td>58101.0</td>\n",
       "      <td>22987.0</td>\n",
       "      <td>0.0</td>\n",
       "      <td>0.0</td>\n",
       "      <td>0.0</td>\n",
       "      <td>0.0</td>\n",
       "      <td>0.0</td>\n",
       "      <td>0.0</td>\n",
       "      <td>0.0</td>\n",
       "      <td>0.0</td>\n",
       "      <td>2.0</td>\n",
       "      <td>0.0</td>\n",
       "      <td>23.0</td>\n",
       "      <td>1.0</td>\n",
       "      <td>2.0</td>\n",
       "      <td>1.0</td>\n",
       "      <td>5.0</td>\n",
       "      <td>0.0</td>\n",
       "      <td>0.0</td>\n",
       "      <td>14.0</td>\n",
       "      <td>3.625857e+09</td>\n",
       "      <td>38506.0</td>\n",
       "      <td>0.0</td>\n",
       "      <td>0.0</td>\n",
       "      <td>0.0</td>\n",
       "      <td>0.0</td>\n",
       "      <td>54045.0</td>\n",
       "      <td>16.0</td>\n",
       "      <td>1.0</td>\n",
       "      <td>0.0</td>\n",
       "      <td>0.0</td>\n",
       "      <td>0.0</td>\n",
       "      <td>2.0</td>\n",
       "      <td>41169.0</td>\n",
       "      <td>0.0</td>\n",
       "      <td>0.0</td>\n",
       "      <td>0.0</td>\n",
       "      <td>0.0</td>\n",
       "      <td>0.0</td>\n",
       "      <td>0.0</td>\n",
       "      <td>0.0</td>\n",
       "      <td>0.0</td>\n",
       "      <td>0.0</td>\n",
       "      <td>0.0</td>\n",
       "      <td>0.0</td>\n",
       "      <td>0.0</td>\n",
       "      <td>0.0</td>\n",
       "      <td>0.0</td>\n",
       "      <td>0.0</td>\n",
       "      <td>0.0</td>\n",
       "      <td>0.0</td>\n",
       "      <td>0.0</td>\n",
       "      <td>0.0</td>\n",
       "      <td>0.0</td>\n",
       "      <td>0.0</td>\n",
       "      <td>0.0</td>\n",
       "      <td>0.0</td>\n",
       "      <td>0.0</td>\n",
       "      <td>0.0</td>\n",
       "      <td>0.0</td>\n",
       "    </tr>\n",
       "    <tr>\n",
       "      <th>289555</th>\n",
       "      <td>475002.0</td>\n",
       "      <td>58101.0</td>\n",
       "      <td>22987.0</td>\n",
       "      <td>0.0</td>\n",
       "      <td>0.0</td>\n",
       "      <td>0.0</td>\n",
       "      <td>0.0</td>\n",
       "      <td>0.0</td>\n",
       "      <td>0.0</td>\n",
       "      <td>0.0</td>\n",
       "      <td>0.0</td>\n",
       "      <td>2.0</td>\n",
       "      <td>0.0</td>\n",
       "      <td>23.0</td>\n",
       "      <td>1.0</td>\n",
       "      <td>2.0</td>\n",
       "      <td>1.0</td>\n",
       "      <td>5.0</td>\n",
       "      <td>0.0</td>\n",
       "      <td>0.0</td>\n",
       "      <td>1.0</td>\n",
       "      <td>3.963160e+09</td>\n",
       "      <td>55320.0</td>\n",
       "      <td>0.0</td>\n",
       "      <td>0.0</td>\n",
       "      <td>0.0</td>\n",
       "      <td>1.0</td>\n",
       "      <td>51596.0</td>\n",
       "      <td>18.0</td>\n",
       "      <td>1.0</td>\n",
       "      <td>0.0</td>\n",
       "      <td>203128.0</td>\n",
       "      <td>0.0</td>\n",
       "      <td>0.0</td>\n",
       "      <td>8860.0</td>\n",
       "      <td>0.0</td>\n",
       "      <td>0.0</td>\n",
       "      <td>0.0</td>\n",
       "      <td>0.0</td>\n",
       "      <td>0.0</td>\n",
       "      <td>0.0</td>\n",
       "      <td>0.0</td>\n",
       "      <td>0.0</td>\n",
       "      <td>0.0</td>\n",
       "      <td>0.0</td>\n",
       "      <td>0.0</td>\n",
       "      <td>0.0</td>\n",
       "      <td>0.0</td>\n",
       "      <td>0.0</td>\n",
       "      <td>0.0</td>\n",
       "      <td>0.0</td>\n",
       "      <td>0.0</td>\n",
       "      <td>0.0</td>\n",
       "      <td>0.0</td>\n",
       "      <td>0.0</td>\n",
       "      <td>0.0</td>\n",
       "      <td>0.0</td>\n",
       "      <td>0.0</td>\n",
       "      <td>0.0</td>\n",
       "      <td>0.0</td>\n",
       "      <td>0.0</td>\n",
       "    </tr>\n",
       "    <tr>\n",
       "      <th>1522787</th>\n",
       "      <td>1687825.0</td>\n",
       "      <td>58101.0</td>\n",
       "      <td>22987.0</td>\n",
       "      <td>0.0</td>\n",
       "      <td>0.0</td>\n",
       "      <td>0.0</td>\n",
       "      <td>0.0</td>\n",
       "      <td>0.0</td>\n",
       "      <td>0.0</td>\n",
       "      <td>0.0</td>\n",
       "      <td>0.0</td>\n",
       "      <td>2.0</td>\n",
       "      <td>0.0</td>\n",
       "      <td>23.0</td>\n",
       "      <td>1.0</td>\n",
       "      <td>2.0</td>\n",
       "      <td>1.0</td>\n",
       "      <td>5.0</td>\n",
       "      <td>0.0</td>\n",
       "      <td>0.0</td>\n",
       "      <td>59.0</td>\n",
       "      <td>2.897867e+09</td>\n",
       "      <td>69.0</td>\n",
       "      <td>0.0</td>\n",
       "      <td>0.0</td>\n",
       "      <td>0.0</td>\n",
       "      <td>0.0</td>\n",
       "      <td>54849.0</td>\n",
       "      <td>16.0</td>\n",
       "      <td>1.0</td>\n",
       "      <td>0.0</td>\n",
       "      <td>0.0</td>\n",
       "      <td>0.0</td>\n",
       "      <td>6.0</td>\n",
       "      <td>8860.0</td>\n",
       "      <td>0.0</td>\n",
       "      <td>0.0</td>\n",
       "      <td>0.0</td>\n",
       "      <td>0.0</td>\n",
       "      <td>0.0</td>\n",
       "      <td>0.0</td>\n",
       "      <td>0.0</td>\n",
       "      <td>0.0</td>\n",
       "      <td>0.0</td>\n",
       "      <td>0.0</td>\n",
       "      <td>0.0</td>\n",
       "      <td>0.0</td>\n",
       "      <td>0.0</td>\n",
       "      <td>0.0</td>\n",
       "      <td>0.0</td>\n",
       "      <td>0.0</td>\n",
       "      <td>0.0</td>\n",
       "      <td>0.0</td>\n",
       "      <td>0.0</td>\n",
       "      <td>0.0</td>\n",
       "      <td>0.0</td>\n",
       "      <td>0.0</td>\n",
       "      <td>0.0</td>\n",
       "      <td>0.0</td>\n",
       "      <td>0.0</td>\n",
       "      <td>0.0</td>\n",
       "    </tr>\n",
       "    <tr>\n",
       "      <th>1839683</th>\n",
       "      <td>843477.0</td>\n",
       "      <td>58101.0</td>\n",
       "      <td>22989.0</td>\n",
       "      <td>0.0</td>\n",
       "      <td>0.0</td>\n",
       "      <td>0.0</td>\n",
       "      <td>0.0</td>\n",
       "      <td>0.0</td>\n",
       "      <td>0.0</td>\n",
       "      <td>0.0</td>\n",
       "      <td>0.0</td>\n",
       "      <td>1.0</td>\n",
       "      <td>0.0</td>\n",
       "      <td>23.0</td>\n",
       "      <td>0.0</td>\n",
       "      <td>2.0</td>\n",
       "      <td>0.0</td>\n",
       "      <td>4.0</td>\n",
       "      <td>0.0</td>\n",
       "      <td>0.0</td>\n",
       "      <td>261.0</td>\n",
       "      <td>8.377503e+08</td>\n",
       "      <td>15856.0</td>\n",
       "      <td>0.0</td>\n",
       "      <td>0.0</td>\n",
       "      <td>0.0</td>\n",
       "      <td>0.0</td>\n",
       "      <td>33392.0</td>\n",
       "      <td>16.0</td>\n",
       "      <td>1.0</td>\n",
       "      <td>0.0</td>\n",
       "      <td>116671.0</td>\n",
       "      <td>0.0</td>\n",
       "      <td>1.0</td>\n",
       "      <td>59770.0</td>\n",
       "      <td>0.0</td>\n",
       "      <td>0.0</td>\n",
       "      <td>0.0</td>\n",
       "      <td>0.0</td>\n",
       "      <td>1.0</td>\n",
       "      <td>0.0</td>\n",
       "      <td>0.0</td>\n",
       "      <td>0.0</td>\n",
       "      <td>0.0</td>\n",
       "      <td>0.0</td>\n",
       "      <td>1.0</td>\n",
       "      <td>0.0</td>\n",
       "      <td>0.0</td>\n",
       "      <td>0.0</td>\n",
       "      <td>0.0</td>\n",
       "      <td>0.0</td>\n",
       "      <td>1.0</td>\n",
       "      <td>0.0</td>\n",
       "      <td>0.0</td>\n",
       "      <td>1.0</td>\n",
       "      <td>1.0</td>\n",
       "      <td>0.0</td>\n",
       "      <td>0.0</td>\n",
       "      <td>0.0</td>\n",
       "      <td>0.0</td>\n",
       "      <td>0.0</td>\n",
       "    </tr>\n",
       "    <tr>\n",
       "      <th>85616</th>\n",
       "      <td>143263.0</td>\n",
       "      <td>58101.0</td>\n",
       "      <td>22987.0</td>\n",
       "      <td>0.0</td>\n",
       "      <td>0.0</td>\n",
       "      <td>0.0</td>\n",
       "      <td>0.0</td>\n",
       "      <td>0.0</td>\n",
       "      <td>0.0</td>\n",
       "      <td>0.0</td>\n",
       "      <td>0.0</td>\n",
       "      <td>2.0</td>\n",
       "      <td>0.0</td>\n",
       "      <td>23.0</td>\n",
       "      <td>1.0</td>\n",
       "      <td>2.0</td>\n",
       "      <td>1.0</td>\n",
       "      <td>5.0</td>\n",
       "      <td>0.0</td>\n",
       "      <td>0.0</td>\n",
       "      <td>0.0</td>\n",
       "      <td>0.000000e+00</td>\n",
       "      <td>50455.0</td>\n",
       "      <td>0.0</td>\n",
       "      <td>1.0</td>\n",
       "      <td>0.0</td>\n",
       "      <td>0.0</td>\n",
       "      <td>54180.0</td>\n",
       "      <td>4.0</td>\n",
       "      <td>0.0</td>\n",
       "      <td>0.0</td>\n",
       "      <td>0.0</td>\n",
       "      <td>0.0</td>\n",
       "      <td>6.0</td>\n",
       "      <td>8860.0</td>\n",
       "      <td>0.0</td>\n",
       "      <td>0.0</td>\n",
       "      <td>0.0</td>\n",
       "      <td>0.0</td>\n",
       "      <td>0.0</td>\n",
       "      <td>0.0</td>\n",
       "      <td>0.0</td>\n",
       "      <td>0.0</td>\n",
       "      <td>0.0</td>\n",
       "      <td>0.0</td>\n",
       "      <td>0.0</td>\n",
       "      <td>0.0</td>\n",
       "      <td>0.0</td>\n",
       "      <td>0.0</td>\n",
       "      <td>0.0</td>\n",
       "      <td>0.0</td>\n",
       "      <td>0.0</td>\n",
       "      <td>0.0</td>\n",
       "      <td>0.0</td>\n",
       "      <td>0.0</td>\n",
       "      <td>0.0</td>\n",
       "      <td>0.0</td>\n",
       "      <td>0.0</td>\n",
       "      <td>0.0</td>\n",
       "      <td>0.0</td>\n",
       "      <td>0.0</td>\n",
       "    </tr>\n",
       "  </tbody>\n",
       "</table>\n",
       "</div>"
      ],
      "text/plain": [
       "         frame.time  ip.src_host  ip.dst_host  arp.dst.proto_ipv4  arp.opcode  \\\n",
       "1613707      3665.0      58101.0      22987.0                 0.0         0.0   \n",
       "289555     475002.0      58101.0      22987.0                 0.0         0.0   \n",
       "1522787   1687825.0      58101.0      22987.0                 0.0         0.0   \n",
       "1839683    843477.0      58101.0      22989.0                 0.0         0.0   \n",
       "85616      143263.0      58101.0      22987.0                 0.0         0.0   \n",
       "\n",
       "         arp.hw.size  arp.src.proto_ipv4  icmp.checksum  icmp.seq_le  \\\n",
       "1613707          0.0                 0.0            0.0          0.0   \n",
       "289555           0.0                 0.0            0.0          0.0   \n",
       "1522787          0.0                 0.0            0.0          0.0   \n",
       "1839683          0.0                 0.0            0.0          0.0   \n",
       "85616            0.0                 0.0            0.0          0.0   \n",
       "\n",
       "         icmp.transmit_timestamp  icmp.unused  http.file_data  \\\n",
       "1613707                      0.0          0.0             2.0   \n",
       "289555                       0.0          0.0             2.0   \n",
       "1522787                      0.0          0.0             2.0   \n",
       "1839683                      0.0          0.0             1.0   \n",
       "85616                        0.0          0.0             2.0   \n",
       "\n",
       "         http.content_length  http.request.uri.query  http.request.method  \\\n",
       "1613707                  0.0                    23.0                  1.0   \n",
       "289555                   0.0                    23.0                  1.0   \n",
       "1522787                  0.0                    23.0                  1.0   \n",
       "1839683                  0.0                    23.0                  0.0   \n",
       "85616                    0.0                    23.0                  1.0   \n",
       "\n",
       "         http.referer  http.request.full_uri  http.request.version  \\\n",
       "1613707           2.0                    1.0                   5.0   \n",
       "289555            2.0                    1.0                   5.0   \n",
       "1522787           2.0                    1.0                   5.0   \n",
       "1839683           2.0                    0.0                   4.0   \n",
       "85616             2.0                    1.0                   5.0   \n",
       "\n",
       "         http.response  http.tls_port  tcp.ack   tcp.ack_raw  tcp.checksum  \\\n",
       "1613707            0.0            0.0     14.0  3.625857e+09       38506.0   \n",
       "289555             0.0            0.0      1.0  3.963160e+09       55320.0   \n",
       "1522787            0.0            0.0     59.0  2.897867e+09          69.0   \n",
       "1839683            0.0            0.0    261.0  8.377503e+08       15856.0   \n",
       "85616              0.0            0.0      0.0  0.000000e+00       50455.0   \n",
       "\n",
       "         tcp.connection.fin  tcp.connection.rst  tcp.connection.syn  \\\n",
       "1613707                 0.0                 0.0                 0.0   \n",
       "289555                  0.0                 0.0                 0.0   \n",
       "1522787                 0.0                 0.0                 0.0   \n",
       "1839683                 0.0                 0.0                 0.0   \n",
       "85616                   0.0                 1.0                 0.0   \n",
       "\n",
       "         tcp.connection.synack  tcp.dstport  tcp.flags  tcp.flags.ack  \\\n",
       "1613707                    0.0      54045.0       16.0            1.0   \n",
       "289555                     1.0      51596.0       18.0            1.0   \n",
       "1522787                    0.0      54849.0       16.0            1.0   \n",
       "1839683                    0.0      33392.0       16.0            1.0   \n",
       "85616                      0.0      54180.0        4.0            0.0   \n",
       "\n",
       "         tcp.len  tcp.options  tcp.payload  tcp.seq  tcp.srcport  udp.port  \\\n",
       "1613707      0.0          0.0          0.0      2.0      41169.0       0.0   \n",
       "289555       0.0     203128.0          0.0      0.0       8860.0       0.0   \n",
       "1522787      0.0          0.0          0.0      6.0       8860.0       0.0   \n",
       "1839683      0.0     116671.0          0.0      1.0      59770.0       0.0   \n",
       "85616        0.0          0.0          0.0      6.0       8860.0       0.0   \n",
       "\n",
       "         udp.stream  udp.time_delta  dns.qry.name  dns.qry.name.len  \\\n",
       "1613707         0.0             0.0           0.0               0.0   \n",
       "289555          0.0             0.0           0.0               0.0   \n",
       "1522787         0.0             0.0           0.0               0.0   \n",
       "1839683         0.0             0.0           0.0               1.0   \n",
       "85616           0.0             0.0           0.0               0.0   \n",
       "\n",
       "         dns.qry.qu  dns.qry.type  dns.retransmission  dns.retransmit_request  \\\n",
       "1613707         0.0           0.0                 0.0                     0.0   \n",
       "289555          0.0           0.0                 0.0                     0.0   \n",
       "1522787         0.0           0.0                 0.0                     0.0   \n",
       "1839683         0.0           0.0                 0.0                     0.0   \n",
       "85616           0.0           0.0                 0.0                     0.0   \n",
       "\n",
       "         dns.retransmit_request_in  mqtt.conack.flags  mqtt.conflag.cleansess  \\\n",
       "1613707                        0.0                0.0                     0.0   \n",
       "289555                         0.0                0.0                     0.0   \n",
       "1522787                        0.0                0.0                     0.0   \n",
       "1839683                        0.0                1.0                     0.0   \n",
       "85616                          0.0                0.0                     0.0   \n",
       "\n",
       "         mqtt.conflags  mqtt.hdrflags  mqtt.len  mqtt.msg_decoded_as  \\\n",
       "1613707            0.0            0.0       0.0                  0.0   \n",
       "289555             0.0            0.0       0.0                  0.0   \n",
       "1522787            0.0            0.0       0.0                  0.0   \n",
       "1839683            0.0            0.0       0.0                  0.0   \n",
       "85616              0.0            0.0       0.0                  0.0   \n",
       "\n",
       "         mqtt.msg  mqtt.msgtype  mqtt.proto_len  mqtt.protoname  mqtt.topic  \\\n",
       "1613707       0.0           0.0             0.0             0.0         0.0   \n",
       "289555        0.0           0.0             0.0             0.0         0.0   \n",
       "1522787       0.0           0.0             0.0             0.0         0.0   \n",
       "1839683       1.0           0.0             0.0             1.0         1.0   \n",
       "85616         0.0           0.0             0.0             0.0         0.0   \n",
       "\n",
       "         mqtt.topic_len  mqtt.ver  mbtcp.len  mbtcp.trans_id  mbtcp.unit_id  \n",
       "1613707             0.0       0.0        0.0             0.0            0.0  \n",
       "289555              0.0       0.0        0.0             0.0            0.0  \n",
       "1522787             0.0       0.0        0.0             0.0            0.0  \n",
       "1839683             0.0       0.0        0.0             0.0            0.0  \n",
       "85616               0.0       0.0        0.0             0.0            0.0  "
      ]
     },
     "execution_count": 20,
     "metadata": {},
     "output_type": "execute_result"
    }
   ],
   "source": [
    "X.head()"
   ]
  },
  {
   "cell_type": "code",
   "execution_count": 21,
   "metadata": {},
   "outputs": [
    {
     "data": {
      "text/plain": [
       "0    1615643\n",
       "1     337977\n",
       "2     104752\n",
       "3      85940\n",
       "5      73675\n",
       "4       1214\n",
       "Name: Attack_type, dtype: int64"
      ]
     },
     "execution_count": 21,
     "metadata": {},
     "output_type": "execute_result"
    }
   ],
   "source": [
    "y1.value_counts()"
   ]
  },
  {
   "cell_type": "code",
   "execution_count": null,
   "metadata": {},
   "outputs": [],
   "source": [
    "# the following attributes are already identified to be drop in DL_Data_sub_cat_multi_class_Edge_IIoTset.ipynb using feature selection method."
   ]
  },
  {
   "cell_type": "code",
   "execution_count": 22,
   "metadata": {},
   "outputs": [],
   "source": [
    "X=X.drop(columns=['icmp.transmit_timestamp','icmp.unused','http.tls_port','dns.qry.type','mqtt.msg_decoded_as','mbtcp.len','mbtcp.unit_id'])"
   ]
  },
  {
   "cell_type": "code",
   "execution_count": 23,
   "metadata": {},
   "outputs": [],
   "source": [
    "#Normalization of dataset"
   ]
  },
  {
   "cell_type": "code",
   "execution_count": 24,
   "metadata": {},
   "outputs": [
    {
     "data": {
      "text/plain": [
       "(2219201, 54)"
      ]
     },
     "execution_count": 24,
     "metadata": {},
     "output_type": "execute_result"
    }
   ],
   "source": [
    "X.shape"
   ]
  },
  {
   "cell_type": "code",
   "execution_count": 25,
   "metadata": {},
   "outputs": [],
   "source": [
    "X=((X-X.min())/(X.max()-X.min()))*1"
   ]
  },
  {
   "cell_type": "code",
   "execution_count": 26,
   "metadata": {},
   "outputs": [],
   "source": [
    "X = np.array(X, dtype=float)"
   ]
  },
  {
   "cell_type": "code",
   "execution_count": 27,
   "metadata": {},
   "outputs": [],
   "source": [
    "X = X.reshape(2219201, 54, 1)"
   ]
  },
  {
   "cell_type": "code",
   "execution_count": 28,
   "metadata": {},
   "outputs": [
    {
     "data": {
      "text/plain": [
       "(2219201, 54, 1)"
      ]
     },
     "execution_count": 28,
     "metadata": {},
     "output_type": "execute_result"
    }
   ],
   "source": [
    "X.shape"
   ]
  },
  {
   "cell_type": "code",
   "execution_count": 29,
   "metadata": {},
   "outputs": [],
   "source": [
    "X_train, X_test, y_train, y_test = train_test_split(X,y1, test_size=0.2,stratify=y1)"
   ]
  },
  {
   "cell_type": "code",
   "execution_count": 30,
   "metadata": {},
   "outputs": [
    {
     "data": {
      "text/plain": [
       "(1775360, 54, 1)"
      ]
     },
     "execution_count": 30,
     "metadata": {},
     "output_type": "execute_result"
    }
   ],
   "source": [
    "X_train.shape"
   ]
  },
  {
   "cell_type": "code",
   "execution_count": 31,
   "metadata": {},
   "outputs": [
    {
     "data": {
      "text/plain": [
       "0    1292514\n",
       "1     270381\n",
       "2      83802\n",
       "3      68752\n",
       "5      58940\n",
       "4        971\n",
       "Name: Attack_type, dtype: int64"
      ]
     },
     "execution_count": 31,
     "metadata": {},
     "output_type": "execute_result"
    }
   ],
   "source": [
    "y_train.value_counts()"
   ]
  },
  {
   "cell_type": "code",
   "execution_count": 32,
   "metadata": {},
   "outputs": [
    {
     "data": {
      "text/plain": [
       "(443841, 54, 1)"
      ]
     },
     "execution_count": 32,
     "metadata": {},
     "output_type": "execute_result"
    }
   ],
   "source": [
    "X_test.shape"
   ]
  },
  {
   "cell_type": "code",
   "execution_count": 33,
   "metadata": {},
   "outputs": [
    {
     "data": {
      "text/plain": [
       "0    323129\n",
       "1     67596\n",
       "2     20950\n",
       "3     17188\n",
       "5     14735\n",
       "4       243\n",
       "Name: Attack_type, dtype: int64"
      ]
     },
     "execution_count": 33,
     "metadata": {},
     "output_type": "execute_result"
    }
   ],
   "source": [
    "y_test.value_counts()"
   ]
  },
  {
   "cell_type": "code",
   "execution_count": 34,
   "metadata": {},
   "outputs": [],
   "source": [
    "import pandas as pd\n",
    "import numpy as np\n",
    "import tensorflow as tf\n",
    "import matplotlib.pyplot as plt\n",
    "import seaborn as sns\n",
    "from sklearn.model_selection import train_test_split\n",
    "import pandas as pd\n",
    "import numpy as np\n",
    "from sklearn.feature_selection import SelectKBest\n",
    "from sklearn.feature_selection import chi2\n",
    "from sklearn.preprocessing import StandardScaler, MinMaxScaler\n",
    "from sklearn.model_selection import train_test_split\n",
    "from sklearn.metrics import accuracy_score, confusion_matrix\n",
    "from sklearn.tree import DecisionTreeClassifier\n",
    "from sklearn.preprocessing import LabelEncoder\n",
    "import time\n",
    "import regex\n",
    "\n",
    "from tensorflow import keras\n",
    "from tensorflow.keras import layers\n",
    "from sklearn.ensemble import ExtraTreesClassifier\n",
    "import matplotlib.pyplot as plt\n",
    "import seaborn as sns\n",
    "from keras.models import Sequential\n",
    "from keras.layers import Dense, Embedding\n",
    "from keras.layers import LSTM, GRU, RNN, SimpleRNN\n",
    "import matplotlib.pyplot as plt\n",
    "import tensorflow as tf\n",
    "from sklearn import metrics\n",
    "import numpy as np\n",
    "import seaborn as sn\n",
    "from sklearn.metrics import multilabel_confusion_matrix\n",
    "\n",
    "from sklearn.metrics import plot_confusion_matrix\n",
    "from sklearn.metrics import confusion_matrix\n",
    "from sklearn.metrics import precision_score\n",
    "from sklearn.metrics import f1_score\n",
    "from sklearn.metrics import recall_score\n",
    "from sklearn.metrics import accuracy_score\n",
    "import keras\n",
    "from keras.layers import Convolution1D, Dense, Dropout, Flatten, MaxPooling1D , AveragePooling1D\n",
    "\n",
    "from keras.models import Sequential\n",
    "from keras.layers import Dense, Embedding\n",
    "from keras.layers import LSTM, GRU\n",
    "import matplotlib.pyplot as plt\n",
    "from sklearn import metrics\n",
    "import numpy as np\n",
    "from sklearn.metrics import multilabel_confusion_matrix\n",
    "\n",
    "from sklearn.metrics import plot_confusion_matrix\n",
    "from sklearn.metrics import confusion_matrix\n",
    "from sklearn.metrics import precision_score\n",
    "from sklearn.metrics import f1_score\n",
    "from sklearn.metrics import recall_score\n",
    "from sklearn.metrics import accuracy_score\n",
    "import tensorflow as tf\n",
    "from keras.utils.vis_utils import plot_model\n",
    "\n",
    "from sklearn.model_selection import StratifiedKFold\n",
    "from keras.wrappers.scikit_learn import KerasClassifier\n",
    "from sklearn.model_selection import cross_val_score\n",
    "from sklearn.model_selection import cross_validate\n",
    "from sklearn.metrics import make_scorer\n",
    "from scipy.stats import zscore\n",
    "from sklearn.model_selection import KFold"
   ]
  },
  {
   "cell_type": "code",
   "execution_count": null,
   "metadata": {},
   "outputs": [],
   "source": []
  },
  {
   "cell_type": "code",
   "execution_count": null,
   "metadata": {},
   "outputs": [],
   "source": [
    "############################################\n",
    "###########################################\n",
    "##\n",
    "##      Proposed Model----- Self-Attention Deep CNN\n",
    "##\n",
    "############################################\n",
    "###########################################"
   ]
  },
  {
   "cell_type": "code",
   "execution_count": 42,
   "metadata": {},
   "outputs": [],
   "source": [
    "input_shape = X.shape[1:] "
   ]
  },
  {
   "cell_type": "code",
   "execution_count": null,
   "metadata": {},
   "outputs": [],
   "source": [
    "# 1 cn+ 1pl"
   ]
  },
  {
   "cell_type": "code",
   "execution_count": null,
   "metadata": {},
   "outputs": [],
   "source": [
    "def proposed_model():\n",
    "    inputs = keras.Input(shape=input_shape)\n",
    "    x = layers.LayerNormalization(epsilon=1e-6)(inputs)\n",
    "    x = layers.MultiHeadAttention(key_dim=7, num_heads=8)(x, x)\n",
    "\n",
    "    res = x + inputs\n",
    "    x = layers.Conv1D(26, 3, activation=\"relu\")(res)\n",
    "    x = layers.MaxPooling1D(pool_size=(4))(x)\n",
    "\n",
    "    x = layers.Flatten()(x)\n",
    "    x = layers.Dense(32, activation=\"relu\")(x)\n",
    "    x = layers.Dense(6, activation=\"softmax\")(x)\n",
    "\n",
    "    return keras.Model(inputs, x)\n",
    "\n",
    "\n",
    "model = proposed_model()\n",
    "model.compile(loss='sparse_categorical_crossentropy', optimizer='Adam', metrics=['accuracy'])\n",
    "history = model.fit(X_train, y_train, epochs = 6).history"
   ]
  },
  {
   "cell_type": "code",
   "execution_count": 44,
   "metadata": {},
   "outputs": [],
   "source": [
    "hist_df = pd.DataFrame(history) \n",
    "\n",
    "# and save to csv: \n",
    "hist_csv_file = 'G:/Training Results/proposed/b_1cn1pl.csv'\n",
    "with open(hist_csv_file, mode='w') as f:\n",
    "    hist_df.to_csv(f)"
   ]
  },
  {
   "cell_type": "code",
   "execution_count": 45,
   "metadata": {},
   "outputs": [
    {
     "name": "stdout",
     "output_type": "stream",
     "text": [
      "[[323128      1      0      0      0      0]\n",
      " [     0  67568      2      0      0     26]\n",
      " [     0      0  20936      0      0     14]\n",
      " [     0      1      0  17107      0     80]\n",
      " [     0      0      0      0    243      0]\n",
      " [     0      0     20    102      0  14613]]\n",
      "Precision:  0.9974747617954999\n",
      "Recall:  0.997653704208632\n",
      "F1-score:  0.997564158214948\n",
      "Accuracy:  0.9994457474636187\n"
     ]
    }
   ],
   "source": [
    "vd_preds_G = model.predict(X_test).argmax(axis=1)\n",
    "con_G=confusion_matrix(y_test, vd_preds_G)\n",
    "print(con_G)\n",
    "print(\"Precision: \",precision_score(y_test,vd_preds_G,average='macro'))\n",
    "print(\"Recall: \", recall_score(y_test,vd_preds_G,average='macro'))\n",
    "print(\"F1-score: \", f1_score(y_test,vd_preds_G,average='macro'))\n",
    "print(\"Accuracy: \", accuracy_score(y_test,vd_preds_G))"
   ]
  },
  {
   "cell_type": "code",
   "execution_count": null,
   "metadata": {},
   "outputs": [],
   "source": []
  },
  {
   "cell_type": "code",
   "execution_count": null,
   "metadata": {},
   "outputs": [],
   "source": [
    "# 2 cn+ 1pl"
   ]
  },
  {
   "cell_type": "code",
   "execution_count": null,
   "metadata": {},
   "outputs": [],
   "source": [
    "def proposed_model():\n",
    "    inputs = keras.Input(shape=input_shape)\n",
    "    x = layers.LayerNormalization(epsilon=1e-6)(inputs)\n",
    "    x = layers.MultiHeadAttention(key_dim=7, num_heads=8)(x, x)\n",
    "\n",
    "    res = x + inputs\n",
    "    x = layers.Conv1D(26, 3, activation=\"relu\")(res)\n",
    "    x = layers.Conv1D(25, 3, activation=\"relu\")(x)\n",
    "    x = layers.MaxPooling1D(pool_size=(4))(x)\n",
    "\n",
    "    x = layers.Flatten()(x)\n",
    "    x = layers.Dense(32, activation=\"relu\")(x)\n",
    "    x = layers.Dense(6, activation=\"softmax\")(x)\n",
    "\n",
    "    return keras.Model(inputs, x)\n",
    "\n",
    "\n",
    "model = proposed_model()\n",
    "model.compile(loss='sparse_categorical_crossentropy', optimizer='Adam', metrics=['accuracy'])\n",
    "history = model.fit(X_train, y_train, epochs = 6).history"
   ]
  },
  {
   "cell_type": "code",
   "execution_count": 78,
   "metadata": {},
   "outputs": [],
   "source": [
    "hist_df = pd.DataFrame(history) \n",
    "\n",
    "# and save to csv: \n",
    "hist_csv_file = 'G:/Training Results/proposed/b_2cn1pl.csv'\n",
    "with open(hist_csv_file, mode='w') as f:\n",
    "    hist_df.to_csv(f)"
   ]
  },
  {
   "cell_type": "code",
   "execution_count": 79,
   "metadata": {},
   "outputs": [
    {
     "name": "stdout",
     "output_type": "stream",
     "text": [
      "Precision:  0.9979022760861964\n",
      "Recall:  0.998001183922227\n",
      "F1-score:  0.9979492709215144\n",
      "Accuracy:  0.9995493881818038\n"
     ]
    }
   ],
   "source": [
    "vd_preds_G = model.predict(X_test).argmax(axis=1)\n",
    "\n",
    "print(\"Precision: \",precision_score(y_test,vd_preds_G,average='macro'))\n",
    "print(\"Recall: \", recall_score(y_test,vd_preds_G,average='macro'))\n",
    "print(\"F1-score: \", f1_score(y_test,vd_preds_G,average='macro'))\n",
    "print(\"Accuracy: \", accuracy_score(y_test,vd_preds_G))"
   ]
  },
  {
   "cell_type": "code",
   "execution_count": null,
   "metadata": {},
   "outputs": [],
   "source": []
  },
  {
   "cell_type": "code",
   "execution_count": null,
   "metadata": {},
   "outputs": [],
   "source": [
    "# 2 cn+ 2pl"
   ]
  },
  {
   "cell_type": "code",
   "execution_count": null,
   "metadata": {},
   "outputs": [],
   "source": [
    "def proposed_model():\n",
    "    inputs = keras.Input(shape=input_shape)\n",
    "    x = layers.LayerNormalization(epsilon=1e-6)(inputs)\n",
    "    x = layers.MultiHeadAttention(key_dim=7, num_heads=8)(x, x)\n",
    "\n",
    "    res = x + inputs\n",
    "    x = layers.Conv1D(27, 3, activation=\"relu\")(res)\n",
    "    x = layers.MaxPooling1D(pool_size=(4))(x)\n",
    "\n",
    "    x = layers.Conv1D(14, 3, activation=\"relu\")(x)\n",
    "    x = layers.MaxPooling1D(pool_size=(2))(x)\n",
    "\n",
    "    x = layers.Flatten()(x)\n",
    "    x = layers.Dense(30, activation=\"relu\")(x)\n",
    "    x = layers.Dense(6, activation=\"softmax\")(x)\n",
    "\n",
    "    return keras.Model(inputs, x)\n",
    "\n",
    "\n",
    "model = proposed_model()\n",
    "model.compile(loss='sparse_categorical_crossentropy', optimizer='Adam', metrics=['accuracy'])\n",
    "\n",
    "history = model.fit(X_train, y_train, epochs = 6).history"
   ]
  },
  {
   "cell_type": "code",
   "execution_count": 50,
   "metadata": {},
   "outputs": [],
   "source": [
    "hist_df = pd.DataFrame(history) \n",
    "\n",
    "# and save to csv: \n",
    "hist_csv_file = 'G:/Training Results/proposed/b_2cn2pl.csv'\n",
    "with open(hist_csv_file, mode='w') as f:\n",
    "    hist_df.to_csv(f)"
   ]
  },
  {
   "cell_type": "code",
   "execution_count": 51,
   "metadata": {},
   "outputs": [
    {
     "name": "stdout",
     "output_type": "stream",
     "text": [
      "[[323129      0      0      0      0      0]\n",
      " [     0  67510      0      0      1     85]\n",
      " [     0      0  20914      2      0     34]\n",
      " [     0      0      2  17065      0    121]\n",
      " [     0      0      0      0    243      0]\n",
      " [     0    165    100     54      0  14416]]\n",
      "Precision:  0.9948272813551339\n",
      "Recall:  0.994700678018348\n",
      "F1-score:  0.9947609972532434\n",
      "Accuracy:  0.9987292746726868\n"
     ]
    }
   ],
   "source": [
    "vd_preds_G = model.predict(X_test).argmax(axis=1)\n",
    "con_G=confusion_matrix(y_test, vd_preds_G)\n",
    "print(con_G)\n",
    "print(\"Precision: \",precision_score(y_test,vd_preds_G,average='macro'))\n",
    "print(\"Recall: \", recall_score(y_test,vd_preds_G,average='macro'))\n",
    "print(\"F1-score: \", f1_score(y_test,vd_preds_G,average='macro'))\n",
    "print(\"Accuracy: \", accuracy_score(y_test,vd_preds_G))"
   ]
  },
  {
   "cell_type": "code",
   "execution_count": null,
   "metadata": {},
   "outputs": [],
   "source": []
  },
  {
   "cell_type": "code",
   "execution_count": null,
   "metadata": {},
   "outputs": [],
   "source": [
    "# 4 cn+ 2pl"
   ]
  },
  {
   "cell_type": "code",
   "execution_count": 52,
   "metadata": {},
   "outputs": [],
   "source": [
    "def proposed_model():\n",
    "    inputs = keras.Input(shape=input_shape)\n",
    "    x = layers.LayerNormalization(epsilon=1e-6)(inputs)\n",
    "    x = layers.MultiHeadAttention(key_dim=7, num_heads=8)(x, x)\n",
    "\n",
    "    res = x + inputs\n",
    "    x = layers.Conv1D(26, 3, activation=\"relu\")(res)\n",
    "    x = layers.Conv1D(25, 3, activation=\"relu\")(x)\n",
    "    x = layers.MaxPooling1D(pool_size=(4))(x)\n",
    "\n",
    "    x = layers.Conv1D(10, 3, activation=\"relu\")(x)\n",
    "    x = layers.Conv1D(8, 3, activation=\"relu\")(x)\n",
    "    x = layers.MaxPooling1D(pool_size=(2))(x)\n",
    "\n",
    "    x = layers.Flatten()(x)\n",
    "    x = layers.Dense(32, activation=\"relu\")(x)\n",
    "    x = layers.Dense(6, activation=\"softmax\")(x)\n",
    "\n",
    "    return keras.Model(inputs, x)\n",
    "\n",
    "\n",
    "model = proposed_model()\n",
    "model.compile(loss='sparse_categorical_crossentropy', optimizer='Adam', metrics=['accuracy'])"
   ]
  },
  {
   "cell_type": "code",
   "execution_count": null,
   "metadata": {},
   "outputs": [],
   "source": [
    "history = model.fit(X_train, y_train, epochs = 6).history"
   ]
  },
  {
   "cell_type": "code",
   "execution_count": 54,
   "metadata": {},
   "outputs": [],
   "source": [
    "hist_df = pd.DataFrame(history) \n",
    "\n",
    "# and save to csv: \n",
    "hist_csv_file = 'G:/Training Results/proposed/b_4cn2pl.csv'\n",
    "with open(hist_csv_file, mode='w') as f:\n",
    "    hist_df.to_csv(f)"
   ]
  },
  {
   "cell_type": "code",
   "execution_count": 55,
   "metadata": {},
   "outputs": [
    {
     "name": "stdout",
     "output_type": "stream",
     "text": [
      "Precision:  0.9961206513241626\n",
      "Recall:  0.9965400604836671\n",
      "F1-score:  0.9963089668006414\n",
      "Accuracy:  0.9991505967227002\n"
     ]
    }
   ],
   "source": [
    "vd_preds_G = model.predict(X_test).argmax(axis=1)\n",
    "\n",
    "print(\"Precision: \",precision_score(y_test,vd_preds_G,average='macro'))\n",
    "print(\"Recall: \", recall_score(y_test,vd_preds_G,average='macro'))\n",
    "print(\"F1-score: \", f1_score(y_test,vd_preds_G,average='macro'))\n",
    "print(\"Accuracy: \", accuracy_score(y_test,vd_preds_G))"
   ]
  },
  {
   "cell_type": "code",
   "execution_count": null,
   "metadata": {},
   "outputs": [],
   "source": []
  },
  {
   "cell_type": "code",
   "execution_count": null,
   "metadata": {},
   "outputs": [],
   "source": [
    "##############################################################################################"
   ]
  }
 ],
 "metadata": {
  "kernelspec": {
   "display_name": "Python 3",
   "language": "python",
   "name": "python3"
  },
  "language_info": {
   "codemirror_mode": {
    "name": "ipython",
    "version": 3
   },
   "file_extension": ".py",
   "mimetype": "text/x-python",
   "name": "python",
   "nbconvert_exporter": "python",
   "pygments_lexer": "ipython3",
   "version": "3.8.5"
  }
 },
 "nbformat": 4,
 "nbformat_minor": 4
}
