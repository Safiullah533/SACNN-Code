{
 "cells": [
  {
   "cell_type": "code",
   "execution_count": 1,
   "metadata": {},
   "outputs": [],
   "source": [
    "import pandas as pd\n",
    "import numpy as np\n",
    "from sklearn.feature_selection import SelectKBest\n",
    "from sklearn.feature_selection import chi2\n",
    "from sklearn.preprocessing import StandardScaler, MinMaxScaler\n",
    "from sklearn.model_selection import train_test_split\n",
    "from sklearn.metrics import accuracy_score, confusion_matrix\n",
    "from sklearn.tree import DecisionTreeClassifier\n",
    "from sklearn.preprocessing import LabelEncoder\n",
    "import time\n",
    "import regex\n",
    "\n",
    "from sklearn.ensemble import ExtraTreesClassifier\n",
    "import matplotlib.pyplot as plt\n",
    "import seaborn as sns"
   ]
  },
  {
   "cell_type": "code",
   "execution_count": 2,
   "metadata": {},
   "outputs": [],
   "source": [
    "df = pd.read_csv(r\"G:\\Datasets\\Edge-IIoTset dataset\\Selected dataset for ML and DL\\ML-EdgeIIoT-dataset.csv\", low_memory=False)"
   ]
  },
  {
   "cell_type": "code",
   "execution_count": 3,
   "metadata": {},
   "outputs": [],
   "source": [
    "pd.set_option(\"display.max.rows\", None)\n",
    "pd.set_option('display.max_columns', None)"
   ]
  },
  {
   "cell_type": "code",
   "execution_count": 4,
   "metadata": {
    "scrolled": true
   },
   "outputs": [
    {
     "data": {
      "text/plain": [
       "frame.time                    object\n",
       "ip.src_host                   object\n",
       "ip.dst_host                   object\n",
       "arp.dst.proto_ipv4            object\n",
       "arp.opcode                   float64\n",
       "arp.hw.size                  float64\n",
       "arp.src.proto_ipv4            object\n",
       "icmp.checksum                float64\n",
       "icmp.seq_le                  float64\n",
       "icmp.transmit_timestamp      float64\n",
       "icmp.unused                  float64\n",
       "http.file_data                object\n",
       "http.content_length          float64\n",
       "http.request.uri.query        object\n",
       "http.request.method           object\n",
       "http.referer                  object\n",
       "http.request.full_uri         object\n",
       "http.request.version          object\n",
       "http.response                float64\n",
       "http.tls_port                float64\n",
       "tcp.ack                      float64\n",
       "tcp.ack_raw                  float64\n",
       "tcp.checksum                 float64\n",
       "tcp.connection.fin           float64\n",
       "tcp.connection.rst           float64\n",
       "tcp.connection.syn           float64\n",
       "tcp.connection.synack        float64\n",
       "tcp.dstport                  float64\n",
       "tcp.flags                    float64\n",
       "tcp.flags.ack                float64\n",
       "tcp.len                      float64\n",
       "tcp.options                   object\n",
       "tcp.payload                   object\n",
       "tcp.seq                      float64\n",
       "tcp.srcport                   object\n",
       "udp.port                     float64\n",
       "udp.stream                   float64\n",
       "udp.time_delta               float64\n",
       "dns.qry.name                 float64\n",
       "dns.qry.name.len              object\n",
       "dns.qry.qu                   float64\n",
       "dns.qry.type                 float64\n",
       "dns.retransmission           float64\n",
       "dns.retransmit_request       float64\n",
       "dns.retransmit_request_in    float64\n",
       "mqtt.conack.flags             object\n",
       "mqtt.conflag.cleansess       float64\n",
       "mqtt.conflags                float64\n",
       "mqtt.hdrflags                float64\n",
       "mqtt.len                     float64\n",
       "mqtt.msg_decoded_as          float64\n",
       "mqtt.msg                      object\n",
       "mqtt.msgtype                 float64\n",
       "mqtt.proto_len               float64\n",
       "mqtt.protoname                object\n",
       "mqtt.topic                    object\n",
       "mqtt.topic_len               float64\n",
       "mqtt.ver                     float64\n",
       "mbtcp.len                    float64\n",
       "mbtcp.trans_id               float64\n",
       "mbtcp.unit_id                float64\n",
       "Attack_label                   int64\n",
       "Attack_type                   object\n",
       "dtype: object"
      ]
     },
     "execution_count": 4,
     "metadata": {},
     "output_type": "execute_result"
    }
   ],
   "source": [
    "df.dtypes"
   ]
  },
  {
   "cell_type": "code",
   "execution_count": 5,
   "metadata": {},
   "outputs": [],
   "source": [
    "df=df.sample(frac = 1)"
   ]
  },
  {
   "cell_type": "code",
   "execution_count": 6,
   "metadata": {},
   "outputs": [],
   "source": [
    "label_encoder = LabelEncoder()"
   ]
  },
  {
   "cell_type": "code",
   "execution_count": 7,
   "metadata": {},
   "outputs": [],
   "source": [
    "df['Attack_type'] = label_encoder.fit_transform(df['Attack_type'])\n",
    "df['Attack_type'] = df['Attack_type'].astype(int)"
   ]
  },
  {
   "cell_type": "code",
   "execution_count": 8,
   "metadata": {},
   "outputs": [
    {
     "name": "stdout",
     "output_type": "stream",
     "text": [
      "float64\n",
      "float64\n",
      "float64\n",
      "float64\n",
      "float64\n",
      "float64\n",
      "float64\n",
      "float64\n",
      "float64\n",
      "float64\n",
      "float64\n",
      "float64\n",
      "float64\n",
      "float64\n",
      "float64\n",
      "float64\n",
      "float64\n",
      "float64\n",
      "float64\n",
      "float64\n",
      "float64\n",
      "float64\n",
      "float64\n",
      "float64\n",
      "float64\n",
      "float64\n",
      "float64\n",
      "float64\n",
      "float64\n",
      "float64\n",
      "float64\n",
      "float64\n",
      "float64\n",
      "float64\n",
      "float64\n",
      "float64\n",
      "float64\n",
      "float64\n",
      "float64\n",
      "float64\n",
      "float64\n",
      "float64\n",
      "float64\n",
      "float64\n",
      "float64\n",
      "float64\n",
      "float64\n",
      "float64\n",
      "float64\n",
      "float64\n",
      "float64\n",
      "float64\n",
      "float64\n",
      "float64\n",
      "float64\n",
      "float64\n",
      "float64\n",
      "float64\n",
      "float64\n",
      "float64\n",
      "float64\n",
      "int64\n",
      "int32\n"
     ]
    }
   ],
   "source": [
    "for i in df.columns:\n",
    "    if(df[i].dtypes == object):\n",
    "        df[i] = label_encoder.fit_transform(df[i])\n",
    "        df[i] = df[i].astype(float)\n",
    "    print(df[i].dtypes)"
   ]
  },
  {
   "cell_type": "code",
   "execution_count": 9,
   "metadata": {},
   "outputs": [],
   "source": [
    "X = df.drop(columns=['Attack_type','Attack_label'])\n",
    "y = df['Attack_label']\n",
    "y1 = df['Attack_type']"
   ]
  },
  {
   "cell_type": "code",
   "execution_count": 10,
   "metadata": {},
   "outputs": [
    {
     "data": {
      "text/plain": [
       "frame.time                   float64\n",
       "ip.src_host                  float64\n",
       "ip.dst_host                  float64\n",
       "arp.dst.proto_ipv4           float64\n",
       "arp.opcode                   float64\n",
       "arp.hw.size                  float64\n",
       "arp.src.proto_ipv4           float64\n",
       "icmp.checksum                float64\n",
       "icmp.seq_le                  float64\n",
       "icmp.transmit_timestamp      float64\n",
       "icmp.unused                  float64\n",
       "http.file_data               float64\n",
       "http.content_length          float64\n",
       "http.request.uri.query       float64\n",
       "http.request.method          float64\n",
       "http.referer                 float64\n",
       "http.request.full_uri        float64\n",
       "http.request.version         float64\n",
       "http.response                float64\n",
       "http.tls_port                float64\n",
       "tcp.ack                      float64\n",
       "tcp.ack_raw                  float64\n",
       "tcp.checksum                 float64\n",
       "tcp.connection.fin           float64\n",
       "tcp.connection.rst           float64\n",
       "tcp.connection.syn           float64\n",
       "tcp.connection.synack        float64\n",
       "tcp.dstport                  float64\n",
       "tcp.flags                    float64\n",
       "tcp.flags.ack                float64\n",
       "tcp.len                      float64\n",
       "tcp.options                  float64\n",
       "tcp.payload                  float64\n",
       "tcp.seq                      float64\n",
       "tcp.srcport                  float64\n",
       "udp.port                     float64\n",
       "udp.stream                   float64\n",
       "udp.time_delta               float64\n",
       "dns.qry.name                 float64\n",
       "dns.qry.name.len             float64\n",
       "dns.qry.qu                   float64\n",
       "dns.qry.type                 float64\n",
       "dns.retransmission           float64\n",
       "dns.retransmit_request       float64\n",
       "dns.retransmit_request_in    float64\n",
       "mqtt.conack.flags            float64\n",
       "mqtt.conflag.cleansess       float64\n",
       "mqtt.conflags                float64\n",
       "mqtt.hdrflags                float64\n",
       "mqtt.len                     float64\n",
       "mqtt.msg_decoded_as          float64\n",
       "mqtt.msg                     float64\n",
       "mqtt.msgtype                 float64\n",
       "mqtt.proto_len               float64\n",
       "mqtt.protoname               float64\n",
       "mqtt.topic                   float64\n",
       "mqtt.topic_len               float64\n",
       "mqtt.ver                     float64\n",
       "mbtcp.len                    float64\n",
       "mbtcp.trans_id               float64\n",
       "mbtcp.unit_id                float64\n",
       "dtype: object"
      ]
     },
     "execution_count": 10,
     "metadata": {},
     "output_type": "execute_result"
    }
   ],
   "source": [
    "X.dtypes"
   ]
  },
  {
   "cell_type": "code",
   "execution_count": 11,
   "metadata": {},
   "outputs": [
    {
     "data": {
      "text/plain": [
       "(157800, 61)"
      ]
     },
     "execution_count": 11,
     "metadata": {},
     "output_type": "execute_result"
    }
   ],
   "source": [
    "X.shape"
   ]
  },
  {
   "cell_type": "code",
   "execution_count": 12,
   "metadata": {},
   "outputs": [
    {
     "data": {
      "text/html": [
       "<div>\n",
       "<style scoped>\n",
       "    .dataframe tbody tr th:only-of-type {\n",
       "        vertical-align: middle;\n",
       "    }\n",
       "\n",
       "    .dataframe tbody tr th {\n",
       "        vertical-align: top;\n",
       "    }\n",
       "\n",
       "    .dataframe thead th {\n",
       "        text-align: right;\n",
       "    }\n",
       "</style>\n",
       "<table border=\"1\" class=\"dataframe\">\n",
       "  <thead>\n",
       "    <tr style=\"text-align: right;\">\n",
       "      <th></th>\n",
       "      <th>frame.time</th>\n",
       "      <th>ip.src_host</th>\n",
       "      <th>ip.dst_host</th>\n",
       "      <th>arp.dst.proto_ipv4</th>\n",
       "      <th>arp.opcode</th>\n",
       "      <th>arp.hw.size</th>\n",
       "      <th>arp.src.proto_ipv4</th>\n",
       "      <th>icmp.checksum</th>\n",
       "      <th>icmp.seq_le</th>\n",
       "      <th>icmp.transmit_timestamp</th>\n",
       "      <th>icmp.unused</th>\n",
       "      <th>http.file_data</th>\n",
       "      <th>http.content_length</th>\n",
       "      <th>http.request.uri.query</th>\n",
       "      <th>http.request.method</th>\n",
       "      <th>http.referer</th>\n",
       "      <th>http.request.full_uri</th>\n",
       "      <th>http.request.version</th>\n",
       "      <th>http.response</th>\n",
       "      <th>http.tls_port</th>\n",
       "      <th>tcp.ack</th>\n",
       "      <th>tcp.ack_raw</th>\n",
       "      <th>tcp.checksum</th>\n",
       "      <th>tcp.connection.fin</th>\n",
       "      <th>tcp.connection.rst</th>\n",
       "      <th>tcp.connection.syn</th>\n",
       "      <th>tcp.connection.synack</th>\n",
       "      <th>tcp.dstport</th>\n",
       "      <th>tcp.flags</th>\n",
       "      <th>tcp.flags.ack</th>\n",
       "      <th>tcp.len</th>\n",
       "      <th>tcp.options</th>\n",
       "      <th>tcp.payload</th>\n",
       "      <th>tcp.seq</th>\n",
       "      <th>tcp.srcport</th>\n",
       "      <th>udp.port</th>\n",
       "      <th>udp.stream</th>\n",
       "      <th>udp.time_delta</th>\n",
       "      <th>dns.qry.name</th>\n",
       "      <th>dns.qry.name.len</th>\n",
       "      <th>dns.qry.qu</th>\n",
       "      <th>dns.qry.type</th>\n",
       "      <th>dns.retransmission</th>\n",
       "      <th>dns.retransmit_request</th>\n",
       "      <th>dns.retransmit_request_in</th>\n",
       "      <th>mqtt.conack.flags</th>\n",
       "      <th>mqtt.conflag.cleansess</th>\n",
       "      <th>mqtt.conflags</th>\n",
       "      <th>mqtt.hdrflags</th>\n",
       "      <th>mqtt.len</th>\n",
       "      <th>mqtt.msg_decoded_as</th>\n",
       "      <th>mqtt.msg</th>\n",
       "      <th>mqtt.msgtype</th>\n",
       "      <th>mqtt.proto_len</th>\n",
       "      <th>mqtt.protoname</th>\n",
       "      <th>mqtt.topic</th>\n",
       "      <th>mqtt.topic_len</th>\n",
       "      <th>mqtt.ver</th>\n",
       "      <th>mbtcp.len</th>\n",
       "      <th>mbtcp.trans_id</th>\n",
       "      <th>mbtcp.unit_id</th>\n",
       "    </tr>\n",
       "  </thead>\n",
       "  <tbody>\n",
       "    <tr>\n",
       "      <th>50363</th>\n",
       "      <td>60620.0</td>\n",
       "      <td>13561.0</td>\n",
       "      <td>3506.0</td>\n",
       "      <td>0.0</td>\n",
       "      <td>0.0</td>\n",
       "      <td>0.0</td>\n",
       "      <td>0.0</td>\n",
       "      <td>0.0</td>\n",
       "      <td>0.0</td>\n",
       "      <td>0.0</td>\n",
       "      <td>0.0</td>\n",
       "      <td>2.0</td>\n",
       "      <td>0.0</td>\n",
       "      <td>13.0</td>\n",
       "      <td>1.0</td>\n",
       "      <td>2.0</td>\n",
       "      <td>1.0</td>\n",
       "      <td>3.0</td>\n",
       "      <td>0.0</td>\n",
       "      <td>0.0</td>\n",
       "      <td>1.257605e+09</td>\n",
       "      <td>1.257605e+09</td>\n",
       "      <td>38881.0</td>\n",
       "      <td>0.0</td>\n",
       "      <td>0.0</td>\n",
       "      <td>1.0</td>\n",
       "      <td>0.0</td>\n",
       "      <td>80.0</td>\n",
       "      <td>2.0</td>\n",
       "      <td>0.0</td>\n",
       "      <td>120.0</td>\n",
       "      <td>1.0</td>\n",
       "      <td>19940.0</td>\n",
       "      <td>0.0</td>\n",
       "      <td>24503.0</td>\n",
       "      <td>0.0</td>\n",
       "      <td>0.0</td>\n",
       "      <td>0.0</td>\n",
       "      <td>0.0</td>\n",
       "      <td>1.0</td>\n",
       "      <td>0.0</td>\n",
       "      <td>0.0</td>\n",
       "      <td>0.0</td>\n",
       "      <td>0.0</td>\n",
       "      <td>0.0</td>\n",
       "      <td>1.0</td>\n",
       "      <td>0.0</td>\n",
       "      <td>0.0</td>\n",
       "      <td>0.0</td>\n",
       "      <td>0.0</td>\n",
       "      <td>0.0</td>\n",
       "      <td>1.0</td>\n",
       "      <td>0.0</td>\n",
       "      <td>0.0</td>\n",
       "      <td>1.0</td>\n",
       "      <td>1.0</td>\n",
       "      <td>0.0</td>\n",
       "      <td>0.0</td>\n",
       "      <td>0.0</td>\n",
       "      <td>0.0</td>\n",
       "      <td>0.0</td>\n",
       "    </tr>\n",
       "    <tr>\n",
       "      <th>77783</th>\n",
       "      <td>72672.0</td>\n",
       "      <td>8154.0</td>\n",
       "      <td>3506.0</td>\n",
       "      <td>0.0</td>\n",
       "      <td>0.0</td>\n",
       "      <td>0.0</td>\n",
       "      <td>0.0</td>\n",
       "      <td>0.0</td>\n",
       "      <td>0.0</td>\n",
       "      <td>0.0</td>\n",
       "      <td>0.0</td>\n",
       "      <td>488.0</td>\n",
       "      <td>57.0</td>\n",
       "      <td>12.0</td>\n",
       "      <td>2.0</td>\n",
       "      <td>1.0</td>\n",
       "      <td>1431.0</td>\n",
       "      <td>6.0</td>\n",
       "      <td>0.0</td>\n",
       "      <td>0.0</td>\n",
       "      <td>1.782200e+04</td>\n",
       "      <td>1.201818e+09</td>\n",
       "      <td>43996.0</td>\n",
       "      <td>0.0</td>\n",
       "      <td>0.0</td>\n",
       "      <td>0.0</td>\n",
       "      <td>0.0</td>\n",
       "      <td>80.0</td>\n",
       "      <td>24.0</td>\n",
       "      <td>1.0</td>\n",
       "      <td>267.0</td>\n",
       "      <td>17910.0</td>\n",
       "      <td>6098.0</td>\n",
       "      <td>9613.0</td>\n",
       "      <td>17854.0</td>\n",
       "      <td>0.0</td>\n",
       "      <td>0.0</td>\n",
       "      <td>0.0</td>\n",
       "      <td>0.0</td>\n",
       "      <td>1.0</td>\n",
       "      <td>0.0</td>\n",
       "      <td>0.0</td>\n",
       "      <td>0.0</td>\n",
       "      <td>0.0</td>\n",
       "      <td>0.0</td>\n",
       "      <td>1.0</td>\n",
       "      <td>0.0</td>\n",
       "      <td>0.0</td>\n",
       "      <td>0.0</td>\n",
       "      <td>0.0</td>\n",
       "      <td>0.0</td>\n",
       "      <td>1.0</td>\n",
       "      <td>0.0</td>\n",
       "      <td>0.0</td>\n",
       "      <td>1.0</td>\n",
       "      <td>1.0</td>\n",
       "      <td>0.0</td>\n",
       "      <td>0.0</td>\n",
       "      <td>0.0</td>\n",
       "      <td>0.0</td>\n",
       "      <td>0.0</td>\n",
       "    </tr>\n",
       "    <tr>\n",
       "      <th>57423</th>\n",
       "      <td>33788.0</td>\n",
       "      <td>8152.0</td>\n",
       "      <td>3507.0</td>\n",
       "      <td>0.0</td>\n",
       "      <td>0.0</td>\n",
       "      <td>0.0</td>\n",
       "      <td>0.0</td>\n",
       "      <td>0.0</td>\n",
       "      <td>0.0</td>\n",
       "      <td>0.0</td>\n",
       "      <td>0.0</td>\n",
       "      <td>1.0</td>\n",
       "      <td>0.0</td>\n",
       "      <td>13.0</td>\n",
       "      <td>0.0</td>\n",
       "      <td>2.0</td>\n",
       "      <td>0.0</td>\n",
       "      <td>2.0</td>\n",
       "      <td>0.0</td>\n",
       "      <td>0.0</td>\n",
       "      <td>2.610000e+02</td>\n",
       "      <td>3.565462e+09</td>\n",
       "      <td>51766.0</td>\n",
       "      <td>1.0</td>\n",
       "      <td>0.0</td>\n",
       "      <td>0.0</td>\n",
       "      <td>0.0</td>\n",
       "      <td>54816.0</td>\n",
       "      <td>17.0</td>\n",
       "      <td>1.0</td>\n",
       "      <td>0.0</td>\n",
       "      <td>32568.0</td>\n",
       "      <td>0.0</td>\n",
       "      <td>303.0</td>\n",
       "      <td>31038.0</td>\n",
       "      <td>0.0</td>\n",
       "      <td>0.0</td>\n",
       "      <td>0.0</td>\n",
       "      <td>0.0</td>\n",
       "      <td>1.0</td>\n",
       "      <td>0.0</td>\n",
       "      <td>0.0</td>\n",
       "      <td>0.0</td>\n",
       "      <td>0.0</td>\n",
       "      <td>0.0</td>\n",
       "      <td>1.0</td>\n",
       "      <td>0.0</td>\n",
       "      <td>0.0</td>\n",
       "      <td>0.0</td>\n",
       "      <td>0.0</td>\n",
       "      <td>0.0</td>\n",
       "      <td>1.0</td>\n",
       "      <td>0.0</td>\n",
       "      <td>0.0</td>\n",
       "      <td>1.0</td>\n",
       "      <td>1.0</td>\n",
       "      <td>0.0</td>\n",
       "      <td>0.0</td>\n",
       "      <td>0.0</td>\n",
       "      <td>0.0</td>\n",
       "      <td>0.0</td>\n",
       "    </tr>\n",
       "    <tr>\n",
       "      <th>43358</th>\n",
       "      <td>12190.0</td>\n",
       "      <td>8152.0</td>\n",
       "      <td>3507.0</td>\n",
       "      <td>0.0</td>\n",
       "      <td>0.0</td>\n",
       "      <td>0.0</td>\n",
       "      <td>0.0</td>\n",
       "      <td>0.0</td>\n",
       "      <td>0.0</td>\n",
       "      <td>0.0</td>\n",
       "      <td>0.0</td>\n",
       "      <td>1.0</td>\n",
       "      <td>0.0</td>\n",
       "      <td>13.0</td>\n",
       "      <td>0.0</td>\n",
       "      <td>1.0</td>\n",
       "      <td>0.0</td>\n",
       "      <td>2.0</td>\n",
       "      <td>0.0</td>\n",
       "      <td>0.0</td>\n",
       "      <td>5.580000e+02</td>\n",
       "      <td>1.463277e+09</td>\n",
       "      <td>63382.0</td>\n",
       "      <td>0.0</td>\n",
       "      <td>0.0</td>\n",
       "      <td>0.0</td>\n",
       "      <td>0.0</td>\n",
       "      <td>46290.0</td>\n",
       "      <td>16.0</td>\n",
       "      <td>1.0</td>\n",
       "      <td>0.0</td>\n",
       "      <td>7011.0</td>\n",
       "      <td>0.0</td>\n",
       "      <td>1.0</td>\n",
       "      <td>31038.0</td>\n",
       "      <td>0.0</td>\n",
       "      <td>0.0</td>\n",
       "      <td>0.0</td>\n",
       "      <td>0.0</td>\n",
       "      <td>1.0</td>\n",
       "      <td>0.0</td>\n",
       "      <td>0.0</td>\n",
       "      <td>0.0</td>\n",
       "      <td>0.0</td>\n",
       "      <td>0.0</td>\n",
       "      <td>1.0</td>\n",
       "      <td>0.0</td>\n",
       "      <td>0.0</td>\n",
       "      <td>0.0</td>\n",
       "      <td>0.0</td>\n",
       "      <td>0.0</td>\n",
       "      <td>1.0</td>\n",
       "      <td>0.0</td>\n",
       "      <td>0.0</td>\n",
       "      <td>1.0</td>\n",
       "      <td>1.0</td>\n",
       "      <td>0.0</td>\n",
       "      <td>0.0</td>\n",
       "      <td>0.0</td>\n",
       "      <td>0.0</td>\n",
       "      <td>0.0</td>\n",
       "    </tr>\n",
       "    <tr>\n",
       "      <th>76952</th>\n",
       "      <td>70926.0</td>\n",
       "      <td>8152.0</td>\n",
       "      <td>3507.0</td>\n",
       "      <td>0.0</td>\n",
       "      <td>0.0</td>\n",
       "      <td>0.0</td>\n",
       "      <td>0.0</td>\n",
       "      <td>0.0</td>\n",
       "      <td>0.0</td>\n",
       "      <td>0.0</td>\n",
       "      <td>0.0</td>\n",
       "      <td>11.0</td>\n",
       "      <td>277.0</td>\n",
       "      <td>12.0</td>\n",
       "      <td>0.0</td>\n",
       "      <td>1.0</td>\n",
       "      <td>0.0</td>\n",
       "      <td>2.0</td>\n",
       "      <td>1.0</td>\n",
       "      <td>0.0</td>\n",
       "      <td>1.378800e+04</td>\n",
       "      <td>2.275569e+09</td>\n",
       "      <td>45348.0</td>\n",
       "      <td>0.0</td>\n",
       "      <td>0.0</td>\n",
       "      <td>0.0</td>\n",
       "      <td>0.0</td>\n",
       "      <td>48846.0</td>\n",
       "      <td>24.0</td>\n",
       "      <td>1.0</td>\n",
       "      <td>495.0</td>\n",
       "      <td>25530.0</td>\n",
       "      <td>12320.0</td>\n",
       "      <td>24257.0</td>\n",
       "      <td>31038.0</td>\n",
       "      <td>0.0</td>\n",
       "      <td>0.0</td>\n",
       "      <td>0.0</td>\n",
       "      <td>0.0</td>\n",
       "      <td>1.0</td>\n",
       "      <td>0.0</td>\n",
       "      <td>0.0</td>\n",
       "      <td>0.0</td>\n",
       "      <td>0.0</td>\n",
       "      <td>0.0</td>\n",
       "      <td>1.0</td>\n",
       "      <td>0.0</td>\n",
       "      <td>0.0</td>\n",
       "      <td>0.0</td>\n",
       "      <td>0.0</td>\n",
       "      <td>0.0</td>\n",
       "      <td>1.0</td>\n",
       "      <td>0.0</td>\n",
       "      <td>0.0</td>\n",
       "      <td>1.0</td>\n",
       "      <td>1.0</td>\n",
       "      <td>0.0</td>\n",
       "      <td>0.0</td>\n",
       "      <td>0.0</td>\n",
       "      <td>0.0</td>\n",
       "      <td>0.0</td>\n",
       "    </tr>\n",
       "  </tbody>\n",
       "</table>\n",
       "</div>"
      ],
      "text/plain": [
       "       frame.time  ip.src_host  ip.dst_host  arp.dst.proto_ipv4  arp.opcode  \\\n",
       "50363     60620.0      13561.0       3506.0                 0.0         0.0   \n",
       "77783     72672.0       8154.0       3506.0                 0.0         0.0   \n",
       "57423     33788.0       8152.0       3507.0                 0.0         0.0   \n",
       "43358     12190.0       8152.0       3507.0                 0.0         0.0   \n",
       "76952     70926.0       8152.0       3507.0                 0.0         0.0   \n",
       "\n",
       "       arp.hw.size  arp.src.proto_ipv4  icmp.checksum  icmp.seq_le  \\\n",
       "50363          0.0                 0.0            0.0          0.0   \n",
       "77783          0.0                 0.0            0.0          0.0   \n",
       "57423          0.0                 0.0            0.0          0.0   \n",
       "43358          0.0                 0.0            0.0          0.0   \n",
       "76952          0.0                 0.0            0.0          0.0   \n",
       "\n",
       "       icmp.transmit_timestamp  icmp.unused  http.file_data  \\\n",
       "50363                      0.0          0.0             2.0   \n",
       "77783                      0.0          0.0           488.0   \n",
       "57423                      0.0          0.0             1.0   \n",
       "43358                      0.0          0.0             1.0   \n",
       "76952                      0.0          0.0            11.0   \n",
       "\n",
       "       http.content_length  http.request.uri.query  http.request.method  \\\n",
       "50363                  0.0                    13.0                  1.0   \n",
       "77783                 57.0                    12.0                  2.0   \n",
       "57423                  0.0                    13.0                  0.0   \n",
       "43358                  0.0                    13.0                  0.0   \n",
       "76952                277.0                    12.0                  0.0   \n",
       "\n",
       "       http.referer  http.request.full_uri  http.request.version  \\\n",
       "50363           2.0                    1.0                   3.0   \n",
       "77783           1.0                 1431.0                   6.0   \n",
       "57423           2.0                    0.0                   2.0   \n",
       "43358           1.0                    0.0                   2.0   \n",
       "76952           1.0                    0.0                   2.0   \n",
       "\n",
       "       http.response  http.tls_port       tcp.ack   tcp.ack_raw  tcp.checksum  \\\n",
       "50363            0.0            0.0  1.257605e+09  1.257605e+09       38881.0   \n",
       "77783            0.0            0.0  1.782200e+04  1.201818e+09       43996.0   \n",
       "57423            0.0            0.0  2.610000e+02  3.565462e+09       51766.0   \n",
       "43358            0.0            0.0  5.580000e+02  1.463277e+09       63382.0   \n",
       "76952            1.0            0.0  1.378800e+04  2.275569e+09       45348.0   \n",
       "\n",
       "       tcp.connection.fin  tcp.connection.rst  tcp.connection.syn  \\\n",
       "50363                 0.0                 0.0                 1.0   \n",
       "77783                 0.0                 0.0                 0.0   \n",
       "57423                 1.0                 0.0                 0.0   \n",
       "43358                 0.0                 0.0                 0.0   \n",
       "76952                 0.0                 0.0                 0.0   \n",
       "\n",
       "       tcp.connection.synack  tcp.dstport  tcp.flags  tcp.flags.ack  tcp.len  \\\n",
       "50363                    0.0         80.0        2.0            0.0    120.0   \n",
       "77783                    0.0         80.0       24.0            1.0    267.0   \n",
       "57423                    0.0      54816.0       17.0            1.0      0.0   \n",
       "43358                    0.0      46290.0       16.0            1.0      0.0   \n",
       "76952                    0.0      48846.0       24.0            1.0    495.0   \n",
       "\n",
       "       tcp.options  tcp.payload  tcp.seq  tcp.srcport  udp.port  udp.stream  \\\n",
       "50363          1.0      19940.0      0.0      24503.0       0.0         0.0   \n",
       "77783      17910.0       6098.0   9613.0      17854.0       0.0         0.0   \n",
       "57423      32568.0          0.0    303.0      31038.0       0.0         0.0   \n",
       "43358       7011.0          0.0      1.0      31038.0       0.0         0.0   \n",
       "76952      25530.0      12320.0  24257.0      31038.0       0.0         0.0   \n",
       "\n",
       "       udp.time_delta  dns.qry.name  dns.qry.name.len  dns.qry.qu  \\\n",
       "50363             0.0           0.0               1.0         0.0   \n",
       "77783             0.0           0.0               1.0         0.0   \n",
       "57423             0.0           0.0               1.0         0.0   \n",
       "43358             0.0           0.0               1.0         0.0   \n",
       "76952             0.0           0.0               1.0         0.0   \n",
       "\n",
       "       dns.qry.type  dns.retransmission  dns.retransmit_request  \\\n",
       "50363           0.0                 0.0                     0.0   \n",
       "77783           0.0                 0.0                     0.0   \n",
       "57423           0.0                 0.0                     0.0   \n",
       "43358           0.0                 0.0                     0.0   \n",
       "76952           0.0                 0.0                     0.0   \n",
       "\n",
       "       dns.retransmit_request_in  mqtt.conack.flags  mqtt.conflag.cleansess  \\\n",
       "50363                        0.0                1.0                     0.0   \n",
       "77783                        0.0                1.0                     0.0   \n",
       "57423                        0.0                1.0                     0.0   \n",
       "43358                        0.0                1.0                     0.0   \n",
       "76952                        0.0                1.0                     0.0   \n",
       "\n",
       "       mqtt.conflags  mqtt.hdrflags  mqtt.len  mqtt.msg_decoded_as  mqtt.msg  \\\n",
       "50363            0.0            0.0       0.0                  0.0       1.0   \n",
       "77783            0.0            0.0       0.0                  0.0       1.0   \n",
       "57423            0.0            0.0       0.0                  0.0       1.0   \n",
       "43358            0.0            0.0       0.0                  0.0       1.0   \n",
       "76952            0.0            0.0       0.0                  0.0       1.0   \n",
       "\n",
       "       mqtt.msgtype  mqtt.proto_len  mqtt.protoname  mqtt.topic  \\\n",
       "50363           0.0             0.0             1.0         1.0   \n",
       "77783           0.0             0.0             1.0         1.0   \n",
       "57423           0.0             0.0             1.0         1.0   \n",
       "43358           0.0             0.0             1.0         1.0   \n",
       "76952           0.0             0.0             1.0         1.0   \n",
       "\n",
       "       mqtt.topic_len  mqtt.ver  mbtcp.len  mbtcp.trans_id  mbtcp.unit_id  \n",
       "50363             0.0       0.0        0.0             0.0            0.0  \n",
       "77783             0.0       0.0        0.0             0.0            0.0  \n",
       "57423             0.0       0.0        0.0             0.0            0.0  \n",
       "43358             0.0       0.0        0.0             0.0            0.0  \n",
       "76952             0.0       0.0        0.0             0.0            0.0  "
      ]
     },
     "execution_count": 12,
     "metadata": {},
     "output_type": "execute_result"
    }
   ],
   "source": [
    "X.head()"
   ]
  },
  {
   "cell_type": "code",
   "execution_count": 13,
   "metadata": {},
   "outputs": [],
   "source": [
    "X=X.drop(columns=['icmp.transmit_timestamp','icmp.unused','http.content_length','http.tls_port','dns.qry.qu','dns.qry.type','dns.retransmit_request','dns.retransmit_request_in','mqtt.msg_decoded_as','mbtcp.len','mbtcp.trans_id','mbtcp.unit_id'])"
   ]
  },
  {
   "cell_type": "code",
   "execution_count": 14,
   "metadata": {},
   "outputs": [],
   "source": [
    "#Normalization of dataset"
   ]
  },
  {
   "cell_type": "code",
   "execution_count": 15,
   "metadata": {},
   "outputs": [
    {
     "data": {
      "text/plain": [
       "(157800, 49)"
      ]
     },
     "execution_count": 15,
     "metadata": {},
     "output_type": "execute_result"
    }
   ],
   "source": [
    "X.shape"
   ]
  },
  {
   "cell_type": "code",
   "execution_count": 16,
   "metadata": {},
   "outputs": [],
   "source": [
    "X=((X-X.min())/(X.max()-X.min()))*1"
   ]
  },
  {
   "cell_type": "code",
   "execution_count": 17,
   "metadata": {},
   "outputs": [],
   "source": [
    "X = np.array(X, dtype=float)"
   ]
  },
  {
   "cell_type": "code",
   "execution_count": 18,
   "metadata": {},
   "outputs": [],
   "source": [
    "X = X.reshape(157800, 49, 1)"
   ]
  },
  {
   "cell_type": "code",
   "execution_count": 19,
   "metadata": {},
   "outputs": [
    {
     "data": {
      "text/plain": [
       "(157800, 49, 1)"
      ]
     },
     "execution_count": 19,
     "metadata": {},
     "output_type": "execute_result"
    }
   ],
   "source": [
    "X.shape"
   ]
  },
  {
   "cell_type": "code",
   "execution_count": 20,
   "metadata": {},
   "outputs": [],
   "source": [
    "X_train, X_test, y_train, y_test = train_test_split(X,y1, test_size=0.2,stratify=y1)"
   ]
  },
  {
   "cell_type": "code",
   "execution_count": 21,
   "metadata": {},
   "outputs": [
    {
     "data": {
      "text/plain": [
       "(126240, 49, 1)"
      ]
     },
     "execution_count": 21,
     "metadata": {},
     "output_type": "execute_result"
    }
   ],
   "source": [
    "X_train.shape"
   ]
  },
  {
   "cell_type": "code",
   "execution_count": 22,
   "metadata": {},
   "outputs": [
    {
     "data": {
      "text/plain": [
       "(31560, 49, 1)"
      ]
     },
     "execution_count": 22,
     "metadata": {},
     "output_type": "execute_result"
    }
   ],
   "source": [
    "X_test.shape"
   ]
  },
  {
   "cell_type": "code",
   "execution_count": 23,
   "metadata": {},
   "outputs": [
    {
     "data": {
      "text/plain": [
       "7     4860\n",
       "4     2900\n",
       "2     2818\n",
       "10    2185\n",
       "1     2112\n",
       "11    2062\n",
       "12    2054\n",
       "3     2050\n",
       "0     2039\n",
       "13    2015\n",
       "9     2014\n",
       "14    2010\n",
       "8     1998\n",
       "6      243\n",
       "5      200\n",
       "Name: Attack_type, dtype: int64"
      ]
     },
     "execution_count": 23,
     "metadata": {},
     "output_type": "execute_result"
    }
   ],
   "source": [
    "y_test.value_counts()"
   ]
  },
  {
   "cell_type": "code",
   "execution_count": 24,
   "metadata": {},
   "outputs": [],
   "source": [
    "import pandas as pd\n",
    "import numpy as np\n",
    "import tensorflow as tf\n",
    "import matplotlib.pyplot as plt\n",
    "import seaborn as sns\n",
    "from sklearn.model_selection import train_test_split\n",
    "import pandas as pd\n",
    "import numpy as np\n",
    "from sklearn.feature_selection import SelectKBest\n",
    "from sklearn.feature_selection import chi2\n",
    "from sklearn.preprocessing import StandardScaler, MinMaxScaler\n",
    "from sklearn.model_selection import train_test_split\n",
    "from sklearn.metrics import accuracy_score, confusion_matrix\n",
    "from sklearn.tree import DecisionTreeClassifier\n",
    "from sklearn.preprocessing import LabelEncoder\n",
    "import time\n",
    "import regex\n",
    "\n",
    "from tensorflow import keras\n",
    "from tensorflow.keras import layers\n",
    "from sklearn.ensemble import ExtraTreesClassifier\n",
    "import matplotlib.pyplot as plt\n",
    "import seaborn as sns\n",
    "from keras.models import Sequential\n",
    "from keras.layers import Dense, Embedding\n",
    "from keras.layers import LSTM, GRU, RNN, SimpleRNN\n",
    "import matplotlib.pyplot as plt\n",
    "import tensorflow as tf\n",
    "from sklearn import metrics\n",
    "import numpy as np\n",
    "import seaborn as sn\n",
    "from sklearn.metrics import multilabel_confusion_matrix\n",
    "\n",
    "from sklearn.metrics import plot_confusion_matrix\n",
    "from sklearn.metrics import confusion_matrix\n",
    "from sklearn.metrics import precision_score\n",
    "from sklearn.metrics import f1_score\n",
    "from sklearn.metrics import recall_score\n",
    "from sklearn.metrics import accuracy_score\n",
    "import keras\n",
    "from keras.layers import Convolution1D, Dense, Dropout, Flatten, MaxPooling1D , AveragePooling1D\n",
    "\n",
    "from keras.models import Sequential\n",
    "from keras.layers import Dense, Embedding\n",
    "from keras.layers import LSTM, GRU\n",
    "import matplotlib.pyplot as plt\n",
    "from sklearn import metrics\n",
    "import numpy as np\n",
    "from sklearn.metrics import multilabel_confusion_matrix\n",
    "\n",
    "from sklearn.metrics import plot_confusion_matrix\n",
    "from sklearn.metrics import confusion_matrix\n",
    "from sklearn.metrics import precision_score\n",
    "from sklearn.metrics import f1_score\n",
    "from sklearn.metrics import recall_score\n",
    "from sklearn.metrics import accuracy_score\n",
    "import tensorflow as tf\n",
    "from keras.utils.vis_utils import plot_model\n",
    "\n",
    "from sklearn.model_selection import StratifiedKFold\n",
    "from keras.wrappers.scikit_learn import KerasClassifier\n",
    "from sklearn.model_selection import cross_val_score\n",
    "from sklearn.model_selection import cross_validate\n",
    "from sklearn.metrics import make_scorer\n",
    "from scipy.stats import zscore\n",
    "from sklearn.model_selection import KFold"
   ]
  },
  {
   "cell_type": "code",
   "execution_count": 25,
   "metadata": {},
   "outputs": [],
   "source": [
    "##########\n",
    "###      LSTM\n",
    "##########   "
   ]
  },
  {
   "cell_type": "code",
   "execution_count": 26,
   "metadata": {},
   "outputs": [
    {
     "name": "stdout",
     "output_type": "stream",
     "text": [
      "Epoch 1/6\n",
      "3945/3945 [==============================] - 105s 26ms/step - loss: 1.8036 - accuracy: 0.3886\n",
      "Epoch 2/6\n",
      "3945/3945 [==============================] - 100s 25ms/step - loss: 0.6199 - accuracy: 0.7896\n",
      "Epoch 3/6\n",
      "3945/3945 [==============================] - 102s 26ms/step - loss: 0.3069 - accuracy: 0.9052\n",
      "Epoch 4/6\n",
      "3945/3945 [==============================] - 102s 26ms/step - loss: 0.1981 - accuracy: 0.9382\n",
      "Epoch 5/6\n",
      "3945/3945 [==============================] - 100s 25ms/step - loss: 0.1619 - accuracy: 0.9473\n",
      "Epoch 6/6\n",
      "3945/3945 [==============================] - 102s 26ms/step - loss: 0.1425 - accuracy: 0.9543\n"
     ]
    }
   ],
   "source": [
    "model = Sequential()\n",
    "model.add(LSTM(25, input_shape=(49, 1), return_sequences=True))\n",
    "model.add(LSTM(15, activation='softmax', return_sequences=False))\n",
    "model.compile(loss='sparse_categorical_crossentropy', optimizer='Adam', metrics=['accuracy'])\n",
    "history = model.fit(X_train, y_train, epochs = 6).history"
   ]
  },
  {
   "cell_type": "code",
   "execution_count": 27,
   "metadata": {},
   "outputs": [],
   "source": [
    "hist_df = pd.DataFrame(history) \n",
    "\n",
    "# and save to csv: \n",
    "hist_csv_file = 'G:/Training Results/ML_LSTM.csv'\n",
    "with open(hist_csv_file, mode='w') as f:\n",
    "    hist_df.to_csv(f)"
   ]
  },
  {
   "cell_type": "code",
   "execution_count": 28,
   "metadata": {},
   "outputs": [
    {
     "name": "stdout",
     "output_type": "stream",
     "text": [
      "Precision:  0.9473004295497728\n",
      "Recall:  0.9502024172497179\n",
      "F1-score:  0.948554488512987\n",
      "Accuracy:  0.967617237008872\n"
     ]
    }
   ],
   "source": [
    "vd_preds_G = model.predict(X_test).argmax(axis=1)\n",
    "\n",
    "print(\"Precision: \",precision_score(y_test,vd_preds_G,average='macro'))\n",
    "print(\"Recall: \", recall_score(y_test,vd_preds_G,average='macro'))\n",
    "print(\"F1-score: \", f1_score(y_test,vd_preds_G,average='macro'))\n",
    "print(\"Accuracy: \", accuracy_score(y_test,vd_preds_G))"
   ]
  },
  {
   "cell_type": "code",
   "execution_count": null,
   "metadata": {},
   "outputs": [],
   "source": []
  },
  {
   "cell_type": "code",
   "execution_count": null,
   "metadata": {},
   "outputs": [],
   "source": [
    "#######\n",
    "###    CNN MODEL\n",
    "######"
   ]
  },
  {
   "cell_type": "code",
   "execution_count": 29,
   "metadata": {},
   "outputs": [
    {
     "name": "stdout",
     "output_type": "stream",
     "text": [
      "Epoch 1/6\n",
      "3945/3945 [==============================] - 9s 2ms/step - loss: 1.0525 - accuracy: 0.7061\n",
      "Epoch 2/6\n",
      "3945/3945 [==============================] - 9s 2ms/step - loss: 0.1588 - accuracy: 0.9667\n",
      "Epoch 3/6\n",
      "3945/3945 [==============================] - 9s 2ms/step - loss: 0.0949 - accuracy: 0.9788\n",
      "Epoch 4/6\n",
      "3945/3945 [==============================] - 9s 2ms/step - loss: 0.0728 - accuracy: 0.9815\n",
      "Epoch 5/6\n",
      "3945/3945 [==============================] - 9s 2ms/step - loss: 0.0594 - accuracy: 0.9841\n",
      "Epoch 6/6\n",
      "3945/3945 [==============================] - 9s 2ms/step - loss: 0.0533 - accuracy: 0.9843\n"
     ]
    }
   ],
   "source": [
    "model_CNN_D1 = Sequential()\n",
    "model_CNN_D1.add(Convolution1D(25, 3, padding=\"same\",activation=\"relu\",input_shape = (49, 1)))\n",
    "model_CNN_D1.add(MaxPooling1D(pool_size=(4)))\n",
    "model_CNN_D1.add(Flatten())\n",
    "model_CNN_D1.add(Dense(15, activation=\"softmax\"))\n",
    "model_CNN_D1.compile(loss='sparse_categorical_crossentropy', optimizer='Adam', metrics=['accuracy'])\n",
    "history = model_CNN_D1.fit(X_train, y_train, epochs = 6).history"
   ]
  },
  {
   "cell_type": "code",
   "execution_count": 30,
   "metadata": {},
   "outputs": [],
   "source": [
    "hist_df = pd.DataFrame(history) \n",
    "\n",
    "# and save to csv: \n",
    "hist_csv_file = 'G:/Training Results/ML_CNN.csv'\n",
    "with open(hist_csv_file, mode='w') as f:\n",
    "    hist_df.to_csv(f)"
   ]
  },
  {
   "cell_type": "code",
   "execution_count": 31,
   "metadata": {},
   "outputs": [
    {
     "name": "stdout",
     "output_type": "stream",
     "text": [
      "Precision:  0.9824293102605584\n",
      "Recall:  0.9647568089646387\n",
      "F1-score:  0.9718836442927223\n",
      "Accuracy:  0.9835551330798479\n"
     ]
    }
   ],
   "source": [
    "vd_preds_G = model_CNN_D1.predict(X_test).argmax(axis=1)\n",
    "\n",
    "print(\"Precision: \",precision_score(y_test,vd_preds_G,average='macro'))\n",
    "print(\"Recall: \", recall_score(y_test,vd_preds_G,average='macro'))\n",
    "print(\"F1-score: \", f1_score(y_test,vd_preds_G,average='macro'))\n",
    "print(\"Accuracy: \", accuracy_score(y_test,vd_preds_G))"
   ]
  },
  {
   "cell_type": "code",
   "execution_count": null,
   "metadata": {},
   "outputs": [],
   "source": []
  },
  {
   "cell_type": "code",
   "execution_count": null,
   "metadata": {},
   "outputs": [],
   "source": []
  },
  {
   "cell_type": "code",
   "execution_count": 79,
   "metadata": {},
   "outputs": [],
   "source": [
    "#GRU"
   ]
  },
  {
   "cell_type": "code",
   "execution_count": 32,
   "metadata": {},
   "outputs": [
    {
     "name": "stdout",
     "output_type": "stream",
     "text": [
      "Epoch 1/6\n",
      "3945/3945 [==============================] - 91s 22ms/step - loss: 1.9637 - accuracy: 0.3212\n",
      "Epoch 2/6\n",
      "3945/3945 [==============================] - 89s 22ms/step - loss: 0.8588 - accuracy: 0.6808\n",
      "Epoch 3/6\n",
      "3945/3945 [==============================] - 88s 22ms/step - loss: 0.5541 - accuracy: 0.7852\n",
      "Epoch 4/6\n",
      "3945/3945 [==============================] - 91s 23ms/step - loss: 0.4562 - accuracy: 0.8345\n",
      "Epoch 5/6\n",
      "3945/3945 [==============================] - 91s 23ms/step - loss: 0.3235 - accuracy: 0.89490s - loss: 0\n",
      "Epoch 6/6\n",
      "3945/3945 [==============================] - 91s 23ms/step - loss: 0.2510 - accuracy: 0.9227\n"
     ]
    }
   ],
   "source": [
    "model = Sequential()\n",
    "model.add(GRU(25, input_shape=(49, 1), return_sequences=True))\n",
    "model.add(GRU(15, activation='softmax', return_sequences=False))\n",
    "model.compile(loss='sparse_categorical_crossentropy', optimizer='Adam', metrics=['accuracy'])\n",
    "history = model.fit(X_train, y_train, epochs = 6).history"
   ]
  },
  {
   "cell_type": "code",
   "execution_count": 33,
   "metadata": {},
   "outputs": [],
   "source": [
    "hist_df = pd.DataFrame(history) \n",
    "\n",
    "# and save to csv: \n",
    "hist_csv_file = 'G:/Training Results/ML_GRU.csv'\n",
    "with open(hist_csv_file, mode='w') as f:\n",
    "    hist_df.to_csv(f)"
   ]
  },
  {
   "cell_type": "code",
   "execution_count": 34,
   "metadata": {},
   "outputs": [
    {
     "name": "stdout",
     "output_type": "stream",
     "text": [
      "Precision:  0.8424839529005058\n",
      "Recall:  0.8477324974200147\n",
      "F1-score:  0.8439903402605312\n",
      "Accuracy:  0.9337135614702154\n"
     ]
    }
   ],
   "source": [
    "vd_preds_G = model.predict(X_test).argmax(axis=1)\n",
    "\n",
    "print(\"Precision: \",precision_score(y_test,vd_preds_G,average='macro'))\n",
    "print(\"Recall: \", recall_score(y_test,vd_preds_G,average='macro'))\n",
    "print(\"F1-score: \", f1_score(y_test,vd_preds_G,average='macro'))\n",
    "print(\"Accuracy: \", accuracy_score(y_test,vd_preds_G))"
   ]
  },
  {
   "cell_type": "code",
   "execution_count": null,
   "metadata": {},
   "outputs": [],
   "source": []
  },
  {
   "cell_type": "code",
   "execution_count": null,
   "metadata": {},
   "outputs": [],
   "source": []
  },
  {
   "cell_type": "code",
   "execution_count": 91,
   "metadata": {},
   "outputs": [],
   "source": [
    "##############################################################################################"
   ]
  },
  {
   "cell_type": "code",
   "execution_count": null,
   "metadata": {},
   "outputs": [],
   "source": [
    "#################################################################################################"
   ]
  },
  {
   "cell_type": "code",
   "execution_count": null,
   "metadata": {},
   "outputs": [],
   "source": []
  },
  {
   "cell_type": "code",
   "execution_count": 63,
   "metadata": {},
   "outputs": [],
   "source": [
    "X_train_b = X_train.reshape(126240, 49)\n",
    "X_test_b = X_test.reshape(31560, 49)"
   ]
  },
  {
   "cell_type": "code",
   "execution_count": 64,
   "metadata": {},
   "outputs": [
    {
     "data": {
      "text/plain": [
       "(157800, 49, 1)"
      ]
     },
     "execution_count": 64,
     "metadata": {},
     "output_type": "execute_result"
    }
   ],
   "source": [
    "X.shape"
   ]
  },
  {
   "cell_type": "code",
   "execution_count": 65,
   "metadata": {},
   "outputs": [],
   "source": [
    "# AEC"
   ]
  },
  {
   "cell_type": "code",
   "execution_count": 92,
   "metadata": {},
   "outputs": [
    {
     "name": "stdout",
     "output_type": "stream",
     "text": [
      "Epoch 1/6\n",
      "3945/3945 [==============================] - 6s 1ms/step - loss: 0.9506 - accuracy: 0.7193\n",
      "Epoch 2/6\n",
      "3945/3945 [==============================] - 6s 1ms/step - loss: 0.0466 - accuracy: 0.9850\n",
      "Epoch 3/6\n",
      "3945/3945 [==============================] - 6s 1ms/step - loss: 0.0299 - accuracy: 0.9899\n",
      "Epoch 4/6\n",
      "3945/3945 [==============================] - 6s 1ms/step - loss: 0.0223 - accuracy: 0.9921\n",
      "Epoch 5/6\n",
      "3945/3945 [==============================] - 6s 1ms/step - loss: 0.0201 - accuracy: 0.9925\n",
      "Epoch 6/6\n",
      "3945/3945 [==============================] - 6s 1ms/step - loss: 0.0195 - accuracy: 0.9928\n"
     ]
    }
   ],
   "source": [
    "Model = Sequential()\n",
    "Model.add(Dense(49, activation = 'relu', input_dim = 49))\n",
    "Model.add(Dense(27, activation = 'relu'))\n",
    "Model.add(Dense(13, activation = 'relu'))\n",
    "Model.add(Dense(27, activation = 'relu'))\n",
    "Model.add(Dense(49,  activation = 'softmax'))\n",
    "Model.compile(optimizer ='adam',loss = 'sparse_categorical_crossentropy', metrics = ['accuracy'])\n",
    "history = Model.fit(X_train_b, y_train, epochs = 6).history"
   ]
  },
  {
   "cell_type": "code",
   "execution_count": 93,
   "metadata": {},
   "outputs": [],
   "source": [
    "hist_csv_file = 'G:/Training Results/ML_AEC.csv'\n",
    "with open(hist_csv_file, mode='w') as f:\n",
    "    hist_df.to_csv(f)"
   ]
  },
  {
   "cell_type": "code",
   "execution_count": 94,
   "metadata": {},
   "outputs": [
    {
     "name": "stdout",
     "output_type": "stream",
     "text": [
      "0.9791333044483352\n",
      "0.9924247870764744\n",
      "0.984750553917831\n",
      "0.9928707224334601\n"
     ]
    }
   ],
   "source": [
    "y_pred_L = Model.predict(X_test_b).argmax(axis=1)\n",
    "\n",
    "print(precision_score(y_test,y_pred_L,average='macro'))\n",
    "print(recall_score(y_test,y_pred_L,average='macro'))\n",
    "print(f1_score(y_test,y_pred_L,average='macro'))\n",
    "print(accuracy_score(y_test,y_pred_L))"
   ]
  },
  {
   "cell_type": "code",
   "execution_count": null,
   "metadata": {},
   "outputs": [],
   "source": []
  },
  {
   "cell_type": "code",
   "execution_count": 69,
   "metadata": {},
   "outputs": [],
   "source": [
    "# MLP"
   ]
  },
  {
   "cell_type": "code",
   "execution_count": 111,
   "metadata": {},
   "outputs": [
    {
     "name": "stderr",
     "output_type": "stream",
     "text": [
      "C:\\Users\\PC\\anaconda3\\lib\\site-packages\\sklearn\\neural_network\\_multilayer_perceptron.py:702: ConvergenceWarning: Stochastic Optimizer: Maximum iterations (200) reached and the optimization hasn't converged yet.\n",
      "  warnings.warn(\n"
     ]
    },
    {
     "data": {
      "text/html": [
       "<style>#sk-container-id-8 {color: black;background-color: white;}#sk-container-id-8 pre{padding: 0;}#sk-container-id-8 div.sk-toggleable {background-color: white;}#sk-container-id-8 label.sk-toggleable__label {cursor: pointer;display: block;width: 100%;margin-bottom: 0;padding: 0.3em;box-sizing: border-box;text-align: center;}#sk-container-id-8 label.sk-toggleable__label-arrow:before {content: \"▸\";float: left;margin-right: 0.25em;color: #696969;}#sk-container-id-8 label.sk-toggleable__label-arrow:hover:before {color: black;}#sk-container-id-8 div.sk-estimator:hover label.sk-toggleable__label-arrow:before {color: black;}#sk-container-id-8 div.sk-toggleable__content {max-height: 0;max-width: 0;overflow: hidden;text-align: left;background-color: #f0f8ff;}#sk-container-id-8 div.sk-toggleable__content pre {margin: 0.2em;color: black;border-radius: 0.25em;background-color: #f0f8ff;}#sk-container-id-8 input.sk-toggleable__control:checked~div.sk-toggleable__content {max-height: 200px;max-width: 100%;overflow: auto;}#sk-container-id-8 input.sk-toggleable__control:checked~label.sk-toggleable__label-arrow:before {content: \"▾\";}#sk-container-id-8 div.sk-estimator input.sk-toggleable__control:checked~label.sk-toggleable__label {background-color: #d4ebff;}#sk-container-id-8 div.sk-label input.sk-toggleable__control:checked~label.sk-toggleable__label {background-color: #d4ebff;}#sk-container-id-8 input.sk-hidden--visually {border: 0;clip: rect(1px 1px 1px 1px);clip: rect(1px, 1px, 1px, 1px);height: 1px;margin: -1px;overflow: hidden;padding: 0;position: absolute;width: 1px;}#sk-container-id-8 div.sk-estimator {font-family: monospace;background-color: #f0f8ff;border: 1px dotted black;border-radius: 0.25em;box-sizing: border-box;margin-bottom: 0.5em;}#sk-container-id-8 div.sk-estimator:hover {background-color: #d4ebff;}#sk-container-id-8 div.sk-parallel-item::after {content: \"\";width: 100%;border-bottom: 1px solid gray;flex-grow: 1;}#sk-container-id-8 div.sk-label:hover label.sk-toggleable__label {background-color: #d4ebff;}#sk-container-id-8 div.sk-serial::before {content: \"\";position: absolute;border-left: 1px solid gray;box-sizing: border-box;top: 0;bottom: 0;left: 50%;z-index: 0;}#sk-container-id-8 div.sk-serial {display: flex;flex-direction: column;align-items: center;background-color: white;padding-right: 0.2em;padding-left: 0.2em;position: relative;}#sk-container-id-8 div.sk-item {position: relative;z-index: 1;}#sk-container-id-8 div.sk-parallel {display: flex;align-items: stretch;justify-content: center;background-color: white;position: relative;}#sk-container-id-8 div.sk-item::before, #sk-container-id-8 div.sk-parallel-item::before {content: \"\";position: absolute;border-left: 1px solid gray;box-sizing: border-box;top: 0;bottom: 0;left: 50%;z-index: -1;}#sk-container-id-8 div.sk-parallel-item {display: flex;flex-direction: column;z-index: 1;position: relative;background-color: white;}#sk-container-id-8 div.sk-parallel-item:first-child::after {align-self: flex-end;width: 50%;}#sk-container-id-8 div.sk-parallel-item:last-child::after {align-self: flex-start;width: 50%;}#sk-container-id-8 div.sk-parallel-item:only-child::after {width: 0;}#sk-container-id-8 div.sk-dashed-wrapped {border: 1px dashed gray;margin: 0 0.4em 0.5em 0.4em;box-sizing: border-box;padding-bottom: 0.4em;background-color: white;}#sk-container-id-8 div.sk-label label {font-family: monospace;font-weight: bold;display: inline-block;line-height: 1.2em;}#sk-container-id-8 div.sk-label-container {text-align: center;}#sk-container-id-8 div.sk-container {/* jupyter's `normalize.less` sets `[hidden] { display: none; }` but bootstrap.min.css set `[hidden] { display: none !important; }` so we also need the `!important` here to be able to override the default hidden behavior on the sphinx rendered scikit-learn.org. See: https://github.com/scikit-learn/scikit-learn/issues/21755 */display: inline-block !important;position: relative;}#sk-container-id-8 div.sk-text-repr-fallback {display: none;}</style><div id=\"sk-container-id-8\" class=\"sk-top-container\"><div class=\"sk-text-repr-fallback\"><pre>MLPClassifier(alpha=1e-05, hidden_layer_sizes=(3, 5), random_state=1)</pre><b>In a Jupyter environment, please rerun this cell to show the HTML representation or trust the notebook. <br />On GitHub, the HTML representation is unable to render, please try loading this page with nbviewer.org.</b></div><div class=\"sk-container\" hidden><div class=\"sk-item\"><div class=\"sk-estimator sk-toggleable\"><input class=\"sk-toggleable__control sk-hidden--visually\" id=\"sk-estimator-id-8\" type=\"checkbox\" checked><label for=\"sk-estimator-id-8\" class=\"sk-toggleable__label sk-toggleable__label-arrow\">MLPClassifier</label><div class=\"sk-toggleable__content\"><pre>MLPClassifier(alpha=1e-05, hidden_layer_sizes=(3, 5), random_state=1)</pre></div></div></div></div></div>"
      ],
      "text/plain": [
       "MLPClassifier(alpha=1e-05, hidden_layer_sizes=(3, 5), random_state=1)"
      ]
     },
     "execution_count": 111,
     "metadata": {},
     "output_type": "execute_result"
    }
   ],
   "source": [
    "from sklearn.neural_network import MLPClassifier\n",
    "mlp = MLPClassifier(solver='adam', alpha=1e-5,hidden_layer_sizes=(3,5), random_state=1)\n",
    "mlp.fit(X_train_b,y_train)"
   ]
  },
  {
   "cell_type": "code",
   "execution_count": 112,
   "metadata": {},
   "outputs": [
    {
     "name": "stdout",
     "output_type": "stream",
     "text": [
      "[[1941    0    0    6    0    0    0    0    0   44   48    0    0    0\n",
      "     0]\n",
      " [   0 2112    0    0    0    0    0    0    0    0    0    0    0    0\n",
      "     0]\n",
      " [   0    0 2813    0    0    5    0    0    0    0    0    0    0    0\n",
      "     0]\n",
      " [   4    0    0 2038    0    0    0    0    0    8    0    0    0    0\n",
      "     0]\n",
      " [   0    0    0    2 2897    0    1    0    0    0    0    0    0    0\n",
      "     0]\n",
      " [  47    0    0    5    0   97   21    0    0    8   22    0    0    0\n",
      "     0]\n",
      " [  19    0    0    0    1    1  222    0    0    0    0    0    0    0\n",
      "     0]\n",
      " [   0    0    0    0    0    0    0 4860    0    0    0    0    0    0\n",
      "     0]\n",
      " [   0    0    0    0    0    0    0    0 1730    0    0  186    0   76\n",
      "     6]\n",
      " [   0    0    0   62    0    0    0    0    0 1864   88    0    0    0\n",
      "     0]\n",
      " [ 353    0    0    7    0   29    0    0    0   49 1747    0    0    0\n",
      "     0]\n",
      " [   0    0    0    0    0    0    0    0    2    0    0 2057    3    0\n",
      "     0]\n",
      " [   0    0    0    0    0    0    0    0    0    0    0    1 2053    0\n",
      "     0]\n",
      " [   0    0    0    0    0    0    0    1   85    0    0    0    0 1723\n",
      "   206]\n",
      " [   0    8    0    0    0    0    0    4   12    0    5    0    0  233\n",
      "  1748]]\n",
      "Precision:  0.9254792101397702\n",
      "Recall:  0.9103074317990522\n",
      "F1-score:  0.9153402130919678\n",
      "Accuracy:  0.9474651457541191\n"
     ]
    }
   ],
   "source": [
    "vd_preds_G = mlp.predict(X_test_b)\n",
    "con_G=confusion_matrix(y_test, vd_preds_G)\n",
    "print(con_G)\n",
    "print(\"Precision: \",precision_score(y_test,vd_preds_G,average='macro'))\n",
    "print(\"Recall: \", recall_score(y_test,vd_preds_G,average='macro'))\n",
    "print(\"F1-score: \", f1_score(y_test,vd_preds_G,average='macro'))\n",
    "print(\"Accuracy: \", accuracy_score(y_test,vd_preds_G))"
   ]
  },
  {
   "cell_type": "code",
   "execution_count": null,
   "metadata": {},
   "outputs": [],
   "source": []
  },
  {
   "cell_type": "code",
   "execution_count": 72,
   "metadata": {},
   "outputs": [],
   "source": [
    "#Logistic regresion"
   ]
  },
  {
   "cell_type": "code",
   "execution_count": 73,
   "metadata": {},
   "outputs": [
    {
     "name": "stderr",
     "output_type": "stream",
     "text": [
      "C:\\Users\\PC\\anaconda3\\lib\\site-packages\\sklearn\\linear_model\\_logistic.py:444: ConvergenceWarning: lbfgs failed to converge (status=1):\n",
      "STOP: TOTAL NO. of ITERATIONS REACHED LIMIT.\n",
      "\n",
      "Increase the number of iterations (max_iter) or scale the data as shown in:\n",
      "    https://scikit-learn.org/stable/modules/preprocessing.html\n",
      "Please also refer to the documentation for alternative solver options:\n",
      "    https://scikit-learn.org/stable/modules/linear_model.html#logistic-regression\n",
      "  n_iter_i = _check_optimize_result(\n"
     ]
    },
    {
     "data": {
      "text/html": [
       "<style>#sk-container-id-2 {color: black;background-color: white;}#sk-container-id-2 pre{padding: 0;}#sk-container-id-2 div.sk-toggleable {background-color: white;}#sk-container-id-2 label.sk-toggleable__label {cursor: pointer;display: block;width: 100%;margin-bottom: 0;padding: 0.3em;box-sizing: border-box;text-align: center;}#sk-container-id-2 label.sk-toggleable__label-arrow:before {content: \"▸\";float: left;margin-right: 0.25em;color: #696969;}#sk-container-id-2 label.sk-toggleable__label-arrow:hover:before {color: black;}#sk-container-id-2 div.sk-estimator:hover label.sk-toggleable__label-arrow:before {color: black;}#sk-container-id-2 div.sk-toggleable__content {max-height: 0;max-width: 0;overflow: hidden;text-align: left;background-color: #f0f8ff;}#sk-container-id-2 div.sk-toggleable__content pre {margin: 0.2em;color: black;border-radius: 0.25em;background-color: #f0f8ff;}#sk-container-id-2 input.sk-toggleable__control:checked~div.sk-toggleable__content {max-height: 200px;max-width: 100%;overflow: auto;}#sk-container-id-2 input.sk-toggleable__control:checked~label.sk-toggleable__label-arrow:before {content: \"▾\";}#sk-container-id-2 div.sk-estimator input.sk-toggleable__control:checked~label.sk-toggleable__label {background-color: #d4ebff;}#sk-container-id-2 div.sk-label input.sk-toggleable__control:checked~label.sk-toggleable__label {background-color: #d4ebff;}#sk-container-id-2 input.sk-hidden--visually {border: 0;clip: rect(1px 1px 1px 1px);clip: rect(1px, 1px, 1px, 1px);height: 1px;margin: -1px;overflow: hidden;padding: 0;position: absolute;width: 1px;}#sk-container-id-2 div.sk-estimator {font-family: monospace;background-color: #f0f8ff;border: 1px dotted black;border-radius: 0.25em;box-sizing: border-box;margin-bottom: 0.5em;}#sk-container-id-2 div.sk-estimator:hover {background-color: #d4ebff;}#sk-container-id-2 div.sk-parallel-item::after {content: \"\";width: 100%;border-bottom: 1px solid gray;flex-grow: 1;}#sk-container-id-2 div.sk-label:hover label.sk-toggleable__label {background-color: #d4ebff;}#sk-container-id-2 div.sk-serial::before {content: \"\";position: absolute;border-left: 1px solid gray;box-sizing: border-box;top: 0;bottom: 0;left: 50%;z-index: 0;}#sk-container-id-2 div.sk-serial {display: flex;flex-direction: column;align-items: center;background-color: white;padding-right: 0.2em;padding-left: 0.2em;position: relative;}#sk-container-id-2 div.sk-item {position: relative;z-index: 1;}#sk-container-id-2 div.sk-parallel {display: flex;align-items: stretch;justify-content: center;background-color: white;position: relative;}#sk-container-id-2 div.sk-item::before, #sk-container-id-2 div.sk-parallel-item::before {content: \"\";position: absolute;border-left: 1px solid gray;box-sizing: border-box;top: 0;bottom: 0;left: 50%;z-index: -1;}#sk-container-id-2 div.sk-parallel-item {display: flex;flex-direction: column;z-index: 1;position: relative;background-color: white;}#sk-container-id-2 div.sk-parallel-item:first-child::after {align-self: flex-end;width: 50%;}#sk-container-id-2 div.sk-parallel-item:last-child::after {align-self: flex-start;width: 50%;}#sk-container-id-2 div.sk-parallel-item:only-child::after {width: 0;}#sk-container-id-2 div.sk-dashed-wrapped {border: 1px dashed gray;margin: 0 0.4em 0.5em 0.4em;box-sizing: border-box;padding-bottom: 0.4em;background-color: white;}#sk-container-id-2 div.sk-label label {font-family: monospace;font-weight: bold;display: inline-block;line-height: 1.2em;}#sk-container-id-2 div.sk-label-container {text-align: center;}#sk-container-id-2 div.sk-container {/* jupyter's `normalize.less` sets `[hidden] { display: none; }` but bootstrap.min.css set `[hidden] { display: none !important; }` so we also need the `!important` here to be able to override the default hidden behavior on the sphinx rendered scikit-learn.org. See: https://github.com/scikit-learn/scikit-learn/issues/21755 */display: inline-block !important;position: relative;}#sk-container-id-2 div.sk-text-repr-fallback {display: none;}</style><div id=\"sk-container-id-2\" class=\"sk-top-container\"><div class=\"sk-text-repr-fallback\"><pre>LogisticRegression()</pre><b>In a Jupyter environment, please rerun this cell to show the HTML representation or trust the notebook. <br />On GitHub, the HTML representation is unable to render, please try loading this page with nbviewer.org.</b></div><div class=\"sk-container\" hidden><div class=\"sk-item\"><div class=\"sk-estimator sk-toggleable\"><input class=\"sk-toggleable__control sk-hidden--visually\" id=\"sk-estimator-id-2\" type=\"checkbox\" checked><label for=\"sk-estimator-id-2\" class=\"sk-toggleable__label sk-toggleable__label-arrow\">LogisticRegression</label><div class=\"sk-toggleable__content\"><pre>LogisticRegression()</pre></div></div></div></div></div>"
      ],
      "text/plain": [
       "LogisticRegression()"
      ]
     },
     "execution_count": 73,
     "metadata": {},
     "output_type": "execute_result"
    }
   ],
   "source": [
    "# import the class\n",
    "from sklearn.linear_model import LogisticRegression\n",
    "\n",
    "# instantiate the model (using the default parameters)\n",
    "logreg = LogisticRegression()\n",
    "\n",
    "# fit the model with data\n",
    "logreg.fit(X_train_b,y_train)"
   ]
  },
  {
   "cell_type": "code",
   "execution_count": 74,
   "metadata": {},
   "outputs": [
    {
     "name": "stdout",
     "output_type": "stream",
     "text": [
      "Precision:  0.9759766988726489\n",
      "Recall:  0.9529769573992557\n",
      "F1-score:  0.9614288331664409\n",
      "Accuracy:  0.9757921419518377\n"
     ]
    }
   ],
   "source": [
    "vd_preds_G = logreg.predict(X_test_b)\n",
    "\n",
    "print(\"Precision: \",precision_score(y_test,vd_preds_G,average='macro'))\n",
    "print(\"Recall: \", recall_score(y_test,vd_preds_G,average='macro'))\n",
    "print(\"F1-score: \", f1_score(y_test,vd_preds_G,average='macro'))\n",
    "print(\"Accuracy: \", accuracy_score(y_test,vd_preds_G))"
   ]
  },
  {
   "cell_type": "code",
   "execution_count": null,
   "metadata": {},
   "outputs": [],
   "source": []
  },
  {
   "cell_type": "code",
   "execution_count": 75,
   "metadata": {},
   "outputs": [],
   "source": [
    "#NB"
   ]
  },
  {
   "cell_type": "code",
   "execution_count": 76,
   "metadata": {},
   "outputs": [
    {
     "data": {
      "text/html": [
       "<style>#sk-container-id-3 {color: black;background-color: white;}#sk-container-id-3 pre{padding: 0;}#sk-container-id-3 div.sk-toggleable {background-color: white;}#sk-container-id-3 label.sk-toggleable__label {cursor: pointer;display: block;width: 100%;margin-bottom: 0;padding: 0.3em;box-sizing: border-box;text-align: center;}#sk-container-id-3 label.sk-toggleable__label-arrow:before {content: \"▸\";float: left;margin-right: 0.25em;color: #696969;}#sk-container-id-3 label.sk-toggleable__label-arrow:hover:before {color: black;}#sk-container-id-3 div.sk-estimator:hover label.sk-toggleable__label-arrow:before {color: black;}#sk-container-id-3 div.sk-toggleable__content {max-height: 0;max-width: 0;overflow: hidden;text-align: left;background-color: #f0f8ff;}#sk-container-id-3 div.sk-toggleable__content pre {margin: 0.2em;color: black;border-radius: 0.25em;background-color: #f0f8ff;}#sk-container-id-3 input.sk-toggleable__control:checked~div.sk-toggleable__content {max-height: 200px;max-width: 100%;overflow: auto;}#sk-container-id-3 input.sk-toggleable__control:checked~label.sk-toggleable__label-arrow:before {content: \"▾\";}#sk-container-id-3 div.sk-estimator input.sk-toggleable__control:checked~label.sk-toggleable__label {background-color: #d4ebff;}#sk-container-id-3 div.sk-label input.sk-toggleable__control:checked~label.sk-toggleable__label {background-color: #d4ebff;}#sk-container-id-3 input.sk-hidden--visually {border: 0;clip: rect(1px 1px 1px 1px);clip: rect(1px, 1px, 1px, 1px);height: 1px;margin: -1px;overflow: hidden;padding: 0;position: absolute;width: 1px;}#sk-container-id-3 div.sk-estimator {font-family: monospace;background-color: #f0f8ff;border: 1px dotted black;border-radius: 0.25em;box-sizing: border-box;margin-bottom: 0.5em;}#sk-container-id-3 div.sk-estimator:hover {background-color: #d4ebff;}#sk-container-id-3 div.sk-parallel-item::after {content: \"\";width: 100%;border-bottom: 1px solid gray;flex-grow: 1;}#sk-container-id-3 div.sk-label:hover label.sk-toggleable__label {background-color: #d4ebff;}#sk-container-id-3 div.sk-serial::before {content: \"\";position: absolute;border-left: 1px solid gray;box-sizing: border-box;top: 0;bottom: 0;left: 50%;z-index: 0;}#sk-container-id-3 div.sk-serial {display: flex;flex-direction: column;align-items: center;background-color: white;padding-right: 0.2em;padding-left: 0.2em;position: relative;}#sk-container-id-3 div.sk-item {position: relative;z-index: 1;}#sk-container-id-3 div.sk-parallel {display: flex;align-items: stretch;justify-content: center;background-color: white;position: relative;}#sk-container-id-3 div.sk-item::before, #sk-container-id-3 div.sk-parallel-item::before {content: \"\";position: absolute;border-left: 1px solid gray;box-sizing: border-box;top: 0;bottom: 0;left: 50%;z-index: -1;}#sk-container-id-3 div.sk-parallel-item {display: flex;flex-direction: column;z-index: 1;position: relative;background-color: white;}#sk-container-id-3 div.sk-parallel-item:first-child::after {align-self: flex-end;width: 50%;}#sk-container-id-3 div.sk-parallel-item:last-child::after {align-self: flex-start;width: 50%;}#sk-container-id-3 div.sk-parallel-item:only-child::after {width: 0;}#sk-container-id-3 div.sk-dashed-wrapped {border: 1px dashed gray;margin: 0 0.4em 0.5em 0.4em;box-sizing: border-box;padding-bottom: 0.4em;background-color: white;}#sk-container-id-3 div.sk-label label {font-family: monospace;font-weight: bold;display: inline-block;line-height: 1.2em;}#sk-container-id-3 div.sk-label-container {text-align: center;}#sk-container-id-3 div.sk-container {/* jupyter's `normalize.less` sets `[hidden] { display: none; }` but bootstrap.min.css set `[hidden] { display: none !important; }` so we also need the `!important` here to be able to override the default hidden behavior on the sphinx rendered scikit-learn.org. See: https://github.com/scikit-learn/scikit-learn/issues/21755 */display: inline-block !important;position: relative;}#sk-container-id-3 div.sk-text-repr-fallback {display: none;}</style><div id=\"sk-container-id-3\" class=\"sk-top-container\"><div class=\"sk-text-repr-fallback\"><pre>GaussianNB()</pre><b>In a Jupyter environment, please rerun this cell to show the HTML representation or trust the notebook. <br />On GitHub, the HTML representation is unable to render, please try loading this page with nbviewer.org.</b></div><div class=\"sk-container\" hidden><div class=\"sk-item\"><div class=\"sk-estimator sk-toggleable\"><input class=\"sk-toggleable__control sk-hidden--visually\" id=\"sk-estimator-id-3\" type=\"checkbox\" checked><label for=\"sk-estimator-id-3\" class=\"sk-toggleable__label sk-toggleable__label-arrow\">GaussianNB</label><div class=\"sk-toggleable__content\"><pre>GaussianNB()</pre></div></div></div></div></div>"
      ],
      "text/plain": [
       "GaussianNB()"
      ]
     },
     "execution_count": 76,
     "metadata": {},
     "output_type": "execute_result"
    }
   ],
   "source": [
    "from sklearn.naive_bayes import GaussianNB\n",
    "classifier = GaussianNB()\n",
    "classifier.fit(X_train_b, y_train)"
   ]
  },
  {
   "cell_type": "code",
   "execution_count": 77,
   "metadata": {},
   "outputs": [
    {
     "name": "stdout",
     "output_type": "stream",
     "text": [
      "Precision:  0.9071030024951384\n",
      "Recall:  0.8776276829073723\n",
      "F1-score:  0.8801936517871118\n",
      "Accuracy:  0.9184727503168568\n"
     ]
    }
   ],
   "source": [
    "vd_preds_G = classifier.predict(X_test_b)\n",
    "\n",
    "print(\"Precision: \",precision_score(y_test,vd_preds_G,average='macro'))\n",
    "print(\"Recall: \", recall_score(y_test,vd_preds_G,average='macro'))\n",
    "print(\"F1-score: \", f1_score(y_test,vd_preds_G,average='macro'))\n",
    "print(\"Accuracy: \", accuracy_score(y_test,vd_preds_G))"
   ]
  },
  {
   "cell_type": "code",
   "execution_count": null,
   "metadata": {},
   "outputs": [],
   "source": []
  },
  {
   "cell_type": "code",
   "execution_count": 78,
   "metadata": {},
   "outputs": [],
   "source": [
    "#SVM"
   ]
  },
  {
   "cell_type": "code",
   "execution_count": 79,
   "metadata": {},
   "outputs": [
    {
     "data": {
      "text/html": [
       "<style>#sk-container-id-4 {color: black;background-color: white;}#sk-container-id-4 pre{padding: 0;}#sk-container-id-4 div.sk-toggleable {background-color: white;}#sk-container-id-4 label.sk-toggleable__label {cursor: pointer;display: block;width: 100%;margin-bottom: 0;padding: 0.3em;box-sizing: border-box;text-align: center;}#sk-container-id-4 label.sk-toggleable__label-arrow:before {content: \"▸\";float: left;margin-right: 0.25em;color: #696969;}#sk-container-id-4 label.sk-toggleable__label-arrow:hover:before {color: black;}#sk-container-id-4 div.sk-estimator:hover label.sk-toggleable__label-arrow:before {color: black;}#sk-container-id-4 div.sk-toggleable__content {max-height: 0;max-width: 0;overflow: hidden;text-align: left;background-color: #f0f8ff;}#sk-container-id-4 div.sk-toggleable__content pre {margin: 0.2em;color: black;border-radius: 0.25em;background-color: #f0f8ff;}#sk-container-id-4 input.sk-toggleable__control:checked~div.sk-toggleable__content {max-height: 200px;max-width: 100%;overflow: auto;}#sk-container-id-4 input.sk-toggleable__control:checked~label.sk-toggleable__label-arrow:before {content: \"▾\";}#sk-container-id-4 div.sk-estimator input.sk-toggleable__control:checked~label.sk-toggleable__label {background-color: #d4ebff;}#sk-container-id-4 div.sk-label input.sk-toggleable__control:checked~label.sk-toggleable__label {background-color: #d4ebff;}#sk-container-id-4 input.sk-hidden--visually {border: 0;clip: rect(1px 1px 1px 1px);clip: rect(1px, 1px, 1px, 1px);height: 1px;margin: -1px;overflow: hidden;padding: 0;position: absolute;width: 1px;}#sk-container-id-4 div.sk-estimator {font-family: monospace;background-color: #f0f8ff;border: 1px dotted black;border-radius: 0.25em;box-sizing: border-box;margin-bottom: 0.5em;}#sk-container-id-4 div.sk-estimator:hover {background-color: #d4ebff;}#sk-container-id-4 div.sk-parallel-item::after {content: \"\";width: 100%;border-bottom: 1px solid gray;flex-grow: 1;}#sk-container-id-4 div.sk-label:hover label.sk-toggleable__label {background-color: #d4ebff;}#sk-container-id-4 div.sk-serial::before {content: \"\";position: absolute;border-left: 1px solid gray;box-sizing: border-box;top: 0;bottom: 0;left: 50%;z-index: 0;}#sk-container-id-4 div.sk-serial {display: flex;flex-direction: column;align-items: center;background-color: white;padding-right: 0.2em;padding-left: 0.2em;position: relative;}#sk-container-id-4 div.sk-item {position: relative;z-index: 1;}#sk-container-id-4 div.sk-parallel {display: flex;align-items: stretch;justify-content: center;background-color: white;position: relative;}#sk-container-id-4 div.sk-item::before, #sk-container-id-4 div.sk-parallel-item::before {content: \"\";position: absolute;border-left: 1px solid gray;box-sizing: border-box;top: 0;bottom: 0;left: 50%;z-index: -1;}#sk-container-id-4 div.sk-parallel-item {display: flex;flex-direction: column;z-index: 1;position: relative;background-color: white;}#sk-container-id-4 div.sk-parallel-item:first-child::after {align-self: flex-end;width: 50%;}#sk-container-id-4 div.sk-parallel-item:last-child::after {align-self: flex-start;width: 50%;}#sk-container-id-4 div.sk-parallel-item:only-child::after {width: 0;}#sk-container-id-4 div.sk-dashed-wrapped {border: 1px dashed gray;margin: 0 0.4em 0.5em 0.4em;box-sizing: border-box;padding-bottom: 0.4em;background-color: white;}#sk-container-id-4 div.sk-label label {font-family: monospace;font-weight: bold;display: inline-block;line-height: 1.2em;}#sk-container-id-4 div.sk-label-container {text-align: center;}#sk-container-id-4 div.sk-container {/* jupyter's `normalize.less` sets `[hidden] { display: none; }` but bootstrap.min.css set `[hidden] { display: none !important; }` so we also need the `!important` here to be able to override the default hidden behavior on the sphinx rendered scikit-learn.org. See: https://github.com/scikit-learn/scikit-learn/issues/21755 */display: inline-block !important;position: relative;}#sk-container-id-4 div.sk-text-repr-fallback {display: none;}</style><div id=\"sk-container-id-4\" class=\"sk-top-container\"><div class=\"sk-text-repr-fallback\"><pre>SVC(kernel=&#x27;linear&#x27;)</pre><b>In a Jupyter environment, please rerun this cell to show the HTML representation or trust the notebook. <br />On GitHub, the HTML representation is unable to render, please try loading this page with nbviewer.org.</b></div><div class=\"sk-container\" hidden><div class=\"sk-item\"><div class=\"sk-estimator sk-toggleable\"><input class=\"sk-toggleable__control sk-hidden--visually\" id=\"sk-estimator-id-4\" type=\"checkbox\" checked><label for=\"sk-estimator-id-4\" class=\"sk-toggleable__label sk-toggleable__label-arrow\">SVC</label><div class=\"sk-toggleable__content\"><pre>SVC(kernel=&#x27;linear&#x27;)</pre></div></div></div></div></div>"
      ],
      "text/plain": [
       "SVC(kernel='linear')"
      ]
     },
     "execution_count": 79,
     "metadata": {},
     "output_type": "execute_result"
    }
   ],
   "source": [
    "from sklearn import svm\n",
    "clf = svm.SVC(kernel='linear')\n",
    "clf.fit(X_train_b, y_train)"
   ]
  },
  {
   "cell_type": "code",
   "execution_count": 80,
   "metadata": {},
   "outputs": [
    {
     "name": "stdout",
     "output_type": "stream",
     "text": [
      "Precision:  0.9882829788139428\n",
      "Recall:  0.9772702758407922\n",
      "F1-score:  0.9820851576600761\n",
      "Accuracy:  0.9879594423320659\n"
     ]
    }
   ],
   "source": [
    "vd_preds_G = clf.predict(X_test_b)\n",
    "\n",
    "print(\"Precision: \",precision_score(y_test,vd_preds_G,average='macro'))\n",
    "print(\"Recall: \", recall_score(y_test,vd_preds_G,average='macro'))\n",
    "print(\"F1-score: \", f1_score(y_test,vd_preds_G,average='macro'))\n",
    "print(\"Accuracy: \", accuracy_score(y_test,vd_preds_G))"
   ]
  },
  {
   "cell_type": "code",
   "execution_count": null,
   "metadata": {},
   "outputs": [],
   "source": []
  },
  {
   "cell_type": "code",
   "execution_count": null,
   "metadata": {},
   "outputs": [],
   "source": []
  },
  {
   "cell_type": "code",
   "execution_count": null,
   "metadata": {},
   "outputs": [],
   "source": []
  },
  {
   "cell_type": "code",
   "execution_count": null,
   "metadata": {},
   "outputs": [],
   "source": []
  },
  {
   "cell_type": "code",
   "execution_count": null,
   "metadata": {},
   "outputs": [],
   "source": []
  }
 ],
 "metadata": {
  "kernelspec": {
   "display_name": "Python 3",
   "language": "python",
   "name": "python3"
  },
  "language_info": {
   "codemirror_mode": {
    "name": "ipython",
    "version": 3
   },
   "file_extension": ".py",
   "mimetype": "text/x-python",
   "name": "python",
   "nbconvert_exporter": "python",
   "pygments_lexer": "ipython3",
   "version": "3.8.5"
  }
 },
 "nbformat": 4,
 "nbformat_minor": 4
}
